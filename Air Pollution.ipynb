{
 "cells": [
  {
   "cell_type": "code",
   "execution_count": 1,
   "metadata": {},
   "outputs": [],
   "source": [
    "import pandas as pd\n",
    "import numpy as np\n",
    "import matplotlib.pyplot as plt\n",
    "%matplotlib inline\n",
    "import seaborn as sns\n",
    "import warnings\n",
    "warnings.filterwarnings('ignore')"
   ]
  },
  {
   "cell_type": "code",
   "execution_count": 2,
   "metadata": {},
   "outputs": [
    {
     "data": {
      "text/html": [
       "<div>\n",
       "<style scoped>\n",
       "    .dataframe tbody tr th:only-of-type {\n",
       "        vertical-align: middle;\n",
       "    }\n",
       "\n",
       "    .dataframe tbody tr th {\n",
       "        vertical-align: top;\n",
       "    }\n",
       "\n",
       "    .dataframe thead th {\n",
       "        text-align: right;\n",
       "    }\n",
       "</style>\n",
       "<table border=\"1\" class=\"dataframe\">\n",
       "  <thead>\n",
       "    <tr style=\"text-align: right;\">\n",
       "      <th></th>\n",
       "      <th>Rank</th>\n",
       "      <th>City</th>\n",
       "      <th>2022</th>\n",
       "      <th>JAN</th>\n",
       "      <th>FEB</th>\n",
       "      <th>MAR</th>\n",
       "      <th>APR</th>\n",
       "      <th>MAY</th>\n",
       "      <th>JUN</th>\n",
       "      <th>JUL</th>\n",
       "      <th>AUG</th>\n",
       "      <th>SEP</th>\n",
       "      <th>OCT</th>\n",
       "      <th>NOV</th>\n",
       "      <th>DEC</th>\n",
       "      <th>2021</th>\n",
       "      <th>2020</th>\n",
       "      <th>2019</th>\n",
       "      <th>2018</th>\n",
       "      <th>2017</th>\n",
       "    </tr>\n",
       "  </thead>\n",
       "  <tbody>\n",
       "    <tr>\n",
       "      <th>0</th>\n",
       "      <td>1</td>\n",
       "      <td>PakistanLahore, Pakistan</td>\n",
       "      <td>97.4</td>\n",
       "      <td>133</td>\n",
       "      <td>102.5</td>\n",
       "      <td>85.6</td>\n",
       "      <td>69.3</td>\n",
       "      <td>60.9</td>\n",
       "      <td>52.1</td>\n",
       "      <td>47.8</td>\n",
       "      <td>46.2</td>\n",
       "      <td>64.2</td>\n",
       "      <td>123.2</td>\n",
       "      <td>190.5</td>\n",
       "      <td>192.9</td>\n",
       "      <td>86.5</td>\n",
       "      <td>79.2</td>\n",
       "      <td>89.5</td>\n",
       "      <td>114.9</td>\n",
       "      <td>133.2</td>\n",
       "    </tr>\n",
       "    <tr>\n",
       "      <th>1</th>\n",
       "      <td>2</td>\n",
       "      <td>ChinaHotan, China</td>\n",
       "      <td>94.3</td>\n",
       "      <td>61.7</td>\n",
       "      <td>91.6</td>\n",
       "      <td>132.7</td>\n",
       "      <td>106.2</td>\n",
       "      <td>120.5</td>\n",
       "      <td>69.5</td>\n",
       "      <td>172.5</td>\n",
       "      <td>75</td>\n",
       "      <td>65.1</td>\n",
       "      <td>75</td>\n",
       "      <td>50.3</td>\n",
       "      <td>120</td>\n",
       "      <td>101.5</td>\n",
       "      <td>110.2</td>\n",
       "      <td>110.1</td>\n",
       "      <td>116</td>\n",
       "      <td>91.9</td>\n",
       "    </tr>\n",
       "    <tr>\n",
       "      <th>2</th>\n",
       "      <td>3</td>\n",
       "      <td>IndiaBhiwadi, India</td>\n",
       "      <td>92.7</td>\n",
       "      <td>110.6</td>\n",
       "      <td>98</td>\n",
       "      <td>116.2</td>\n",
       "      <td>149.5</td>\n",
       "      <td>123.8</td>\n",
       "      <td>102.8</td>\n",
       "      <td>38.8</td>\n",
       "      <td>36.5</td>\n",
       "      <td>59.9</td>\n",
       "      <td>85.4</td>\n",
       "      <td>111.4</td>\n",
       "      <td>86.9</td>\n",
       "      <td>106.2</td>\n",
       "      <td>95.5</td>\n",
       "      <td>83.4</td>\n",
       "      <td>125.4</td>\n",
       "      <td>-</td>\n",
       "    </tr>\n",
       "    <tr>\n",
       "      <th>3</th>\n",
       "      <td>4</td>\n",
       "      <td>IndiaDelhi (NCT), India</td>\n",
       "      <td>92.6</td>\n",
       "      <td>141</td>\n",
       "      <td>100.9</td>\n",
       "      <td>91</td>\n",
       "      <td>98</td>\n",
       "      <td>73.2</td>\n",
       "      <td>56.2</td>\n",
       "      <td>34.3</td>\n",
       "      <td>31.1</td>\n",
       "      <td>38.3</td>\n",
       "      <td>99.7</td>\n",
       "      <td>176.8</td>\n",
       "      <td>171.9</td>\n",
       "      <td>96.4</td>\n",
       "      <td>84.1</td>\n",
       "      <td>98.6</td>\n",
       "      <td>113.5</td>\n",
       "      <td>108.2</td>\n",
       "    </tr>\n",
       "    <tr>\n",
       "      <th>4</th>\n",
       "      <td>5</td>\n",
       "      <td>PakistanPeshawar, Pakistan</td>\n",
       "      <td>91.8</td>\n",
       "      <td>110.2</td>\n",
       "      <td>103.5</td>\n",
       "      <td>78.3</td>\n",
       "      <td>68.5</td>\n",
       "      <td>53.5</td>\n",
       "      <td>56.3</td>\n",
       "      <td>51.8</td>\n",
       "      <td>57.8</td>\n",
       "      <td>79</td>\n",
       "      <td>100</td>\n",
       "      <td>132</td>\n",
       "      <td>212.1</td>\n",
       "      <td>89.6</td>\n",
       "      <td>-</td>\n",
       "      <td>63.9</td>\n",
       "      <td>-</td>\n",
       "      <td>-</td>\n",
       "    </tr>\n",
       "    <tr>\n",
       "      <th>...</th>\n",
       "      <td>...</td>\n",
       "      <td>...</td>\n",
       "      <td>...</td>\n",
       "      <td>...</td>\n",
       "      <td>...</td>\n",
       "      <td>...</td>\n",
       "      <td>...</td>\n",
       "      <td>...</td>\n",
       "      <td>...</td>\n",
       "      <td>...</td>\n",
       "      <td>...</td>\n",
       "      <td>...</td>\n",
       "      <td>...</td>\n",
       "      <td>...</td>\n",
       "      <td>...</td>\n",
       "      <td>...</td>\n",
       "      <td>...</td>\n",
       "      <td>...</td>\n",
       "      <td>...</td>\n",
       "      <td>...</td>\n",
       "    </tr>\n",
       "    <tr>\n",
       "      <th>7318</th>\n",
       "      <td>7319</td>\n",
       "      <td>USACastroville, USA</td>\n",
       "      <td>0.8</td>\n",
       "      <td>0.3</td>\n",
       "      <td>0.4</td>\n",
       "      <td>0.4</td>\n",
       "      <td>0.6</td>\n",
       "      <td>0.5</td>\n",
       "      <td>1</td>\n",
       "      <td>0.6</td>\n",
       "      <td>0.9</td>\n",
       "      <td>1.5</td>\n",
       "      <td>1.5</td>\n",
       "      <td>1.7</td>\n",
       "      <td>1.4</td>\n",
       "      <td>7.5</td>\n",
       "      <td>-</td>\n",
       "      <td>-</td>\n",
       "      <td>-</td>\n",
       "      <td>-</td>\n",
       "    </tr>\n",
       "    <tr>\n",
       "      <th>7319</th>\n",
       "      <td>7320</td>\n",
       "      <td>USAWilson, USA</td>\n",
       "      <td>0.8</td>\n",
       "      <td>0.9</td>\n",
       "      <td>0.8</td>\n",
       "      <td>0.5</td>\n",
       "      <td>0.6</td>\n",
       "      <td>0.5</td>\n",
       "      <td>0.8</td>\n",
       "      <td>1.2</td>\n",
       "      <td>1.4</td>\n",
       "      <td>1.1</td>\n",
       "      <td>1.1</td>\n",
       "      <td>0.8</td>\n",
       "      <td>0.6</td>\n",
       "      <td>7.7</td>\n",
       "      <td>-</td>\n",
       "      <td>-</td>\n",
       "      <td>-</td>\n",
       "      <td>-</td>\n",
       "    </tr>\n",
       "    <tr>\n",
       "      <th>7320</th>\n",
       "      <td>7321</td>\n",
       "      <td>USARoanoke Rapids, USA</td>\n",
       "      <td>0.6</td>\n",
       "      <td>0.8</td>\n",
       "      <td>0.7</td>\n",
       "      <td>0.5</td>\n",
       "      <td>0.4</td>\n",
       "      <td>0.5</td>\n",
       "      <td>0.6</td>\n",
       "      <td>0.5</td>\n",
       "      <td>0.3</td>\n",
       "      <td>0.5</td>\n",
       "      <td>0.7</td>\n",
       "      <td>0.6</td>\n",
       "      <td>0.8</td>\n",
       "      <td>2.9</td>\n",
       "      <td>-</td>\n",
       "      <td>7.1</td>\n",
       "      <td>-</td>\n",
       "      <td>-</td>\n",
       "    </tr>\n",
       "    <tr>\n",
       "      <th>7321</th>\n",
       "      <td>7322</td>\n",
       "      <td>IndonesiaKuta, Indonesia</td>\n",
       "      <td>0.5</td>\n",
       "      <td>2.3</td>\n",
       "      <td>0.9</td>\n",
       "      <td>0.3</td>\n",
       "      <td>0.5</td>\n",
       "      <td>0.6</td>\n",
       "      <td>0.5</td>\n",
       "      <td>0.3</td>\n",
       "      <td>0.4</td>\n",
       "      <td>0.3</td>\n",
       "      <td>0.2</td>\n",
       "      <td>0.4</td>\n",
       "      <td>0.3</td>\n",
       "      <td>9.8</td>\n",
       "      <td>13</td>\n",
       "      <td>-</td>\n",
       "      <td>-</td>\n",
       "      <td>-</td>\n",
       "    </tr>\n",
       "    <tr>\n",
       "      <th>7322</th>\n",
       "      <td>7323</td>\n",
       "      <td>USAArch Cape, USA</td>\n",
       "      <td>0.2</td>\n",
       "      <td>0.2</td>\n",
       "      <td>0.1</td>\n",
       "      <td>0.1</td>\n",
       "      <td>0.1</td>\n",
       "      <td>0.1</td>\n",
       "      <td>0.1</td>\n",
       "      <td>0.1</td>\n",
       "      <td>0.1</td>\n",
       "      <td>0.3</td>\n",
       "      <td>0.3</td>\n",
       "      <td>0.8</td>\n",
       "      <td>1</td>\n",
       "      <td>-</td>\n",
       "      <td>-</td>\n",
       "      <td>-</td>\n",
       "      <td>-</td>\n",
       "      <td>-</td>\n",
       "    </tr>\n",
       "  </tbody>\n",
       "</table>\n",
       "<p>7323 rows × 20 columns</p>\n",
       "</div>"
      ],
      "text/plain": [
       "      Rank                        City  2022    JAN    FEB    MAR    APR  \\\n",
       "0        1    PakistanLahore, Pakistan  97.4    133  102.5   85.6   69.3   \n",
       "1        2           ChinaHotan, China  94.3   61.7   91.6  132.7  106.2   \n",
       "2        3         IndiaBhiwadi, India  92.7  110.6     98  116.2  149.5   \n",
       "3        4     IndiaDelhi (NCT), India  92.6    141  100.9     91     98   \n",
       "4        5  PakistanPeshawar, Pakistan  91.8  110.2  103.5   78.3   68.5   \n",
       "...    ...                         ...   ...    ...    ...    ...    ...   \n",
       "7318  7319         USACastroville, USA   0.8    0.3    0.4    0.4    0.6   \n",
       "7319  7320              USAWilson, USA   0.8    0.9    0.8    0.5    0.6   \n",
       "7320  7321      USARoanoke Rapids, USA   0.6    0.8    0.7    0.5    0.4   \n",
       "7321  7322    IndonesiaKuta, Indonesia   0.5    2.3    0.9    0.3    0.5   \n",
       "7322  7323           USAArch Cape, USA   0.2    0.2    0.1    0.1    0.1   \n",
       "\n",
       "        MAY    JUN    JUL   AUG   SEP    OCT    NOV    DEC   2021   2020  \\\n",
       "0      60.9   52.1   47.8  46.2  64.2  123.2  190.5  192.9   86.5   79.2   \n",
       "1     120.5   69.5  172.5    75  65.1     75   50.3    120  101.5  110.2   \n",
       "2     123.8  102.8   38.8  36.5  59.9   85.4  111.4   86.9  106.2   95.5   \n",
       "3      73.2   56.2   34.3  31.1  38.3   99.7  176.8  171.9   96.4   84.1   \n",
       "4      53.5   56.3   51.8  57.8    79    100    132  212.1   89.6      -   \n",
       "...     ...    ...    ...   ...   ...    ...    ...    ...    ...    ...   \n",
       "7318    0.5      1    0.6   0.9   1.5    1.5    1.7    1.4    7.5      -   \n",
       "7319    0.5    0.8    1.2   1.4   1.1    1.1    0.8    0.6    7.7      -   \n",
       "7320    0.5    0.6    0.5   0.3   0.5    0.7    0.6    0.8    2.9      -   \n",
       "7321    0.6    0.5    0.3   0.4   0.3    0.2    0.4    0.3    9.8     13   \n",
       "7322    0.1    0.1    0.1   0.1   0.3    0.3    0.8      1      -      -   \n",
       "\n",
       "       2019   2018   2017  \n",
       "0      89.5  114.9  133.2  \n",
       "1     110.1    116   91.9  \n",
       "2      83.4  125.4      -  \n",
       "3      98.6  113.5  108.2  \n",
       "4      63.9      -      -  \n",
       "...     ...    ...    ...  \n",
       "7318      -      -      -  \n",
       "7319      -      -      -  \n",
       "7320    7.1      -      -  \n",
       "7321      -      -      -  \n",
       "7322      -      -      -  \n",
       "\n",
       "[7323 rows x 20 columns]"
      ]
     },
     "execution_count": 2,
     "metadata": {},
     "output_type": "execute_result"
    }
   ],
   "source": [
    "df=pd.read_csv('Air Pollution.csv',encoding = 'unicode_escape')\n",
    "df"
   ]
  },
  {
   "cell_type": "code",
   "execution_count": 3,
   "metadata": {},
   "outputs": [
    {
     "data": {
      "text/html": [
       "<div>\n",
       "<style scoped>\n",
       "    .dataframe tbody tr th:only-of-type {\n",
       "        vertical-align: middle;\n",
       "    }\n",
       "\n",
       "    .dataframe tbody tr th {\n",
       "        vertical-align: top;\n",
       "    }\n",
       "\n",
       "    .dataframe thead th {\n",
       "        text-align: right;\n",
       "    }\n",
       "</style>\n",
       "<table border=\"1\" class=\"dataframe\">\n",
       "  <thead>\n",
       "    <tr style=\"text-align: right;\">\n",
       "      <th></th>\n",
       "      <th>Rank</th>\n",
       "      <th>City</th>\n",
       "      <th>2022</th>\n",
       "      <th>JAN</th>\n",
       "      <th>FEB</th>\n",
       "      <th>MAR</th>\n",
       "      <th>APR</th>\n",
       "      <th>MAY</th>\n",
       "      <th>JUN</th>\n",
       "      <th>JUL</th>\n",
       "      <th>AUG</th>\n",
       "      <th>SEP</th>\n",
       "      <th>OCT</th>\n",
       "      <th>NOV</th>\n",
       "      <th>DEC</th>\n",
       "      <th>2021</th>\n",
       "      <th>2020</th>\n",
       "      <th>2019</th>\n",
       "      <th>2018</th>\n",
       "      <th>2017</th>\n",
       "    </tr>\n",
       "  </thead>\n",
       "  <tbody>\n",
       "    <tr>\n",
       "      <th>0</th>\n",
       "      <td>1</td>\n",
       "      <td>PakistanLahore, Pakistan</td>\n",
       "      <td>97.4</td>\n",
       "      <td>133</td>\n",
       "      <td>102.5</td>\n",
       "      <td>85.6</td>\n",
       "      <td>69.3</td>\n",
       "      <td>60.9</td>\n",
       "      <td>52.1</td>\n",
       "      <td>47.8</td>\n",
       "      <td>46.2</td>\n",
       "      <td>64.2</td>\n",
       "      <td>123.2</td>\n",
       "      <td>190.5</td>\n",
       "      <td>192.9</td>\n",
       "      <td>86.5</td>\n",
       "      <td>79.2</td>\n",
       "      <td>89.5</td>\n",
       "      <td>114.9</td>\n",
       "      <td>133.2</td>\n",
       "    </tr>\n",
       "    <tr>\n",
       "      <th>1</th>\n",
       "      <td>2</td>\n",
       "      <td>ChinaHotan, China</td>\n",
       "      <td>94.3</td>\n",
       "      <td>61.7</td>\n",
       "      <td>91.6</td>\n",
       "      <td>132.7</td>\n",
       "      <td>106.2</td>\n",
       "      <td>120.5</td>\n",
       "      <td>69.5</td>\n",
       "      <td>172.5</td>\n",
       "      <td>75</td>\n",
       "      <td>65.1</td>\n",
       "      <td>75</td>\n",
       "      <td>50.3</td>\n",
       "      <td>120</td>\n",
       "      <td>101.5</td>\n",
       "      <td>110.2</td>\n",
       "      <td>110.1</td>\n",
       "      <td>116</td>\n",
       "      <td>91.9</td>\n",
       "    </tr>\n",
       "    <tr>\n",
       "      <th>2</th>\n",
       "      <td>3</td>\n",
       "      <td>IndiaBhiwadi, India</td>\n",
       "      <td>92.7</td>\n",
       "      <td>110.6</td>\n",
       "      <td>98</td>\n",
       "      <td>116.2</td>\n",
       "      <td>149.5</td>\n",
       "      <td>123.8</td>\n",
       "      <td>102.8</td>\n",
       "      <td>38.8</td>\n",
       "      <td>36.5</td>\n",
       "      <td>59.9</td>\n",
       "      <td>85.4</td>\n",
       "      <td>111.4</td>\n",
       "      <td>86.9</td>\n",
       "      <td>106.2</td>\n",
       "      <td>95.5</td>\n",
       "      <td>83.4</td>\n",
       "      <td>125.4</td>\n",
       "      <td>-</td>\n",
       "    </tr>\n",
       "    <tr>\n",
       "      <th>3</th>\n",
       "      <td>4</td>\n",
       "      <td>IndiaDelhi (NCT), India</td>\n",
       "      <td>92.6</td>\n",
       "      <td>141</td>\n",
       "      <td>100.9</td>\n",
       "      <td>91</td>\n",
       "      <td>98</td>\n",
       "      <td>73.2</td>\n",
       "      <td>56.2</td>\n",
       "      <td>34.3</td>\n",
       "      <td>31.1</td>\n",
       "      <td>38.3</td>\n",
       "      <td>99.7</td>\n",
       "      <td>176.8</td>\n",
       "      <td>171.9</td>\n",
       "      <td>96.4</td>\n",
       "      <td>84.1</td>\n",
       "      <td>98.6</td>\n",
       "      <td>113.5</td>\n",
       "      <td>108.2</td>\n",
       "    </tr>\n",
       "    <tr>\n",
       "      <th>4</th>\n",
       "      <td>5</td>\n",
       "      <td>PakistanPeshawar, Pakistan</td>\n",
       "      <td>91.8</td>\n",
       "      <td>110.2</td>\n",
       "      <td>103.5</td>\n",
       "      <td>78.3</td>\n",
       "      <td>68.5</td>\n",
       "      <td>53.5</td>\n",
       "      <td>56.3</td>\n",
       "      <td>51.8</td>\n",
       "      <td>57.8</td>\n",
       "      <td>79</td>\n",
       "      <td>100</td>\n",
       "      <td>132</td>\n",
       "      <td>212.1</td>\n",
       "      <td>89.6</td>\n",
       "      <td>-</td>\n",
       "      <td>63.9</td>\n",
       "      <td>-</td>\n",
       "      <td>-</td>\n",
       "    </tr>\n",
       "  </tbody>\n",
       "</table>\n",
       "</div>"
      ],
      "text/plain": [
       "   Rank                        City  2022    JAN    FEB    MAR    APR    MAY  \\\n",
       "0     1    PakistanLahore, Pakistan  97.4    133  102.5   85.6   69.3   60.9   \n",
       "1     2           ChinaHotan, China  94.3   61.7   91.6  132.7  106.2  120.5   \n",
       "2     3         IndiaBhiwadi, India  92.7  110.6     98  116.2  149.5  123.8   \n",
       "3     4     IndiaDelhi (NCT), India  92.6    141  100.9     91     98   73.2   \n",
       "4     5  PakistanPeshawar, Pakistan  91.8  110.2  103.5   78.3   68.5   53.5   \n",
       "\n",
       "     JUN    JUL   AUG   SEP    OCT    NOV    DEC   2021   2020   2019   2018  \\\n",
       "0   52.1   47.8  46.2  64.2  123.2  190.5  192.9   86.5   79.2   89.5  114.9   \n",
       "1   69.5  172.5    75  65.1     75   50.3    120  101.5  110.2  110.1    116   \n",
       "2  102.8   38.8  36.5  59.9   85.4  111.4   86.9  106.2   95.5   83.4  125.4   \n",
       "3   56.2   34.3  31.1  38.3   99.7  176.8  171.9   96.4   84.1   98.6  113.5   \n",
       "4   56.3   51.8  57.8    79    100    132  212.1   89.6      -   63.9      -   \n",
       "\n",
       "    2017  \n",
       "0  133.2  \n",
       "1   91.9  \n",
       "2      -  \n",
       "3  108.2  \n",
       "4      -  "
      ]
     },
     "execution_count": 3,
     "metadata": {},
     "output_type": "execute_result"
    }
   ],
   "source": [
    "df.head()"
   ]
  },
  {
   "cell_type": "code",
   "execution_count": 4,
   "metadata": {},
   "outputs": [
    {
     "data": {
      "text/html": [
       "<div>\n",
       "<style scoped>\n",
       "    .dataframe tbody tr th:only-of-type {\n",
       "        vertical-align: middle;\n",
       "    }\n",
       "\n",
       "    .dataframe tbody tr th {\n",
       "        vertical-align: top;\n",
       "    }\n",
       "\n",
       "    .dataframe thead th {\n",
       "        text-align: right;\n",
       "    }\n",
       "</style>\n",
       "<table border=\"1\" class=\"dataframe\">\n",
       "  <thead>\n",
       "    <tr style=\"text-align: right;\">\n",
       "      <th></th>\n",
       "      <th>Rank</th>\n",
       "      <th>City</th>\n",
       "      <th>2022</th>\n",
       "      <th>JAN</th>\n",
       "      <th>FEB</th>\n",
       "      <th>MAR</th>\n",
       "      <th>APR</th>\n",
       "      <th>MAY</th>\n",
       "      <th>JUN</th>\n",
       "      <th>JUL</th>\n",
       "      <th>AUG</th>\n",
       "      <th>SEP</th>\n",
       "      <th>OCT</th>\n",
       "      <th>NOV</th>\n",
       "      <th>DEC</th>\n",
       "      <th>2021</th>\n",
       "      <th>2020</th>\n",
       "      <th>2019</th>\n",
       "      <th>2018</th>\n",
       "      <th>2017</th>\n",
       "    </tr>\n",
       "  </thead>\n",
       "  <tbody>\n",
       "    <tr>\n",
       "      <th>7318</th>\n",
       "      <td>7319</td>\n",
       "      <td>USACastroville, USA</td>\n",
       "      <td>0.8</td>\n",
       "      <td>0.3</td>\n",
       "      <td>0.4</td>\n",
       "      <td>0.4</td>\n",
       "      <td>0.6</td>\n",
       "      <td>0.5</td>\n",
       "      <td>1</td>\n",
       "      <td>0.6</td>\n",
       "      <td>0.9</td>\n",
       "      <td>1.5</td>\n",
       "      <td>1.5</td>\n",
       "      <td>1.7</td>\n",
       "      <td>1.4</td>\n",
       "      <td>7.5</td>\n",
       "      <td>-</td>\n",
       "      <td>-</td>\n",
       "      <td>-</td>\n",
       "      <td>-</td>\n",
       "    </tr>\n",
       "    <tr>\n",
       "      <th>7319</th>\n",
       "      <td>7320</td>\n",
       "      <td>USAWilson, USA</td>\n",
       "      <td>0.8</td>\n",
       "      <td>0.9</td>\n",
       "      <td>0.8</td>\n",
       "      <td>0.5</td>\n",
       "      <td>0.6</td>\n",
       "      <td>0.5</td>\n",
       "      <td>0.8</td>\n",
       "      <td>1.2</td>\n",
       "      <td>1.4</td>\n",
       "      <td>1.1</td>\n",
       "      <td>1.1</td>\n",
       "      <td>0.8</td>\n",
       "      <td>0.6</td>\n",
       "      <td>7.7</td>\n",
       "      <td>-</td>\n",
       "      <td>-</td>\n",
       "      <td>-</td>\n",
       "      <td>-</td>\n",
       "    </tr>\n",
       "    <tr>\n",
       "      <th>7320</th>\n",
       "      <td>7321</td>\n",
       "      <td>USARoanoke Rapids, USA</td>\n",
       "      <td>0.6</td>\n",
       "      <td>0.8</td>\n",
       "      <td>0.7</td>\n",
       "      <td>0.5</td>\n",
       "      <td>0.4</td>\n",
       "      <td>0.5</td>\n",
       "      <td>0.6</td>\n",
       "      <td>0.5</td>\n",
       "      <td>0.3</td>\n",
       "      <td>0.5</td>\n",
       "      <td>0.7</td>\n",
       "      <td>0.6</td>\n",
       "      <td>0.8</td>\n",
       "      <td>2.9</td>\n",
       "      <td>-</td>\n",
       "      <td>7.1</td>\n",
       "      <td>-</td>\n",
       "      <td>-</td>\n",
       "    </tr>\n",
       "    <tr>\n",
       "      <th>7321</th>\n",
       "      <td>7322</td>\n",
       "      <td>IndonesiaKuta, Indonesia</td>\n",
       "      <td>0.5</td>\n",
       "      <td>2.3</td>\n",
       "      <td>0.9</td>\n",
       "      <td>0.3</td>\n",
       "      <td>0.5</td>\n",
       "      <td>0.6</td>\n",
       "      <td>0.5</td>\n",
       "      <td>0.3</td>\n",
       "      <td>0.4</td>\n",
       "      <td>0.3</td>\n",
       "      <td>0.2</td>\n",
       "      <td>0.4</td>\n",
       "      <td>0.3</td>\n",
       "      <td>9.8</td>\n",
       "      <td>13</td>\n",
       "      <td>-</td>\n",
       "      <td>-</td>\n",
       "      <td>-</td>\n",
       "    </tr>\n",
       "    <tr>\n",
       "      <th>7322</th>\n",
       "      <td>7323</td>\n",
       "      <td>USAArch Cape, USA</td>\n",
       "      <td>0.2</td>\n",
       "      <td>0.2</td>\n",
       "      <td>0.1</td>\n",
       "      <td>0.1</td>\n",
       "      <td>0.1</td>\n",
       "      <td>0.1</td>\n",
       "      <td>0.1</td>\n",
       "      <td>0.1</td>\n",
       "      <td>0.1</td>\n",
       "      <td>0.3</td>\n",
       "      <td>0.3</td>\n",
       "      <td>0.8</td>\n",
       "      <td>1</td>\n",
       "      <td>-</td>\n",
       "      <td>-</td>\n",
       "      <td>-</td>\n",
       "      <td>-</td>\n",
       "      <td>-</td>\n",
       "    </tr>\n",
       "  </tbody>\n",
       "</table>\n",
       "</div>"
      ],
      "text/plain": [
       "      Rank                      City  2022  JAN  FEB  MAR  APR  MAY  JUN  JUL  \\\n",
       "7318  7319       USACastroville, USA   0.8  0.3  0.4  0.4  0.6  0.5    1  0.6   \n",
       "7319  7320            USAWilson, USA   0.8  0.9  0.8  0.5  0.6  0.5  0.8  1.2   \n",
       "7320  7321    USARoanoke Rapids, USA   0.6  0.8  0.7  0.5  0.4  0.5  0.6  0.5   \n",
       "7321  7322  IndonesiaKuta, Indonesia   0.5  2.3  0.9  0.3  0.5  0.6  0.5  0.3   \n",
       "7322  7323         USAArch Cape, USA   0.2  0.2  0.1  0.1  0.1  0.1  0.1  0.1   \n",
       "\n",
       "      AUG  SEP  OCT  NOV  DEC 2021 2020 2019 2018 2017  \n",
       "7318  0.9  1.5  1.5  1.7  1.4  7.5    -    -    -    -  \n",
       "7319  1.4  1.1  1.1  0.8  0.6  7.7    -    -    -    -  \n",
       "7320  0.3  0.5  0.7  0.6  0.8  2.9    -  7.1    -    -  \n",
       "7321  0.4  0.3  0.2  0.4  0.3  9.8   13    -    -    -  \n",
       "7322  0.1  0.3  0.3  0.8    1    -    -    -    -    -  "
      ]
     },
     "execution_count": 4,
     "metadata": {},
     "output_type": "execute_result"
    }
   ],
   "source": [
    "df.tail()"
   ]
  },
  {
   "cell_type": "code",
   "execution_count": 5,
   "metadata": {},
   "outputs": [
    {
     "data": {
      "text/html": [
       "<div>\n",
       "<style scoped>\n",
       "    .dataframe tbody tr th:only-of-type {\n",
       "        vertical-align: middle;\n",
       "    }\n",
       "\n",
       "    .dataframe tbody tr th {\n",
       "        vertical-align: top;\n",
       "    }\n",
       "\n",
       "    .dataframe thead th {\n",
       "        text-align: right;\n",
       "    }\n",
       "</style>\n",
       "<table border=\"1\" class=\"dataframe\">\n",
       "  <thead>\n",
       "    <tr style=\"text-align: right;\">\n",
       "      <th></th>\n",
       "      <th>Rank</th>\n",
       "      <th>City</th>\n",
       "      <th>2022</th>\n",
       "      <th>JAN</th>\n",
       "      <th>FEB</th>\n",
       "      <th>MAR</th>\n",
       "      <th>APR</th>\n",
       "      <th>MAY</th>\n",
       "      <th>JUN</th>\n",
       "      <th>JUL</th>\n",
       "      <th>AUG</th>\n",
       "      <th>SEP</th>\n",
       "      <th>OCT</th>\n",
       "      <th>NOV</th>\n",
       "      <th>DEC</th>\n",
       "      <th>2021</th>\n",
       "      <th>2020</th>\n",
       "      <th>2019</th>\n",
       "      <th>2018</th>\n",
       "      <th>2017</th>\n",
       "    </tr>\n",
       "  </thead>\n",
       "  <tbody>\n",
       "    <tr>\n",
       "      <th>2416</th>\n",
       "      <td>2417</td>\n",
       "      <td>BelgiumSchoten, Belgium</td>\n",
       "      <td>11.4</td>\n",
       "      <td>17.3</td>\n",
       "      <td>8.7</td>\n",
       "      <td>21.6</td>\n",
       "      <td>10.2</td>\n",
       "      <td>9.7</td>\n",
       "      <td>7.4</td>\n",
       "      <td>6.1</td>\n",
       "      <td>7.7</td>\n",
       "      <td>6.5</td>\n",
       "      <td>9.2</td>\n",
       "      <td>11.9</td>\n",
       "      <td>19.2</td>\n",
       "      <td>12.7</td>\n",
       "      <td>11.4</td>\n",
       "      <td>12.8</td>\n",
       "      <td>14.5</td>\n",
       "      <td>14.3</td>\n",
       "    </tr>\n",
       "    <tr>\n",
       "      <th>3930</th>\n",
       "      <td>3931</td>\n",
       "      <td>USARed Rock, USA</td>\n",
       "      <td>9.0</td>\n",
       "      <td>6.3</td>\n",
       "      <td>7.3</td>\n",
       "      <td>11.1</td>\n",
       "      <td>11.7</td>\n",
       "      <td>9.3</td>\n",
       "      <td>11.2</td>\n",
       "      <td>9.2</td>\n",
       "      <td>9.4</td>\n",
       "      <td>9.1</td>\n",
       "      <td>7.7</td>\n",
       "      <td>9.1</td>\n",
       "      <td>8.2</td>\n",
       "      <td>-</td>\n",
       "      <td>-</td>\n",
       "      <td>-</td>\n",
       "      <td>-</td>\n",
       "      <td>-</td>\n",
       "    </tr>\n",
       "    <tr>\n",
       "      <th>3152</th>\n",
       "      <td>3153</td>\n",
       "      <td>USANorth Richland Hills, USA</td>\n",
       "      <td>10.1</td>\n",
       "      <td>10.9</td>\n",
       "      <td>9.5</td>\n",
       "      <td>9.2</td>\n",
       "      <td>9.6</td>\n",
       "      <td>12.3</td>\n",
       "      <td>10.7</td>\n",
       "      <td>7.9</td>\n",
       "      <td>7.1</td>\n",
       "      <td>11.2</td>\n",
       "      <td>10</td>\n",
       "      <td>11.9</td>\n",
       "      <td>11</td>\n",
       "      <td>12.3</td>\n",
       "      <td>-</td>\n",
       "      <td>-</td>\n",
       "      <td>-</td>\n",
       "      <td>-</td>\n",
       "    </tr>\n",
       "    <tr>\n",
       "      <th>763</th>\n",
       "      <td>764</td>\n",
       "      <td>ItalyPavia, Italy</td>\n",
       "      <td>23.7</td>\n",
       "      <td>39.7</td>\n",
       "      <td>28</td>\n",
       "      <td>34.3</td>\n",
       "      <td>14.6</td>\n",
       "      <td>15.3</td>\n",
       "      <td>12.7</td>\n",
       "      <td>11.4</td>\n",
       "      <td>11.2</td>\n",
       "      <td>12.4</td>\n",
       "      <td>33.2</td>\n",
       "      <td>35.6</td>\n",
       "      <td>35.9</td>\n",
       "      <td>22.3</td>\n",
       "      <td>-</td>\n",
       "      <td>-</td>\n",
       "      <td>-</td>\n",
       "      <td>-</td>\n",
       "    </tr>\n",
       "    <tr>\n",
       "      <th>1097</th>\n",
       "      <td>1098</td>\n",
       "      <td>MexicoBenito Juarez, Mexico</td>\n",
       "      <td>19.4</td>\n",
       "      <td>21</td>\n",
       "      <td>17</td>\n",
       "      <td>20.4</td>\n",
       "      <td>24.5</td>\n",
       "      <td>22.7</td>\n",
       "      <td>15.3</td>\n",
       "      <td>15.8</td>\n",
       "      <td>15.5</td>\n",
       "      <td>10.7</td>\n",
       "      <td>22</td>\n",
       "      <td>25.3</td>\n",
       "      <td>24.1</td>\n",
       "      <td>20.1</td>\n",
       "      <td>18.4</td>\n",
       "      <td>-</td>\n",
       "      <td>-</td>\n",
       "      <td>-</td>\n",
       "    </tr>\n",
       "    <tr>\n",
       "      <th>1955</th>\n",
       "      <td>1956</td>\n",
       "      <td>PolandKoscierzyna, Poland</td>\n",
       "      <td>13.1</td>\n",
       "      <td>16.1</td>\n",
       "      <td>11.3</td>\n",
       "      <td>25</td>\n",
       "      <td>9.8</td>\n",
       "      <td>7</td>\n",
       "      <td>7.8</td>\n",
       "      <td>5</td>\n",
       "      <td>8.5</td>\n",
       "      <td>8.6</td>\n",
       "      <td>14.7</td>\n",
       "      <td>20.3</td>\n",
       "      <td>24.3</td>\n",
       "      <td>20.4</td>\n",
       "      <td>17.4</td>\n",
       "      <td>-</td>\n",
       "      <td>-</td>\n",
       "      <td>-</td>\n",
       "    </tr>\n",
       "    <tr>\n",
       "      <th>6186</th>\n",
       "      <td>6187</td>\n",
       "      <td>CanadaBurin, Canada</td>\n",
       "      <td>5.8</td>\n",
       "      <td>6.2</td>\n",
       "      <td>5.4</td>\n",
       "      <td>8.9</td>\n",
       "      <td>8.2</td>\n",
       "      <td>6.8</td>\n",
       "      <td>8</td>\n",
       "      <td>7.3</td>\n",
       "      <td>3.7</td>\n",
       "      <td>4</td>\n",
       "      <td>4.4</td>\n",
       "      <td>4.8</td>\n",
       "      <td>3.5</td>\n",
       "      <td>4.9</td>\n",
       "      <td>4.6</td>\n",
       "      <td>3.8</td>\n",
       "      <td>-</td>\n",
       "      <td>-</td>\n",
       "    </tr>\n",
       "    <tr>\n",
       "      <th>5033</th>\n",
       "      <td>5034</td>\n",
       "      <td>JapanNiimi, Japan</td>\n",
       "      <td>7.6</td>\n",
       "      <td>5.7</td>\n",
       "      <td>6.8</td>\n",
       "      <td>9.4</td>\n",
       "      <td>9.9</td>\n",
       "      <td>10.1</td>\n",
       "      <td>9.5</td>\n",
       "      <td>7.9</td>\n",
       "      <td>8.2</td>\n",
       "      <td>5.7</td>\n",
       "      <td>6</td>\n",
       "      <td>7.6</td>\n",
       "      <td>4.8</td>\n",
       "      <td>7</td>\n",
       "      <td>7.2</td>\n",
       "      <td>8.6</td>\n",
       "      <td>9.3</td>\n",
       "      <td>9.1</td>\n",
       "    </tr>\n",
       "    <tr>\n",
       "      <th>5489</th>\n",
       "      <td>5490</td>\n",
       "      <td>USABel Marin Keys, USA</td>\n",
       "      <td>7.0</td>\n",
       "      <td>15.2</td>\n",
       "      <td>8.8</td>\n",
       "      <td>2.2</td>\n",
       "      <td>3.2</td>\n",
       "      <td>3</td>\n",
       "      <td>3.5</td>\n",
       "      <td>3.1</td>\n",
       "      <td>6.4</td>\n",
       "      <td>8.2</td>\n",
       "      <td>6.5</td>\n",
       "      <td>9.7</td>\n",
       "      <td>13.6</td>\n",
       "      <td>-</td>\n",
       "      <td>-</td>\n",
       "      <td>-</td>\n",
       "      <td>-</td>\n",
       "      <td>-</td>\n",
       "    </tr>\n",
       "    <tr>\n",
       "      <th>6760</th>\n",
       "      <td>6761</td>\n",
       "      <td>SwedenRasunda, Sweden</td>\n",
       "      <td>4.4</td>\n",
       "      <td>3.4</td>\n",
       "      <td>3.6</td>\n",
       "      <td>9.2</td>\n",
       "      <td>4.1</td>\n",
       "      <td>3.3</td>\n",
       "      <td>5.1</td>\n",
       "      <td>3.3</td>\n",
       "      <td>5.1</td>\n",
       "      <td>2.7</td>\n",
       "      <td>4.5</td>\n",
       "      <td>-</td>\n",
       "      <td>-</td>\n",
       "      <td>5</td>\n",
       "      <td>-</td>\n",
       "      <td>-</td>\n",
       "      <td>-</td>\n",
       "      <td>-</td>\n",
       "    </tr>\n",
       "  </tbody>\n",
       "</table>\n",
       "</div>"
      ],
      "text/plain": [
       "      Rank                          City  2022   JAN   FEB   MAR   APR   MAY  \\\n",
       "2416  2417       BelgiumSchoten, Belgium  11.4  17.3   8.7  21.6  10.2   9.7   \n",
       "3930  3931              USARed Rock, USA   9.0   6.3   7.3  11.1  11.7   9.3   \n",
       "3152  3153  USANorth Richland Hills, USA  10.1  10.9   9.5   9.2   9.6  12.3   \n",
       "763    764             ItalyPavia, Italy  23.7  39.7    28  34.3  14.6  15.3   \n",
       "1097  1098   MexicoBenito Juarez, Mexico  19.4    21    17  20.4  24.5  22.7   \n",
       "1955  1956     PolandKoscierzyna, Poland  13.1  16.1  11.3    25   9.8     7   \n",
       "6186  6187           CanadaBurin, Canada   5.8   6.2   5.4   8.9   8.2   6.8   \n",
       "5033  5034             JapanNiimi, Japan   7.6   5.7   6.8   9.4   9.9  10.1   \n",
       "5489  5490        USABel Marin Keys, USA   7.0  15.2   8.8   2.2   3.2     3   \n",
       "6760  6761         SwedenRasunda, Sweden   4.4   3.4   3.6   9.2   4.1   3.3   \n",
       "\n",
       "       JUN   JUL   AUG   SEP   OCT   NOV   DEC  2021  2020  2019  2018  2017  \n",
       "2416   7.4   6.1   7.7   6.5   9.2  11.9  19.2  12.7  11.4  12.8  14.5  14.3  \n",
       "3930  11.2   9.2   9.4   9.1   7.7   9.1   8.2     -     -     -     -     -  \n",
       "3152  10.7   7.9   7.1  11.2    10  11.9    11  12.3     -     -     -     -  \n",
       "763   12.7  11.4  11.2  12.4  33.2  35.6  35.9  22.3     -     -     -     -  \n",
       "1097  15.3  15.8  15.5  10.7    22  25.3  24.1  20.1  18.4     -     -     -  \n",
       "1955   7.8     5   8.5   8.6  14.7  20.3  24.3  20.4  17.4     -     -     -  \n",
       "6186     8   7.3   3.7     4   4.4   4.8   3.5   4.9   4.6   3.8     -     -  \n",
       "5033   9.5   7.9   8.2   5.7     6   7.6   4.8     7   7.2   8.6   9.3   9.1  \n",
       "5489   3.5   3.1   6.4   8.2   6.5   9.7  13.6     -     -     -     -     -  \n",
       "6760   5.1   3.3   5.1   2.7   4.5     -     -     5     -     -     -     -  "
      ]
     },
     "execution_count": 5,
     "metadata": {},
     "output_type": "execute_result"
    }
   ],
   "source": [
    "df.sample(10)"
   ]
  },
  {
   "cell_type": "code",
   "execution_count": 6,
   "metadata": {},
   "outputs": [
    {
     "data": {
      "text/plain": [
       "(7323, 20)"
      ]
     },
     "execution_count": 6,
     "metadata": {},
     "output_type": "execute_result"
    }
   ],
   "source": [
    "df.shape # (rows,columns)"
   ]
  },
  {
   "cell_type": "code",
   "execution_count": 7,
   "metadata": {},
   "outputs": [
    {
     "name": "stdout",
     "output_type": "stream",
     "text": [
      "<class 'pandas.core.frame.DataFrame'>\n",
      "RangeIndex: 7323 entries, 0 to 7322\n",
      "Data columns (total 20 columns):\n",
      " #   Column  Non-Null Count  Dtype  \n",
      "---  ------  --------------  -----  \n",
      " 0   Rank    7323 non-null   int64  \n",
      " 1   City    7323 non-null   object \n",
      " 2   2022    7323 non-null   float64\n",
      " 3   JAN     7323 non-null   object \n",
      " 4   FEB     7323 non-null   object \n",
      " 5   MAR     7323 non-null   object \n",
      " 6   APR     7323 non-null   object \n",
      " 7   MAY     7323 non-null   object \n",
      " 8   JUN     7323 non-null   object \n",
      " 9   JUL     7323 non-null   object \n",
      " 10  AUG     7323 non-null   object \n",
      " 11  SEP     7323 non-null   object \n",
      " 12  OCT     7323 non-null   object \n",
      " 13  NOV     7323 non-null   object \n",
      " 14  DEC     7323 non-null   object \n",
      " 15  2021    7323 non-null   object \n",
      " 16  2020    7323 non-null   object \n",
      " 17  2019    7323 non-null   object \n",
      " 18  2018    7323 non-null   object \n",
      " 19  2017    7323 non-null   object \n",
      "dtypes: float64(1), int64(1), object(18)\n",
      "memory usage: 1.1+ MB\n"
     ]
    }
   ],
   "source": [
    "df.info()"
   ]
  },
  {
   "cell_type": "markdown",
   "metadata": {},
   "source": [
    "### As we can see some variables are having datatype objects. Except City column, (categorical)columns like JAN, FEB,MAR,2021 etc should not be object dtypes. Because they contains numeric values like float."
   ]
  },
  {
   "cell_type": "markdown",
   "metadata": {},
   "source": [
    "### So we need to convert categorical columns into numeric columns. Before that we should check for null values or undefined or missing values."
   ]
  },
  {
   "cell_type": "code",
   "execution_count": 8,
   "metadata": {},
   "outputs": [
    {
     "data": {
      "text/plain": [
       "Rank    0\n",
       "City    0\n",
       "2022    0\n",
       "JAN     0\n",
       "FEB     0\n",
       "MAR     0\n",
       "APR     0\n",
       "MAY     0\n",
       "JUN     0\n",
       "JUL     0\n",
       "AUG     0\n",
       "SEP     0\n",
       "OCT     0\n",
       "NOV     0\n",
       "DEC     0\n",
       "2021    0\n",
       "2020    0\n",
       "2019    0\n",
       "2018    0\n",
       "2017    0\n",
       "dtype: int64"
      ]
     },
     "execution_count": 8,
     "metadata": {},
     "output_type": "execute_result"
    }
   ],
   "source": [
    "df.isnull().sum()"
   ]
  },
  {
   "cell_type": "markdown",
   "metadata": {},
   "source": [
    "### There are no null values present in any of the columns of dataset."
   ]
  },
  {
   "cell_type": "code",
   "execution_count": 9,
   "metadata": {},
   "outputs": [
    {
     "data": {
      "text/html": [
       "<div>\n",
       "<style scoped>\n",
       "    .dataframe tbody tr th:only-of-type {\n",
       "        vertical-align: middle;\n",
       "    }\n",
       "\n",
       "    .dataframe tbody tr th {\n",
       "        vertical-align: top;\n",
       "    }\n",
       "\n",
       "    .dataframe thead th {\n",
       "        text-align: right;\n",
       "    }\n",
       "</style>\n",
       "<table border=\"1\" class=\"dataframe\">\n",
       "  <thead>\n",
       "    <tr style=\"text-align: right;\">\n",
       "      <th></th>\n",
       "      <th>Rank</th>\n",
       "      <th>2022</th>\n",
       "    </tr>\n",
       "  </thead>\n",
       "  <tbody>\n",
       "    <tr>\n",
       "      <th>count</th>\n",
       "      <td>7323.000000</td>\n",
       "      <td>7323.000000</td>\n",
       "    </tr>\n",
       "    <tr>\n",
       "      <th>mean</th>\n",
       "      <td>3662.000000</td>\n",
       "      <td>12.587765</td>\n",
       "    </tr>\n",
       "    <tr>\n",
       "      <th>std</th>\n",
       "      <td>2114.112343</td>\n",
       "      <td>10.593831</td>\n",
       "    </tr>\n",
       "    <tr>\n",
       "      <th>min</th>\n",
       "      <td>1.000000</td>\n",
       "      <td>0.200000</td>\n",
       "    </tr>\n",
       "    <tr>\n",
       "      <th>25%</th>\n",
       "      <td>1831.500000</td>\n",
       "      <td>7.000000</td>\n",
       "    </tr>\n",
       "    <tr>\n",
       "      <th>50%</th>\n",
       "      <td>3662.000000</td>\n",
       "      <td>9.300000</td>\n",
       "    </tr>\n",
       "    <tr>\n",
       "      <th>75%</th>\n",
       "      <td>5492.500000</td>\n",
       "      <td>13.800000</td>\n",
       "    </tr>\n",
       "    <tr>\n",
       "      <th>max</th>\n",
       "      <td>7323.000000</td>\n",
       "      <td>97.400000</td>\n",
       "    </tr>\n",
       "  </tbody>\n",
       "</table>\n",
       "</div>"
      ],
      "text/plain": [
       "              Rank         2022\n",
       "count  7323.000000  7323.000000\n",
       "mean   3662.000000    12.587765\n",
       "std    2114.112343    10.593831\n",
       "min       1.000000     0.200000\n",
       "25%    1831.500000     7.000000\n",
       "50%    3662.000000     9.300000\n",
       "75%    5492.500000    13.800000\n",
       "max    7323.000000    97.400000"
      ]
     },
     "execution_count": 9,
     "metadata": {},
     "output_type": "execute_result"
    }
   ],
   "source": [
    "df.describe()"
   ]
  },
  {
   "cell_type": "markdown",
   "metadata": {},
   "source": [
    "### Describe() shows statistical values about numeric columns. But we need to change categorical columns into numeric columns to see statistical terms."
   ]
  },
  {
   "cell_type": "code",
   "execution_count": 10,
   "metadata": {},
   "outputs": [
    {
     "data": {
      "text/html": [
       "<div>\n",
       "<style scoped>\n",
       "    .dataframe tbody tr th:only-of-type {\n",
       "        vertical-align: middle;\n",
       "    }\n",
       "\n",
       "    .dataframe tbody tr th {\n",
       "        vertical-align: top;\n",
       "    }\n",
       "\n",
       "    .dataframe thead th {\n",
       "        text-align: right;\n",
       "    }\n",
       "</style>\n",
       "<table border=\"1\" class=\"dataframe\">\n",
       "  <thead>\n",
       "    <tr style=\"text-align: right;\">\n",
       "      <th></th>\n",
       "      <th>Rank</th>\n",
       "      <th>2022</th>\n",
       "    </tr>\n",
       "  </thead>\n",
       "  <tbody>\n",
       "    <tr>\n",
       "      <th>0</th>\n",
       "      <td>1</td>\n",
       "      <td>97.4</td>\n",
       "    </tr>\n",
       "    <tr>\n",
       "      <th>1</th>\n",
       "      <td>2</td>\n",
       "      <td>94.3</td>\n",
       "    </tr>\n",
       "    <tr>\n",
       "      <th>2</th>\n",
       "      <td>3</td>\n",
       "      <td>92.7</td>\n",
       "    </tr>\n",
       "    <tr>\n",
       "      <th>3</th>\n",
       "      <td>4</td>\n",
       "      <td>92.6</td>\n",
       "    </tr>\n",
       "    <tr>\n",
       "      <th>4</th>\n",
       "      <td>5</td>\n",
       "      <td>91.8</td>\n",
       "    </tr>\n",
       "    <tr>\n",
       "      <th>...</th>\n",
       "      <td>...</td>\n",
       "      <td>...</td>\n",
       "    </tr>\n",
       "    <tr>\n",
       "      <th>7318</th>\n",
       "      <td>7319</td>\n",
       "      <td>0.8</td>\n",
       "    </tr>\n",
       "    <tr>\n",
       "      <th>7319</th>\n",
       "      <td>7320</td>\n",
       "      <td>0.8</td>\n",
       "    </tr>\n",
       "    <tr>\n",
       "      <th>7320</th>\n",
       "      <td>7321</td>\n",
       "      <td>0.6</td>\n",
       "    </tr>\n",
       "    <tr>\n",
       "      <th>7321</th>\n",
       "      <td>7322</td>\n",
       "      <td>0.5</td>\n",
       "    </tr>\n",
       "    <tr>\n",
       "      <th>7322</th>\n",
       "      <td>7323</td>\n",
       "      <td>0.2</td>\n",
       "    </tr>\n",
       "  </tbody>\n",
       "</table>\n",
       "<p>7323 rows × 2 columns</p>\n",
       "</div>"
      ],
      "text/plain": [
       "      Rank  2022\n",
       "0        1  97.4\n",
       "1        2  94.3\n",
       "2        3  92.7\n",
       "3        4  92.6\n",
       "4        5  91.8\n",
       "...    ...   ...\n",
       "7318  7319   0.8\n",
       "7319  7320   0.8\n",
       "7320  7321   0.6\n",
       "7321  7322   0.5\n",
       "7322  7323   0.2\n",
       "\n",
       "[7323 rows x 2 columns]"
      ]
     },
     "execution_count": 10,
     "metadata": {},
     "output_type": "execute_result"
    }
   ],
   "source": [
    "num_col=df.select_dtypes(include=['int64','float64'])\n",
    "num_col"
   ]
  },
  {
   "cell_type": "code",
   "execution_count": 11,
   "metadata": {},
   "outputs": [
    {
     "data": {
      "text/html": [
       "<div>\n",
       "<style scoped>\n",
       "    .dataframe tbody tr th:only-of-type {\n",
       "        vertical-align: middle;\n",
       "    }\n",
       "\n",
       "    .dataframe tbody tr th {\n",
       "        vertical-align: top;\n",
       "    }\n",
       "\n",
       "    .dataframe thead th {\n",
       "        text-align: right;\n",
       "    }\n",
       "</style>\n",
       "<table border=\"1\" class=\"dataframe\">\n",
       "  <thead>\n",
       "    <tr style=\"text-align: right;\">\n",
       "      <th></th>\n",
       "      <th>City</th>\n",
       "      <th>JAN</th>\n",
       "      <th>FEB</th>\n",
       "      <th>MAR</th>\n",
       "      <th>APR</th>\n",
       "      <th>MAY</th>\n",
       "      <th>JUN</th>\n",
       "      <th>JUL</th>\n",
       "      <th>AUG</th>\n",
       "      <th>SEP</th>\n",
       "      <th>OCT</th>\n",
       "      <th>NOV</th>\n",
       "      <th>DEC</th>\n",
       "      <th>2021</th>\n",
       "      <th>2020</th>\n",
       "      <th>2019</th>\n",
       "      <th>2018</th>\n",
       "      <th>2017</th>\n",
       "    </tr>\n",
       "  </thead>\n",
       "  <tbody>\n",
       "    <tr>\n",
       "      <th>0</th>\n",
       "      <td>PakistanLahore, Pakistan</td>\n",
       "      <td>133</td>\n",
       "      <td>102.5</td>\n",
       "      <td>85.6</td>\n",
       "      <td>69.3</td>\n",
       "      <td>60.9</td>\n",
       "      <td>52.1</td>\n",
       "      <td>47.8</td>\n",
       "      <td>46.2</td>\n",
       "      <td>64.2</td>\n",
       "      <td>123.2</td>\n",
       "      <td>190.5</td>\n",
       "      <td>192.9</td>\n",
       "      <td>86.5</td>\n",
       "      <td>79.2</td>\n",
       "      <td>89.5</td>\n",
       "      <td>114.9</td>\n",
       "      <td>133.2</td>\n",
       "    </tr>\n",
       "    <tr>\n",
       "      <th>1</th>\n",
       "      <td>ChinaHotan, China</td>\n",
       "      <td>61.7</td>\n",
       "      <td>91.6</td>\n",
       "      <td>132.7</td>\n",
       "      <td>106.2</td>\n",
       "      <td>120.5</td>\n",
       "      <td>69.5</td>\n",
       "      <td>172.5</td>\n",
       "      <td>75</td>\n",
       "      <td>65.1</td>\n",
       "      <td>75</td>\n",
       "      <td>50.3</td>\n",
       "      <td>120</td>\n",
       "      <td>101.5</td>\n",
       "      <td>110.2</td>\n",
       "      <td>110.1</td>\n",
       "      <td>116</td>\n",
       "      <td>91.9</td>\n",
       "    </tr>\n",
       "    <tr>\n",
       "      <th>2</th>\n",
       "      <td>IndiaBhiwadi, India</td>\n",
       "      <td>110.6</td>\n",
       "      <td>98</td>\n",
       "      <td>116.2</td>\n",
       "      <td>149.5</td>\n",
       "      <td>123.8</td>\n",
       "      <td>102.8</td>\n",
       "      <td>38.8</td>\n",
       "      <td>36.5</td>\n",
       "      <td>59.9</td>\n",
       "      <td>85.4</td>\n",
       "      <td>111.4</td>\n",
       "      <td>86.9</td>\n",
       "      <td>106.2</td>\n",
       "      <td>95.5</td>\n",
       "      <td>83.4</td>\n",
       "      <td>125.4</td>\n",
       "      <td>-</td>\n",
       "    </tr>\n",
       "    <tr>\n",
       "      <th>3</th>\n",
       "      <td>IndiaDelhi (NCT), India</td>\n",
       "      <td>141</td>\n",
       "      <td>100.9</td>\n",
       "      <td>91</td>\n",
       "      <td>98</td>\n",
       "      <td>73.2</td>\n",
       "      <td>56.2</td>\n",
       "      <td>34.3</td>\n",
       "      <td>31.1</td>\n",
       "      <td>38.3</td>\n",
       "      <td>99.7</td>\n",
       "      <td>176.8</td>\n",
       "      <td>171.9</td>\n",
       "      <td>96.4</td>\n",
       "      <td>84.1</td>\n",
       "      <td>98.6</td>\n",
       "      <td>113.5</td>\n",
       "      <td>108.2</td>\n",
       "    </tr>\n",
       "    <tr>\n",
       "      <th>4</th>\n",
       "      <td>PakistanPeshawar, Pakistan</td>\n",
       "      <td>110.2</td>\n",
       "      <td>103.5</td>\n",
       "      <td>78.3</td>\n",
       "      <td>68.5</td>\n",
       "      <td>53.5</td>\n",
       "      <td>56.3</td>\n",
       "      <td>51.8</td>\n",
       "      <td>57.8</td>\n",
       "      <td>79</td>\n",
       "      <td>100</td>\n",
       "      <td>132</td>\n",
       "      <td>212.1</td>\n",
       "      <td>89.6</td>\n",
       "      <td>-</td>\n",
       "      <td>63.9</td>\n",
       "      <td>-</td>\n",
       "      <td>-</td>\n",
       "    </tr>\n",
       "    <tr>\n",
       "      <th>...</th>\n",
       "      <td>...</td>\n",
       "      <td>...</td>\n",
       "      <td>...</td>\n",
       "      <td>...</td>\n",
       "      <td>...</td>\n",
       "      <td>...</td>\n",
       "      <td>...</td>\n",
       "      <td>...</td>\n",
       "      <td>...</td>\n",
       "      <td>...</td>\n",
       "      <td>...</td>\n",
       "      <td>...</td>\n",
       "      <td>...</td>\n",
       "      <td>...</td>\n",
       "      <td>...</td>\n",
       "      <td>...</td>\n",
       "      <td>...</td>\n",
       "      <td>...</td>\n",
       "    </tr>\n",
       "    <tr>\n",
       "      <th>7318</th>\n",
       "      <td>USACastroville, USA</td>\n",
       "      <td>0.3</td>\n",
       "      <td>0.4</td>\n",
       "      <td>0.4</td>\n",
       "      <td>0.6</td>\n",
       "      <td>0.5</td>\n",
       "      <td>1</td>\n",
       "      <td>0.6</td>\n",
       "      <td>0.9</td>\n",
       "      <td>1.5</td>\n",
       "      <td>1.5</td>\n",
       "      <td>1.7</td>\n",
       "      <td>1.4</td>\n",
       "      <td>7.5</td>\n",
       "      <td>-</td>\n",
       "      <td>-</td>\n",
       "      <td>-</td>\n",
       "      <td>-</td>\n",
       "    </tr>\n",
       "    <tr>\n",
       "      <th>7319</th>\n",
       "      <td>USAWilson, USA</td>\n",
       "      <td>0.9</td>\n",
       "      <td>0.8</td>\n",
       "      <td>0.5</td>\n",
       "      <td>0.6</td>\n",
       "      <td>0.5</td>\n",
       "      <td>0.8</td>\n",
       "      <td>1.2</td>\n",
       "      <td>1.4</td>\n",
       "      <td>1.1</td>\n",
       "      <td>1.1</td>\n",
       "      <td>0.8</td>\n",
       "      <td>0.6</td>\n",
       "      <td>7.7</td>\n",
       "      <td>-</td>\n",
       "      <td>-</td>\n",
       "      <td>-</td>\n",
       "      <td>-</td>\n",
       "    </tr>\n",
       "    <tr>\n",
       "      <th>7320</th>\n",
       "      <td>USARoanoke Rapids, USA</td>\n",
       "      <td>0.8</td>\n",
       "      <td>0.7</td>\n",
       "      <td>0.5</td>\n",
       "      <td>0.4</td>\n",
       "      <td>0.5</td>\n",
       "      <td>0.6</td>\n",
       "      <td>0.5</td>\n",
       "      <td>0.3</td>\n",
       "      <td>0.5</td>\n",
       "      <td>0.7</td>\n",
       "      <td>0.6</td>\n",
       "      <td>0.8</td>\n",
       "      <td>2.9</td>\n",
       "      <td>-</td>\n",
       "      <td>7.1</td>\n",
       "      <td>-</td>\n",
       "      <td>-</td>\n",
       "    </tr>\n",
       "    <tr>\n",
       "      <th>7321</th>\n",
       "      <td>IndonesiaKuta, Indonesia</td>\n",
       "      <td>2.3</td>\n",
       "      <td>0.9</td>\n",
       "      <td>0.3</td>\n",
       "      <td>0.5</td>\n",
       "      <td>0.6</td>\n",
       "      <td>0.5</td>\n",
       "      <td>0.3</td>\n",
       "      <td>0.4</td>\n",
       "      <td>0.3</td>\n",
       "      <td>0.2</td>\n",
       "      <td>0.4</td>\n",
       "      <td>0.3</td>\n",
       "      <td>9.8</td>\n",
       "      <td>13</td>\n",
       "      <td>-</td>\n",
       "      <td>-</td>\n",
       "      <td>-</td>\n",
       "    </tr>\n",
       "    <tr>\n",
       "      <th>7322</th>\n",
       "      <td>USAArch Cape, USA</td>\n",
       "      <td>0.2</td>\n",
       "      <td>0.1</td>\n",
       "      <td>0.1</td>\n",
       "      <td>0.1</td>\n",
       "      <td>0.1</td>\n",
       "      <td>0.1</td>\n",
       "      <td>0.1</td>\n",
       "      <td>0.1</td>\n",
       "      <td>0.3</td>\n",
       "      <td>0.3</td>\n",
       "      <td>0.8</td>\n",
       "      <td>1</td>\n",
       "      <td>-</td>\n",
       "      <td>-</td>\n",
       "      <td>-</td>\n",
       "      <td>-</td>\n",
       "      <td>-</td>\n",
       "    </tr>\n",
       "  </tbody>\n",
       "</table>\n",
       "<p>7323 rows × 18 columns</p>\n",
       "</div>"
      ],
      "text/plain": [
       "                            City    JAN    FEB    MAR    APR    MAY    JUN  \\\n",
       "0       PakistanLahore, Pakistan    133  102.5   85.6   69.3   60.9   52.1   \n",
       "1              ChinaHotan, China   61.7   91.6  132.7  106.2  120.5   69.5   \n",
       "2            IndiaBhiwadi, India  110.6     98  116.2  149.5  123.8  102.8   \n",
       "3        IndiaDelhi (NCT), India    141  100.9     91     98   73.2   56.2   \n",
       "4     PakistanPeshawar, Pakistan  110.2  103.5   78.3   68.5   53.5   56.3   \n",
       "...                          ...    ...    ...    ...    ...    ...    ...   \n",
       "7318         USACastroville, USA    0.3    0.4    0.4    0.6    0.5      1   \n",
       "7319              USAWilson, USA    0.9    0.8    0.5    0.6    0.5    0.8   \n",
       "7320      USARoanoke Rapids, USA    0.8    0.7    0.5    0.4    0.5    0.6   \n",
       "7321    IndonesiaKuta, Indonesia    2.3    0.9    0.3    0.5    0.6    0.5   \n",
       "7322           USAArch Cape, USA    0.2    0.1    0.1    0.1    0.1    0.1   \n",
       "\n",
       "        JUL   AUG   SEP    OCT    NOV    DEC   2021   2020   2019   2018  \\\n",
       "0      47.8  46.2  64.2  123.2  190.5  192.9   86.5   79.2   89.5  114.9   \n",
       "1     172.5    75  65.1     75   50.3    120  101.5  110.2  110.1    116   \n",
       "2      38.8  36.5  59.9   85.4  111.4   86.9  106.2   95.5   83.4  125.4   \n",
       "3      34.3  31.1  38.3   99.7  176.8  171.9   96.4   84.1   98.6  113.5   \n",
       "4      51.8  57.8    79    100    132  212.1   89.6      -   63.9      -   \n",
       "...     ...   ...   ...    ...    ...    ...    ...    ...    ...    ...   \n",
       "7318    0.6   0.9   1.5    1.5    1.7    1.4    7.5      -      -      -   \n",
       "7319    1.2   1.4   1.1    1.1    0.8    0.6    7.7      -      -      -   \n",
       "7320    0.5   0.3   0.5    0.7    0.6    0.8    2.9      -    7.1      -   \n",
       "7321    0.3   0.4   0.3    0.2    0.4    0.3    9.8     13      -      -   \n",
       "7322    0.1   0.1   0.3    0.3    0.8      1      -      -      -      -   \n",
       "\n",
       "       2017  \n",
       "0     133.2  \n",
       "1      91.9  \n",
       "2         -  \n",
       "3     108.2  \n",
       "4         -  \n",
       "...     ...  \n",
       "7318      -  \n",
       "7319      -  \n",
       "7320      -  \n",
       "7321      -  \n",
       "7322      -  \n",
       "\n",
       "[7323 rows x 18 columns]"
      ]
     },
     "execution_count": 11,
     "metadata": {},
     "output_type": "execute_result"
    }
   ],
   "source": [
    "cat_col=df.select_dtypes(include=['O'])\n",
    "cat_col"
   ]
  },
  {
   "cell_type": "code",
   "execution_count": 12,
   "metadata": {},
   "outputs": [
    {
     "name": "stdout",
     "output_type": "stream",
     "text": [
      "Rank: \n",
      " [   1    2    3 ... 7321 7322 7323]\n",
      "City: \n",
      " ['PakistanLahore, Pakistan' 'ChinaHotan, China' 'IndiaBhiwadi, India' ...\n",
      " 'USARoanoke Rapids, USA' 'IndonesiaKuta, Indonesia' 'USAArch Cape, USA']\n",
      "2022: \n",
      " [97.4 94.3 92.7 92.6 91.8 90.3 90.2 89.7 89.1 88.9 88.6 87.8 86.7 85.9\n",
      " 85.5 84.5 83.2 82.2 79.7 79.2 78.7 77.9 77.8 77.4 74.7 74.3 74.1 73.8\n",
      " 73.5 73.4 72.6 72.3 72.1 72.  71.4 70.9 70.4 70.  69.3 68.7 68.4 68.1\n",
      " 67.8 67.1 66.6 66.2 65.8 65.7 65.4 64.7 63.  62.8 61.7 61.3 60.7 60.5\n",
      " 60.2 59.3 58.7 58.1 57.5 57.3 57.  56.8 56.4 56.  55.7 55.5 55.2 54.3\n",
      " 54.2 53.9 53.6 53.5 53.3 53.2 53.  52.8 52.2 52.1 51.7 51.5 51.3 51.2\n",
      " 51.1 51.  50.8 50.6 50.5 50.2 50.1 50.  49.9 49.6 49.5 49.4 49.3 49.2\n",
      " 49.1 48.8 48.7 48.6 48.5 48.1 48.  47.7 47.4 47.3 47.2 47.1 46.9 46.8\n",
      " 46.7 46.5 46.4 46.3 46.2 46.1 46.  45.9 45.8 45.7 45.4 45.2 45.1 45.\n",
      " 44.9 44.8 44.7 44.6 44.1 44.  43.9 43.8 43.7 43.6 43.4 43.3 43.2 43.1\n",
      " 43.  42.9 42.8 42.7 42.4 42.3 42.2 42.1 42.  41.9 41.8 41.7 41.6 41.5\n",
      " 41.3 41.2 41.1 40.9 40.8 40.7 40.6 40.5 40.2 40.1 40.  39.8 39.7 39.6\n",
      " 39.5 39.4 39.3 39.2 39.1 39.  38.9 38.8 38.6 38.5 38.4 38.3 38.2 38.1\n",
      " 38.  37.9 37.8 37.7 37.6 37.2 37.1 37.  36.9 36.8 36.7 36.6 36.5 36.4\n",
      " 36.3 36.2 36.1 35.8 35.7 35.6 35.5 35.4 35.3 35.2 35.1 35.  34.8 34.7\n",
      " 34.6 34.5 34.4 34.3 34.2 34.1 34.  33.9 33.8 33.7 33.6 33.5 33.4 33.2\n",
      " 33.1 33.  32.9 32.8 32.7 32.6 32.5 32.4 32.2 32.1 32.  31.9 31.8 31.7\n",
      " 31.5 31.4 31.3 31.2 31.1 31.  30.9 30.8 30.7 30.6 30.5 30.4 30.3 30.2\n",
      " 30.1 30.  29.9 29.8 29.7 29.6 29.5 29.4 29.3 29.2 29.1 29.  28.9 28.8\n",
      " 28.7 28.6 28.5 28.4 28.3 28.2 28.1 28.  27.9 27.8 27.7 27.6 27.5 27.4\n",
      " 27.3 27.2 27.1 27.  26.9 26.8 26.7 26.6 26.5 26.4 26.3 26.2 26.1 26.\n",
      " 25.9 25.8 25.7 25.6 25.5 25.4 25.3 25.2 25.1 25.  24.9 24.8 24.7 24.6\n",
      " 24.5 24.4 24.3 24.2 24.1 24.  23.9 23.8 23.7 23.6 23.5 23.4 23.3 23.2\n",
      " 23.1 23.  22.9 22.8 22.7 22.6 22.5 22.4 22.3 22.2 22.1 22.  21.9 21.8\n",
      " 21.7 21.6 21.5 21.4 21.3 21.2 21.1 21.  20.9 20.8 20.7 20.6 20.5 20.4\n",
      " 20.3 20.2 20.1 20.  19.9 19.8 19.7 19.6 19.5 19.4 19.3 19.2 19.1 19.\n",
      " 18.9 18.8 18.7 18.6 18.5 18.4 18.3 18.2 18.1 18.  17.9 17.8 17.7 17.6\n",
      " 17.5 17.4 17.3 17.2 17.1 17.  16.9 16.8 16.7 16.6 16.5 16.4 16.3 16.2\n",
      " 16.1 16.  15.9 15.8 15.7 15.6 15.5 15.4 15.3 15.2 15.1 15.  14.9 14.8\n",
      " 14.7 14.6 14.5 14.4 14.3 14.2 14.1 14.  13.9 13.8 13.7 13.6 13.5 13.4\n",
      " 13.3 13.2 13.1 13.  12.9 12.8 12.7 12.6 12.5 12.4 12.3 12.2 12.1 12.\n",
      " 11.9 11.8 11.7 11.6 11.5 11.4 11.3 11.2 11.1 11.  10.9 10.8 10.7 10.6\n",
      " 10.5 10.4 10.3 10.2 10.1 10.   9.9  9.8  9.7  9.6  9.5  9.4  9.3  9.2\n",
      "  9.1  9.   8.9  8.8  8.7  8.6  8.5  8.4  8.3  8.2  8.1  8.   7.9  7.8\n",
      "  7.7  7.6  7.5  7.4  7.3  7.2  7.1  7.   6.9  6.8  6.7  6.6  6.5  6.4\n",
      "  6.3  6.2  6.1  6.   5.9  5.8  5.7  5.6  5.5  5.4  5.3  5.2  5.1  5.\n",
      "  4.9  4.8  4.7  4.6  4.5  4.4  4.3  4.2  4.1  4.   3.9  3.8  3.7  3.6\n",
      "  3.5  3.4  3.3  3.2  3.1  3.   2.9  2.8  2.7  2.6  2.5  2.4  2.3  2.2\n",
      "  2.1  2.   1.9  1.8  1.7  1.6  1.5  1.4  1.3  1.2  1.1  1.   0.9  0.8\n",
      "  0.6  0.5  0.2]\n",
      "January: \n",
      " ['133' '61.7' '110.6' '141' '110.2' '127' '110.3' '162.3' '133.7' '128'\n",
      " '135.5' '104.3' '70.6' '-' '120' '154.9' '106.5' '103.2' '137.8' '124.7'\n",
      " '146.7' '116.5' '93.4' '98.7' '95.4' '78.6' '62.4' '85.9' '95.7' '117'\n",
      " '132.4' '101.6' '63.1' '115.7' '114.1' '78.9' '90.5' '73.6' '120.6'\n",
      " '74.4' '101.2' '121.4' '105.6' '90.4' '52.6' '145.2' '133.1' '71.4'\n",
      " '48.8' '70.9' '119.8' '66.2' '70.3' '40.6' '75.5' '57.3' '104.8' '80.4'\n",
      " '80.8' '119' '159.2' '48.5' '172' '59.6' '99.9' '112.1' '80.6' '29.7'\n",
      " '78' '60.6' '109.2' '70.7' '167.6' '58.6' '68.2' '132.8' '59.9' '106.6'\n",
      " '51.7' '148.2' '57' '86.1' '130.1' '73.2' '100.9' '103.6' '123.8' '108.7'\n",
      " '129.4' '118.8' '110.4' '99.8' '98.3' '82.5' '105.4' '54.8' '69.6'\n",
      " '116.8' '114.9' '73.5' '49.3' '96.5' '52.1' '138.1' '103.9' '93.7' '72'\n",
      " '61.6' '29.3' '52.8' '63.2' '131.3' '117.9' '50.6' '92.7' '122' '34.2'\n",
      " '104.6' '74.8' '97.3' '54.1' '107.7' '93.3' '45.5' '34' '100.7' '93.5'\n",
      " '94.8' '106.2' '74.2' '88.4' '101.3' '110.5' '80.5' '98.4' '62.6' '110'\n",
      " '104.9' '82' '56.8' '72.9' '114.5' '97.7' '68.7' '61.4' '74.7' '108.2'\n",
      " '53.8' '38.8' '88.5' '11.8' '83.2' '86.5' '71.6' '111.1' '56.6' '29'\n",
      " '91.1' '119.3' '87' '37.5' '152.3' '88.8' '78.3' '93.8' '90.7' '58'\n",
      " '80.1' '87.4' '95.5' '82.1' '81.5' '61' '87.3' '20.5' '113.6' '96.7'\n",
      " '101.9' '84.5' '19' '64.2' '85.7' '84.4' '49.4' '100.3' '33.4' '108.9'\n",
      " '75.7' '59.7' '76.1' '77.9' '97.4' '26.6' '104.5' '83.5' '81.7' '92.2'\n",
      " '106' '77.3' '45.7' '61.2' '56' '63.6' '87.5' '60.2' '56.2' '73.8' '73.7'\n",
      " '84' '77.1' '50.9' '78.7' '28' '54' '86.2' '71.2' '102.6' '33.8' '50.3'\n",
      " '40.5' '82.8' '85.2' '78.8' '58.1' '64.9' '84.9' '79.2' '20.6' '48'\n",
      " '51.8' '79.9' '77.8' '75.3' '66.5' '28.2' '81.2' '84.3' '91.7' '43.1'\n",
      " '58.2' '81.4' '74.3' '24.2' '79' '84.7' '6' '49.2' '25.6' '69.3' '76.6'\n",
      " '81.1' '97.6' '72.5' '71' '65.6' '67.4' '87.9' '75.4' '53.6' '50.4'\n",
      " '27.8' '50' '83.3' '36.8' '33.2' '130.6' '73.1' '59.3' '65' '30.4' '50.5'\n",
      " '54.9' '70.5' '37.7' '53.4' '62' '64.1' '25.5' '57.6' '68.4' '26.3'\n",
      " '36.1' '27.9' '86.3' '34.8' '62.5' '83.9' '48.2' '59' '23.6' '72.4'\n",
      " '73.9' '41.5' '72.3' '58.7' '44.7' '32.6' '83.7' '51.9' '35.7' '63.9' '9'\n",
      " '70' '38.5' '75.8' '70.2' '69.8' '59.5' '66.7' '53.3' '72.6' '67' '18.8'\n",
      " '37.1' '35' '71.7' '67.8' '51.5' '48.4' '54.2' '6.7' '68.6' '57.4' '74.5'\n",
      " '56.5' '58.5' '57.2' '31.6' '60.3' '56.4' '65.9' '46.3' '45.8' '46.6'\n",
      " '37' '30.8' '90.3' '67.5' '111.6' '47.9' '39.3' '27.7' '44.1' '48.9'\n",
      " '65.7' '40.8' '95.8' '14.2' '32.3' '63.4' '63' '51.6' '59.2' '37.9'\n",
      " '31.7' '60' '60.7' '22.8' '53.7' '54.6' '25.1' '35.4' '47.3' '32.1'\n",
      " '36.2' '28.9' '39.4' '47.4' '33.3' '46.4' '31' '43.5' '46.5' '58.4' '4.8'\n",
      " '33.7' '69.4' '49' '39.5' '53' '38.2' '45.4' '60.1' '31.3' '47.5' '26'\n",
      " '24.6' '50.1' '34.6' '55.5' '41.8' '9.5' '55' '60.5' '51.2' '34.9' '44.8'\n",
      " '55.1' '29.2' '67.3' '44' '46.9' '54.7' '20.2' '66.3' '55.2' '46.1'\n",
      " '26.8' '63.7' '55.7' '38' '13.1' '27.4' '42.3' '40.3' '8.1' '49.7' '32.4'\n",
      " '42.8' '21.6' '50.7' '57.9' '37.6' '53.9' '32.8' '45' '41.6' '44.2'\n",
      " '56.1' '30.6' '50.8' '35.2' '20.8' '52.5' '16.3' '45.2' '9.7' '43.4' '39'\n",
      " '22.9' '59.1' '11.4' '54.3' '43.2' '49.1' '30.5' '60.4' '46.8' '37.8'\n",
      " '24.3' '28.5' '42.9' '41' '34.4' '32.9' '47.7' '48.3' '49.8' '40.7' '5'\n",
      " '45.3' '31.2' '34.7' '36.6' '25.9' '69.5' '81.8' '47.2' '76.5' '42.5'\n",
      " '35.3' '9.1' '23.3' '36.7' '30' '13.6' '14.6' '30.3' '27.5' '49.9' '8.2'\n",
      " '46' '43' '34.1' '31.5' '19.9' '21.1' '20.1' '21.2' '23.8' '45.6' '47.8'\n",
      " '19.6' '32.5' '38.6' '38.1' '44.4' '37.4' '36.5' '7.6' '29.9' '8.3'\n",
      " '25.7' '59.8' '33.5' '25' '22.4' '7.7' '11.5' '68.1' '37.3' '22.2' '21.3'\n",
      " '41.3' '10.2' '41.7' '48.6' '40.1' '29.5' '10.9' '16.2' '30.7' '21'\n",
      " '25.8' '63.5' '36.4' '33.9' '19.1' '38.9' '47.1' '39.7' '12.8' '39.6'\n",
      " '47.6' '46.2' '29.8' '14.4' '28.3' '49.5' '6.6' '25.2' '34.3' '40.9'\n",
      " '24.7' '27.1' '24.5' '23.9' '20.7' '54.4' '26.5' '12.7' '9.3' '30.9'\n",
      " '17.8' '28.4' '18.1' '23.2' '19.3' '16.8' '24.4' '19.2' '18.4' '22.1'\n",
      " '81.6' '25.3' '23' '35.9' '32' '11.7' '52.2' '13.4' '20.4' '27.2' '18'\n",
      " '12.4' '10.1' '11.3' '30.2' '26.1' '31.4' '29.6' '23.4' '24' '31.8'\n",
      " '18.7' '27.3' '17.9' '44.5' '17.4' '24.1' '26.2' '12.6' '41.4' '27.6'\n",
      " '24.9' '15.7' '32.7' '39.2' '22.5' '16' '35.1' '5.8' '32.2' '14' '6.2'\n",
      " '43.8' '24.8' '17.7' '21.9' '12.9' '31.1' '19.5' '54.5' '36.9' '23.7'\n",
      " '20' '18.3' '13.7' '8.8' '23.5' '17' '16.7' '25.4' '28.6' '17.6' '11.6'\n",
      " '17.3' '40.2' '43.6' '17.2' '28.1' '15.1' '28.7' '6.3' '14.9' '19.4'\n",
      " '16.9' '29.1' '8' '20.9' '6.5' '15.9' '9.4' '16.4' '13.3' '26.7' '15.6'\n",
      " '15' '18.9' '17.1' '4.5' '15.8' '22' '10.4' '44.3' '19.7' '23.1' '22.7'\n",
      " '22.6' '7.1' '21.5' '15.2' '18.5' '7.9' '20.3' '5.4' '13.2' '26.4' '12.5'\n",
      " '11.2' '16.1' '8.9' '4.7' '7' '27' '13.9' '36' '12' '28.8' '9.8' '4.3'\n",
      " '33.6' '9.2' '12.3' '10.7' '21.8' '26.9' '15.4' '21.4' '30.1' '4.4'\n",
      " '18.2' '13' '21.7' '22.3' '37.2' '11' '16.6' '11.9' '13.5' '18.6' '4.6'\n",
      " '8.4' '14.3' '14.1' '12.1' '33.1' '16.5' '7.2' '8.5' '10.6' '3.3' '14.7'\n",
      " '12.2' '8.6' '5.3' '43.3' '14.8' '34.5' '9.9' '10.8' '77' '3.7' '3.5'\n",
      " '15.5' '10.5' '17.5' '14.5' '2' '8.7' '10.3' '6.4' '19.8' '13.8' '7.3'\n",
      " '7.4' '5.5' '11.1' '15.3' '41.2' '7.8' '1.9' '10' '1.1' '4.9' '0.7' '5.1'\n",
      " '5.9' '6.1' '3.8' '3.9' '9.6' '5.2' '6.8' '2.3' '2.7' '7.5' '35.6' '1.6'\n",
      " '6.9' '2.4' '4' '2.2' '3.1' '1.2' '1.4' '0.9' '1.3' '1.7' '5.6' '3.6'\n",
      " '5.7' '4.2' '2.9' '0.3' '0.1' '2.8' '3.2' '2.1' '1.5' '4.1' '3' '3.4'\n",
      " '2.6' '1.8' '2.5' '1' '0.6' '0.2' '0.8' '0.5' '0.4']\n",
      "February: \n",
      " ['102.5' '91.6' '98' '100.9' '103.5' '77.9' '89' '163.7' '95.2' '99.8'\n",
      " '104.4' '74.4' '53.3' '114.3' '77.5' '81.6' '65.6' '89.8' '89.7' '101.3'\n",
      " '90.6' '64.9' '122.6' '71.3' '78.1' '71.1' '109.1' '67.1' '69' '95.9'\n",
      " '84.9' '80.4' '90' '40.7' '97.6' '85.6' '92.4' '60.5' '54.1' '66.6'\n",
      " '59.8' '73' '51.1' '67.5' '65' '55.4' '72.3' '102.2' '103.2' '57.3'\n",
      " '61.2' '35.9' '70.5' '91.7' '100.3' '71.7' '43.9' '66' '47.5' '96.3'\n",
      " '84.4' '63' '85.8' '128.7' '37.1' '186.1' '60.2' '57.9' '61.6' '64.7'\n",
      " '49.9' '65.5' '-' '54.6' '105' '66.8' '51.2' '173.7' '77.1' '51.4' '77.3'\n",
      " '56' '56.8' '53.5' '114.1' '160.8' '27.6' '53.4' '64.1' '61' '55.9'\n",
      " '73.3' '71.4' '76.5' '58.5' '86.4' '58.9' '70.9' '77.4' '69.2' '53.2'\n",
      " '60.3' '55.3' '62.5' '64.2' '42.3' '54.7' '71.8' '110.5' '75.5' '87.6'\n",
      " '51.3' '73.4' '38.6' '33.4' '51.8' '41.4' '26.5' '26.6' '59' '70.3'\n",
      " '57.8' '48.7' '48' '27.9' '61.8' '65.9' '81.4' '53.8' '47.6' '42.4'\n",
      " '30.9' '49.4' '45.1' '54.8' '43' '47' '57.6' '44' '58.4' '71.2' '54.9'\n",
      " '52.8' '48.2' '61.4' '45.4' '54.5' '54.3' '49' '38.8' '58.1' '75.2'\n",
      " '49.8' '42.5' '44.4' '52.4' '51.9' '33.6' '49.2' '46.4' '135.7' '49.6'\n",
      " '45.7' '124.2' '47.3' '58' '44.9' '49.1' '44.3' '52.2' '61.7' '68.5'\n",
      " '48.1' '41' '55.8' '31' '74.5' '46.9' '32' '39.2' '60.8' '38.7' '41.7'\n",
      " '38.5' '31.8' '43.2' '48.4' '42.2' '50.5' '45.2' '53.6' '49.5' '28.6'\n",
      " '66.4' '52.7' '44.7' '55.1' '57.1' '44.5' '41.8' '51.6' '42.6' '41.6'\n",
      " '52.3' '44.1' '52.9' '38.2' '36.6' '40.3' '63.8' '35.2' '42.8' '45.3'\n",
      " '42' '39.5' '55.5' '21.6' '38.3' '42.1' '43.6' '51' '42.7' '29' '57'\n",
      " '48.3' '49.3' '34.2' '32.9' '47.2' '24.7' '6.2' '45.5' '24.5' '43.7'\n",
      " '46.6' '46.3' '50.2' '54.2' '46.7' '39.3' '39.1' '3' '39' '36.8' '45.9'\n",
      " '37.3' '58.6' '34.5' '28.3' '68.9' '59.5' '36.4' '35' '64.6' '42.9'\n",
      " '45.6' '26.3' '50.4' '48.9' '33.9' '25.9' '29.2' '36' '44.2' '38.9'\n",
      " '39.4' '32.2' '54.4' '36.2' '53.1' '40.5' '37.6' '31.9' '43.5' '31.7'\n",
      " '43.1' '41.9' '12.3' '33.7' '50.1' '33.5' '38.4' '48.6' '13.6' '52.6'\n",
      " '40' '34.6' '35.1' '14' '35.4' '40.6' '21.1' '57.4' '34.3' '29.4' '33.1'\n",
      " '37.5' '75.9' '35.6' '22.8' '34' '50' '44.6' '30.8' '37.9' '50.9' '67.3'\n",
      " '21.5' '50.3' '38.1' '26.2' '40.4' '24.1' '41.5' '33.2' '29.3' '27.1'\n",
      " '40.1' '46.1' '27.3' '39.6' '37.4' '41.3' '59.9' '24' '27.8' '37.2'\n",
      " '39.9' '38' '18.2' '47.4' '40.9' '26.1' '65.7' '34.9' '22.5' '46.5'\n",
      " '36.5' '29.1' '52.5' '41.2' '19.7' '13' '22.7' '32.6' '36.9' '34.4'\n",
      " '35.7' '23.6' '34.7' '37.7' '18' '23.2' '12.9' '36.3' '30.5' '28.9'\n",
      " '22.2' '23.4' '14.7' '29.6' '28.4' '25.3' '24.4' '30.7' '27.7' '32.5'\n",
      " '31.1' '28.1' '31.5' '30.3' '41.1' '29.9' '20.8' '16.8' '27.4' '24.8' '9'\n",
      " '23.7' '27.5' '35.3' '75' '90.2' '36.1' '21.9' '18.8' '27' '33.8' '19.4'\n",
      " '19.2' '22.1' '16.2' '31.2' '13.2' '30.4' '30.6' '19.1' '25' '28' '40.8'\n",
      " '24.9' '20.1' '18.3' '33' '13.3' '20.6' '33.3' '24.6' '32.7' '12.7'\n",
      " '14.1' '9.7' '10.2' '14.2' '21.4' '26.9' '17.7' '11.4' '12.6' '28.7' '16'\n",
      " '16.1' '26.4' '26.7' '34.1' '24.2' '26' '20' '22.4' '7.6' '29.8' '22.3'\n",
      " '4.5' '23.9' '48.8' '21' '20.4' '31.3' '35.8' '27.2' '12.2' '15.6' '15.4'\n",
      " '20.3' '22' '32.3' '15.2' '29.7' '18.5' '21.7' '28.8' '25.8' '25.2'\n",
      " '32.4' '19.5' '16.6' '32.8' '8.8' '28.5' '20.7' '14.9' '23' '30.1' '16.4'\n",
      " '14.8' '13.5' '26.8' '15.7' '23.8' '28.2' '40.2' '17.6' '19.3' '22.9'\n",
      " '29.5' '19.9' '13.4' '18.9' '25.7' '17.9' '20.9' '13.7' '23.3' '19.6'\n",
      " '25.6' '11.7' '17.5' '11' '11.8' '12.5' '15.5' '2.1' '6.3' '18.6' '24.3'\n",
      " '3.8' '20.2' '15' '23.1' '19' '21.2' '16.7' '16.5' '18.7' '18.1' '16.3'\n",
      " '14.3' '15.1' '17' '25.5' '17.2' '30' '25.1' '8.4' '25.4' '14.6' '13.8'\n",
      " '20.5' '15.9' '10.7' '15.3' '9.1' '21.8' '23.5' '11.3' '3.5' '8.1' '31.6'\n",
      " '12.8' '9.9' '17.8' '17.1' '11.6' '3.4' '18.4' '16.9' '14.4' '11.9'\n",
      " '17.3' '3.1' '14.5' '6.6' '10.1' '11.5' '10.3' '5.6' '9.8' '4.7' '15.8'\n",
      " '12.4' '10.4' '8.7' '21.3' '7.5' '10.9' '4.8' '12.1' '19.8' '5.1' '22.6'\n",
      " '11.1' '13.1' '10.6' '13.9' '12' '17.4' '11.2' '4' '7.3' '4.3' '7.9' '10'\n",
      " '9.4' '9.6' '8' '4.2' '6.8' '6.7' '9.2' '9.3' '8.5' '10.8' '7.7' '8.3'\n",
      " '8.6' '8.9' '7.1' '200.2' '8.2' '9.5' '7.2' '7.8' '10.5' '4.6' '1.5'\n",
      " '6.9' '7' '7.4' '4.1' '5.7' '5.8' '0.6' '3.2' '4.9' '6.4' '46.2' '6.1'\n",
      " '5' '5.2' '1.8' '5.3' '4.4' '5.5' '5.9' '6' '3.7' '6.5' '3.3' '2' '0.8'\n",
      " '2.3' '3.9' '1.2' '0.9' '1.4' '1.7' '1.9' '1.3' '5.4' '1.6' '2.8' '0.2'\n",
      " '3.6' '0.5' '2.5' '2.7' '2.6' '2.9' '2.4' '2.2' '1.1' '1' '0.7' '0.3'\n",
      " '0.4' '0.1']\n",
      "March: \n",
      " ['85.6' '132.7' '116.2' '91' '78.3' '83.1' '104.6' '245.6' '86.4' '105.1'\n",
      " '95.5' '87.1' '76.8' '110.3' '99.3' '97.4' '90' '97.8' '83' '112.3'\n",
      " '79.3' '64.9' '96.9' '72.3' '75' '98.6' '82' '77.3' '100.5' '93' '82.9'\n",
      " '95.4' '79.6' '80' '84.4' '73' '59.2' '69.1' '67.9' '60.9' '56.5' '73.2'\n",
      " '71.1' '79.2' '79.9' '65.6' '72.7' '49.6' '66.3' '74.3' '125.5' '75.5'\n",
      " '74.5' '68.9' '59' '99.9' '73.1' '73.5' '46.9' '105' '51.7' '37.4' '62.6'\n",
      " '58.2' '69.8' '62.4' '56.2' '62' '60.2' '61.6' '94.1' '55.3' '61.5'\n",
      " '32.7' '68.5' '64.4' '21.9' '63.8' '64.6' '50.2' '46.2' '33.8' '45.5'\n",
      " '53.3' '54.5' '67.3' '59.9' '107.5' '60.1' '48.4' '68.6' '58' '58.8'\n",
      " '62.1' '65.1' '61.3' '53.8' '33.1' '69.3' '54.9' '68.1' '41.9' '63'\n",
      " '15.1' '54.2' '10.6' '85.4' '37.9' '109.9' '44.2' '36.3' '51.6' '31.6'\n",
      " '56.7' '38.6' '54.7' '34.5' '51' '50.8' '45.2' '58.4' '27.4' '60.3'\n",
      " '50.6' '67.5' '102.4' '52.1' '51.2' '43.1' '56' '48.5' '70.4' '49.4'\n",
      " '51.1' '46.5' '61.8' '57.6' '50.5' '47.4' '62.3' '45.8' '43.6' '46.3'\n",
      " '52.4' '50.9' '40.2' '50.7' '52.6' '46.6' '65.7' '48.2' '41.4' '64.1'\n",
      " '55.7' '50.1' '48.7' '33.9' '49' '29.2' '63.4' '2.7' '51.4' '46.4' '49.2'\n",
      " '41.1' '49.7' '-' '45.9' '47.7' '38.9' '47.5' '52.2' '56.4' '48.3' '59.5'\n",
      " '86.3' '52.3' '47.3' '44.5' '39.3' '67.2' '57.9' '64.5' '38.2' '32.4'\n",
      " '43.5' '54' '53.6' '38.5' '42.1' '80.2' '44.8' '46' '26.8' '41.7' '35.7'\n",
      " '44.1' '61.9' '35.2' '45' '48.1' '52.9' '37.8' '42.7' '44' '42.3' '44.7'\n",
      " '45.4' '26.4' '46.8' '47.8' '38.8' '21.2' '42' '32.8' '44.9' '43.9'\n",
      " '41.6' '43.4' '22.1' '49.5' '45.1' '32.3' '44.6' '37.2' '36.5' '45.6'\n",
      " '49.9' '34.8' '35.3' '17.6' '51.8' '18.5' '54.4' '50.4' '36.4' '33' '6.1'\n",
      " '37.3' '28.4' '48' '38.4' '28.2' '49.3' '24.1' '28.9' '32.6' '47' '35.9'\n",
      " '29.4' '31.2' '38.1' '47.6' '38' '43.8' '34' '32.1' '29.9' '17.8' '58.7'\n",
      " '30.3' '42.4' '37.7' '40.9' '22.8' '37.5' '33.4' '33.2' '36' '33.5'\n",
      " '37.6' '30.1' '33.7' '34.6' '29.1' '16.4' '31.3' '42.9' '30.4' '35.6'\n",
      " '34.4' '36.8' '36.9' '36.1' '6.5' '30.8' '36.6' '35.5' '40.6' '39.2'\n",
      " '18.9' '29.8' '34.9' '40.7' '25.6' '31.5' '27.8' '31.4' '33.3' '34.2'\n",
      " '37.1' '41.2' '56.3' '36.7' '32.2' '30.5' '41.8' '28.1' '39.5' '24.3'\n",
      " '50' '40.5' '28' '26.6' '26.9' '39.7' '29.3' '24.9' '30.9' '39.9' '43.3'\n",
      " '36.2' '39.4' '32.9' '19.9' '32.5' '37' '13' '23' '28.7' '40.4' '31.1'\n",
      " '40.8' '56.1' '27' '51.5' '39.8' '35.1' '35.4' '34.3' '35' '19.2' '25.3'\n",
      " '44.4' '31' '39.6' '25.8' '46.7' '11' '18.1' '42.2' '18.3' '10.2' '28.3'\n",
      " '30' '55.8' '27.1' '32' '23.3' '38.3' '24.2' '22.5' '54.1' '16' '49.8'\n",
      " '27.2' '25.9' '66.5' '15.5' '26' '31.9' '39' '35.8' '23.2' '23.1' '28.8'\n",
      " '25.5' '24' '23.8' '24.7' '28.6' '30.6' '25.7' '48.6' '55.4' '12' '29.6'\n",
      " '29' '24.4' '27.3' '21.5' '15.8' '14.5' '26.3' '75.4' '31.8' '14.2'\n",
      " '26.1' '16.6' '16.1' '24.5' '20.6' '24.6' '15.2' '20.4' '14.6' '29.7'\n",
      " '53' '31.7' '29.5' '23.4' '39.1' '22.2' '17.2' '19.4' '15.9' '23.5'\n",
      " '28.5' '47.1' '11.3' '26.5' '17.7' '8.6' '17.5' '20' '27.5' '40.3' '7.3'\n",
      " '16.3' '27.7' '19.8' '22.3' '18.8' '17.4' '25.4' '22.7' '19.3' '17.3'\n",
      " '30.2' '8.1' '25.1' '10.3' '20.8' '19' '15.4' '48.9' '2.2' '27.9' '16.8'\n",
      " '20.9' '43' '40' '22' '16.9' '21.4' '25' '83.7' '23.9' '14.1' '42.5'\n",
      " '10.4' '17.9' '43.7' '7.2' '30.7' '41.5' '23.6' '52' '34.1' '16.5' '14.3'\n",
      " '19.6' '20.5' '15.6' '27.6' '20.7' '38.7' '19.5' '13.3' '21.7' '21.8'\n",
      " '24.8' '20.2' '25.2' '44.3' '21.6' '12.3' '21.3' '22.4' '17.1' '9.2'\n",
      " '6.7' '20.1' '3.6' '21' '8.2' '26.2' '34.7' '11.4' '12.6' '12.8' '16.2'\n",
      " '9.3' '16.7' '20.3' '11.6' '18.4' '9.4' '15.3' '2.5' '15' '23.7' '17'\n",
      " '33.6' '21.1' '7.9' '3.4' '13.2' '18.2' '14.9' '12.1' '11.8' '10.9'\n",
      " '13.7' '6.6' '19.7' '3.5' '1.5' '13.5' '18.6' '12.5' '8.9' '13.8' '12.4'\n",
      " '14.4' '8.7' '12.7' '11.1' '7.5' '11.7' '13.1' '47.2' '18.7' '22.9'\n",
      " '26.7' '6.9' '5.8' '14.8' '13.9' '22.6' '11.5' '7.4' '9.7' '12.9' '11.9'\n",
      " '3' '8.8' '14.7' '7.6' '2.3' '9.8' '15.7' '10.8' '10.7' '11.2' '9.5'\n",
      " '8.5' '12.2' '4.8' '10.5' '10.1' '5.3' '4.2' '10' '4.1' '6.4' '6.3' '18'\n",
      " '3.8' '19.1' '14' '13.6' '8.4' '9.1' '9.9' '8.3' '9.6' '9' '5.9' '7.1'\n",
      " '6.2' '4' '4.7' '7.7' '5.1' '7' '5.5' '8' '4.4' '6.8' '5.7' '13.4' '3.9'\n",
      " '5.6' '1' '6' '3.7' '2.9' '5' '2.8' '4.3' '2.6' '4.5' '7.8' '3.3' '5.4'\n",
      " '4.9' '1.8' '2' '3.1' '3.2' '5.2' '1.7' '2.4' '4.6' '1.4' '1.3' '0.9'\n",
      " '1.9' '0.7' '1.1' '1.6' '0.3' '1.2' '2.1' '0.8' '0.6' '0.2' '0.5' '0.4'\n",
      " '0.1']\n",
      "April: \n",
      " ['69.3' '106.2' '149.5' '98' '68.5' '64.9' '124.4' '103.7' '93.7' '98.1'\n",
      " '87' '101.8' '99.2' '80.8' '112.1' '77.4' '91.3' '112.6' '86.7' '77.9'\n",
      " '85.6' '80.7' '83.5' '109.5' '81' '71.7' '110' '94.1' '102.3' '81.1'\n",
      " '95.8' '79.6' '69' '89.9' '62.7' '85.2' '82.5' '72.2' '96.3' '70.2'\n",
      " '52.5' '87.8' '76.3' '66.9' '57' '61.1' '42.2' '84.6' '67.5' '81.2'\n",
      " '67.8' '73.7' '45' '76.6' '78.2' '79.9' '52.2' '61.2' '65.9' '76.1'\n",
      " '41.8' '37.9' '78' '27.2' '50.3' '48.6' '66.7' '60' '83' '63.3' '42.5'\n",
      " '72' '60.8' '57.6' '19.4' '67.6' '24.1' '59' '44.6' '56.8' '49.4' '23.8'\n",
      " '54.2' '64.7' '37.6' '62.1' '38.1' '34.4' '28.9' '38.3' '39.4' '26.1'\n",
      " '39.1' '38.2' '39.9' '23.6' '50' '42.7' '51.4' '56.3' '45.3' '40.6'\n",
      " '37.7' '39.8' '47.8' '51.9' '44.3' '45.2' '58.9' '19.8' '36.5' '59.9'\n",
      " '27.7' '30.6' '54.8' '50.1' '34.7' '37.2' '36' '56.5' '89.3' '38.9'\n",
      " '36.4' '36.9' '46.7' '53.5' '35.4' '58' '55.4' '38.4' '41.7' '31.6'\n",
      " '38.5' '37.1' '47' '56.9' '38.8' '35.1' '37' '57.4' '40.2' '37.8' '-'\n",
      " '36.7' '55.9' '36.8' '33' '48.7' '33.1' '34.2' '21.7' '43.4' '85.3'\n",
      " '31.9' '28.3' '40.8' '41.2' '41.6' '36.6' '41.4' '20.8' '44.5' '11.3'\n",
      " '35' '34' '59.5' '38' '39.7' '40.3' '29.1' '38.6' '46.6' '25.1' '33.4'\n",
      " '37.5' '37.3' '35.7' '39.5' '40.9' '33.5' '35.8' '42.9' '30.8' '24.7'\n",
      " '30.7' '39.3' '66.3' '32.4' '34.3' '32.5' '32.3' '35.9' '30.4' '40.4'\n",
      " '63.7' '25.9' '36.1' '42.1' '32.6' '33.6' '30.1' '43.6' '27.9' '40.7'\n",
      " '18.1' '22.6' '17' '56.6' '35.6' '39.2' '42.8' '29.8' '29.9' '31.4'\n",
      " '53.6' '38.7' '31.3' '106' '42.6' '26.9' '25.4' '33.8' '43.5' '44.7'\n",
      " '35.5' '33.7' '33.3' '45.5' '27.8' '22.1' '33.9' '28' '46.3' '6.7' '30'\n",
      " '53.2' '28.7' '33.2' '43.2' '24.3' '25.7' '27.1' '32.1' '61' '20.5'\n",
      " '44.8' '40.1' '30.3' '30.2' '34.5' '34.8' '28.6' '32' '48.3' '26' '21.6'\n",
      " '18.6' '43.8' '26.6' '27.3' '31' '23.4' '30.5' '25.5' '19.5' '27' '27.6'\n",
      " '20.3' '23.3' '4.6' '29.2' '26.8' '31.7' '31.8' '32.9' '18.8' '49.5'\n",
      " '34.9' '29.5' '25' '26.2' '43.1' '15.4' '26.7' '20.4' '35.2' '21' '15.5'\n",
      " '26.3' '19.9' '24.2' '29.3' '20.2' '29.7' '22.2' '24.4' '28.2' '29'\n",
      " '22.7' '53.7' '12.9' '25.8' '19' '74.3' '47.2' '31.5' '24' '22.4' '18.3'\n",
      " '16.8' '18.4' '10.2' '30.9' '32.7' '11.8' '16.9' '35.3' '28.8' '22.8'\n",
      " '34.1' '18.2' '32.2' '28.5' '22.9' '22.5' '24.9' '27.5' '25.6' '20.1'\n",
      " '21.3' '24.6' '23.5' '46.1' '25.3' '51.5' '59.6' '22.3' '28.1' '29.4'\n",
      " '41.9' '21.1' '45.1' '39.6' '24.8' '16.6' '17.4' '15.6' '27.4' '21.2'\n",
      " '21.9' '54.9' '25.2' '19.3' '11.7' '26.4' '16.5' '50.4' '41.3' '15.1'\n",
      " '16.1' '15.9' '21.8' '23.7' '20' '23' '20.6' '34.6' '49.3' '17.7' '48'\n",
      " '40.5' '14.5' '32.8' '14.6' '11' '13' '22' '28.4' '12.6' '29.6' '13.3'\n",
      " '13.6' '14.8' '7.4' '19.2' '3.7' '23.1' '18' '20.9' '23.2' '23.9' '14.3'\n",
      " '56' '18.7' '17.8' '10' '45.7' '6.4' '15.8' '17.6' '44' '47.6' '4.1'\n",
      " '18.5' '19.7' '36.3' '26.5' '50.2' '43.9' '46.5' '13.9' '42.4' '16.2'\n",
      " '11.4' '40' '14.7' '12.2' '14' '17.1' '52.9' '17.3' '15.2' '21.4' '41.1'\n",
      " '14.4' '13.1' '19.6' '20.7' '16.4' '17.9' '11.9' '14.1' '15.7' '24.5'\n",
      " '13.2' '16.7' '10.4' '44.2' '14.2' '18.9' '5' '13.5' '12.4' '12' '31.1'\n",
      " '7.2' '19.1' '13.4' '10.7' '17.5' '21.5' '10.6' '15.3' '16.3' '12.7'\n",
      " '10.9' '15' '12.5' '37.4' '55.6' '4.7' '7.3' '5.4' '9.7' '9.4' '11.2'\n",
      " '31.2' '13.8' '9.8' '6.5' '16' '1.7' '7.6' '14.9' '9.2' '12.3' '11.6'\n",
      " '4.8' '8.8' '11.5' '10.5' '51.8' '5.7' '8.6' '10.3' '10.8' '9.3' '17.2'\n",
      " '3.3' '9' '2' '12.8' '8' '4' '3' '1.8' '9.9' '7.7' '6.6' '8.1' '6.8'\n",
      " '13.7' '7.5' '9.5' '8.4' '7.9' '2.9' '12.1' '2.5' '6.9' '11.1' '3.2'\n",
      " '5.5' '8.7' '3.9' '7.8' '7.1' '4.9' '4.3' '1.2' '8.3' '5.1' '9.1' '10.1'\n",
      " '8.9' '8.5' '5.8' '2.4' '2.6' '4.5' '6' '8.2' '6.1' '5.3' '4.2' '9.6'\n",
      " '5.2' '3.5' '3.4' '2.8' '3.6' '5.9' '1.6' '4.4' '3.8' '7' '6.3' '2.7'\n",
      " '3.1' '6.2' '2.3' '2.1' '2.2' '5.6' '1.9' '1.4' '1.1' '1.5' '0.3' '1.3'\n",
      " '1' '0.6' '0.2' '0.4' '0.8' '0.9' '0.7' '0.5' '0.1']\n",
      "May: \n",
      " ['60.9' '120.5' '123.8' '73.2' '53.5' '46.3' '73.4' '74.2' '72.5' '58'\n",
      " '67.1' '89.5' '128.3' '46.1' '85' '65.6' '69.7' '88.1' '72.9' '48.6'\n",
      " '69.6' '96' '68' '100.9' '70' '52.5' '125.4' '91' '81.5' '38.3' '55.9'\n",
      " '93.1' '47.6' '91.7' '63.8' '62.6' '55.8' '63.2' '95.7' '53.8' '75.8'\n",
      " '54.4' '92.3' '73.5' '65.9' '65.3' '92.1' '51.7' '45' '90.4' '66.1'\n",
      " '40.6' '68.1' '56.4' '34.6' '90.2' '91.8' '68.2' '36.9' '65.5' '55.5'\n",
      " '54.3' '71.7' '33.6' '24.4' '99.3' '22.5' '70.2' '52.1' '35.3' '77.1'\n",
      " '67.4' '43' '56.5' '30' '82' '13.5' '56.7' '20.4' '80.5' '11.6' '26.8'\n",
      " '30.3' '73.3' '83.5' '21.7' '67.5' '47.8' '28.7' '27.9' '28.1' '28.4'\n",
      " '28.8' '43.2' '27.8' '27' '40.7' '27.5' '27.6' '52.2' '29.4' '57.3'\n",
      " '59.8' '42.1' '30.2' '49.1' '30.8' '58.5' '53.1' '18.4' '28.5' '35'\n",
      " '31.3' '28.3' '54' '71.5' '42.8' '26.1' '42.9' '69.1' '43.6' '25.9'\n",
      " '33.3' '38.4' '26.5' '53.6' '43.8' '30.6' '41.5' '26' '23.6' '31.1'\n",
      " '25.6' '46.2' '127.5' '29.1' '26.2' '29.2' '41' '44.2' '-' '49.8' '27.1'\n",
      " '26.9' '24.5' '37.7' '25.5' '34' '30.9' '41.7' '35.2' '25.8' '65.1'\n",
      " '98.7' '22.1' '27.4' '35.5' '28.9' '35.1' '28.2' '59.5' '29.5' '21.1'\n",
      " '39.2' '10.5' '24.1' '24.9' '26.3' '31.4' '64.3' '42' '41.2' '39.5'\n",
      " '30.5' '21' '22.6' '55.3' '16.1' '30.4' '25.3' '53.9' '29.7' '33.5'\n",
      " '15.3' '33.8' '51.6' '26.7' '22' '27.2' '24.6' '15.6' '32.5' '36.1'\n",
      " '59.2' '23.1' '19.8' '38.8' '8.3' '18.8' '9.7' '47' '42.5' '68.8' '28'\n",
      " '43.3' '30.1' '23.4' '52' '53.2' '35.7' '69.4' '37' '34.8' '28.6' '57.1'\n",
      " '23.9' '42.3' '34.2' '99.4' '50.8' '21.3' '17.8' '35.6' '20.9' '20'\n",
      " '34.3' '35.9' '14' '20.6' '23.3' '25.2' '36.2' '18' '19.4' '21.6' '23.5'\n",
      " '22.2' '25' '45.7' '11.9' '54.7' '42.7' '21.8' '29.3' '37.5' '18.6'\n",
      " '55.7' '21.5' '50.5' '17.1' '44.7' '15.8' '17.4' '16.9' '26.4' '24' '16'\n",
      " '18.1' '33.1' '36.5' '31.6' '30.7' '19.5' '77.6' '17' '25.4' '32.8'\n",
      " '25.1' '2.8' '27.3' '31.5' '29.8' '69.3' '14.5' '26.6' '61.6' '22.9'\n",
      " '11.5' '33.2' '37.8' '13.7' '13.6' '20.5' '41.4' '29.9' '10.8' '18.9'\n",
      " '16.8' '52.9' '36.7' '13.2' '21.9' '17.6' '10.6' '23' '23.2' '19.1'\n",
      " '51.4' '31' '17.7' '9.1' '24.8' '27.7' '22.3' '63' '15.7' '18.3' '32.3'\n",
      " '20.1' '12.4' '23.8' '14.1' '11.3' '22.7' '19.2' '61.1' '13' '19.9'\n",
      " '40.1' '14.7' '12.7' '16.6' '37.4' '14.6' '46' '55' '61.8' '22.8' '17.9'\n",
      " '12.1' '18.2' '25.7' '24.2' '14.8' '20.2' '19.6' '12.3' '53.7' '24.3'\n",
      " '20.7' '16.2' '22.4' '20.3' '17.2' '23.7' '34.4' '16.4' '24.7' '15'\n",
      " '19.3' '17.5' '21.2' '15.4' '16.3' '65.2' '21.4' '19.7' '15.5' '12.6'\n",
      " '15.2' '44.6' '14.3' '13.4' '9.3' '40.8' '6.6' '49.9' '11.7' '18.5'\n",
      " '31.2' '37.9' '8.9' '16.5' '56.9' '47.1' '32.2' '52.4' '36' '2.7' '54.2'\n",
      " '15.1' '12.5' '15.9' '6.9' '10.7' '11.8' '12.9' '17.3' '6.2' '16.7'\n",
      " '11.2' '12.8' '9' '20.8' '14.2' '48.9' '10.4' '11.4' '13.3' '18.7' '29'\n",
      " '11' '11.1' '45.6' '14.9' '14.4' '19' '36.6' '46.6' '37.2' '10.9' '10.3'\n",
      " '10' '3.5' '10.2' '5.6' '39.4' '13.1' '9.9' '12' '8.5' '39.9' '12.2' '40'\n",
      " '13.9' '32' '8.1' '7.8' '4.6' '5.7' '5.4' '34.7' '41.6' '7.9' '9.8' '1.2'\n",
      " '38.2' '9.4' '7.5' '9.5' '9.2' '10.1' '5.3' '9.6' '5.1' '13.8' '3' '8.7'\n",
      " '8.8' '5.8' '7.2' '4.1' '2.2' '1.5' '6' '4.8' '1.9' '6.3' '2' '1.6' '8.4'\n",
      " '8.6' '3.8' '7.6' '6.5' '4.3' '4.4' '7.1' '8.2' '4.5' '5' '3.7' '2.3'\n",
      " '7.3' '3.9' '32.6' '6.8' '2.4' '3.3' '3.4' '3.2' '2.9' '1.4' '3.1' '8'\n",
      " '7.7' '4' '7' '6.4' '2.6' '6.7' '2.1' '1.1' '0.8' '5.5' '7.4' '4.2' '2.5'\n",
      " '1.7' '4.9' '3.6' '1.8' '5.9' '6.1' '5.2' '4.7' '1.3' '1' '0.2' '0.9'\n",
      " '0.7' '0.4' '0.3' '0.5' '0.6' '0.1']\n",
      "June: \n",
      " ['52.1' '69.5' '102.8' '56.2' '56.3' '39.1' '52.3' '36.6' '54.9' '53.8'\n",
      " '70.6' '130.9' '49.2' '74' '52.8' '47.3' '63' '44.1' '51.9' '67' '53.9'\n",
      " '66.5' '76.4' '57.1' '61.8' '80.6' '81.9' '21.5' '51.7' '64.3' '41.7'\n",
      " '76.5' '46.6' '53.5' '59.1' '55.3' '43.7' '65.5' '41.1' '50.8' '68.9'\n",
      " '64.8' '68.4' '35.3' '64' '56.8' '56.5' '60.7' '37.9' '71.6' '73.2' '54'\n",
      " '31.9' '35' '38.3' '61' '34.9' '20.2' '78.2' '13.4' '67.2' '35.7' '39.4'\n",
      " '67.1' '22.4' '70.1' '30.4' '53' '42.6' '39.5' '13.1' '38.8' '37.2'\n",
      " '14.5' '15.4' '31.5' '62.4' '28.1' '36.2' '21.7' '34.2' '29.3' '18.4'\n",
      " '24.7' '21.6' '23.2' '24.2' '25.8' '23.9' '23.4' '27.8' '26.1' '49.3'\n",
      " '63.7' '13.6' '21.4' '57.5' '20.6' '18.3' '33.3' '22' '47.8' '67.4'\n",
      " '31.7' '28.8' '21.3' '36.3' '22.9' '22.6' '22.8' '39.2' '34.3' '46.2'\n",
      " '23' '31.2' '41' '17.8' '30.5' '25.4' '24.1' '29.4' '46.3' '42.7' '25.5'\n",
      " '29.7' '31.8' '32.3' '29.9' '-' '28' '18.7' '20.9' '25.7' '36.9' '27.2'\n",
      " '14.7' '31' '26.2' '33.6' '52.5' '19' '18.6' '30.7' '27.1' '22.7' '19.8'\n",
      " '60.6' '27.3' '12.1' '28.7' '11.9' '28.9' '18.9' '24.8' '23.8' '32.8'\n",
      " '36.1' '22.5' '32' '23.1' '24.9' '58.8' '13' '16.5' '29.5' '33.8' '41.2'\n",
      " '27.5' '28.5' '14.6' '21.8' '56' '27.7' '19.9' '19.2' '51.3' '18.2'\n",
      " '17.5' '26.4' '20.5' '34.5' '26' '26.6' '19.6' '28.2' '29' '62.8' '31.3'\n",
      " '5.8' '23.5' '10.8' '38' '25.1' '35.4' '20.7' '16.6' '53.7' '28.3' '34.6'\n",
      " '30.9' '19.4' '27.9' '33.2' '18.5' '129.6' '14.4' '40.7' '15.5' '17.4'\n",
      " '16.4' '16.2' '19.7' '12.5' '30.2' '24.4' '50.7' '14' '37.3' '34.4' '42'\n",
      " '37.7' '25.2' '20.4' '17.2' '15.3' '21.9' '23.7' '13.8' '15.7' '19.3'\n",
      " '19.5' '12.8' '17.6' '17.7' '42.4' '25.3' '16' '14.9' '16.7' '36.5'\n",
      " '13.7' '15.8' '27.6' '38.2' '10.9' '76.3' '20' '17.1' '15.9' '16.8' '3.3'\n",
      " '26.7' '23.3' '73' '34.8' '20.1' '11.7' '22.2' '26.8' '13.2' '18' '15.2'\n",
      " '15.1' '25' '20.8' '11.3' '6.3' '17.3' '13.9' '49.4' '20.3' '9.8' '18.1'\n",
      " '15' '31.1' '12.9' '19.1' '40.8' '29.8' '29.1' '16.9' '45.1' '16.1'\n",
      " '21.1' '7.9' '17.9' '22.1' '14.1' '14.3' '6.9' '56.9' '7.4' '10.7' '13.3'\n",
      " '27.4' '18.8' '56.1' '55.2' '9.2' '12.7' '32.1' '30.8' '6.5' '46.7'\n",
      " '13.5' '15.6' '65.6' '12.3' '16.3' '11.6' '12.4' '10.6' '14.2' '9.9' '12'\n",
      " '62.1' '12.6' '25.6' '11' '9.1' '9.4' '28.6' '35.9' '9.6' '40.2' '48.7'\n",
      " '11.8' '9.7' '14.8' '44' '9.3' '50.1' '12.2' '11.1' '23.6' '39.8' '10.1'\n",
      " '8.9' '8.3' '9.5' '11.2' '11.5' '6' '21.2' '26.5' '10.5' '7.3' '7.6'\n",
      " '8.8' '41.5' '7.7' '6.7' '45' '7.1' '10' '10.4' '8.1' '32.2' '24.5' '9'\n",
      " '35.6' '8.5' '8.6' '7' '37' '10.2' '10.3' '7.8' '46' '5.2' '33.7' '8.2'\n",
      " '8' '8.4' '3.7' '5' '6.4' '8.7' '37.8' '7.5' '11.4' '6.2' '4.8' '40.4'\n",
      " '17' '7.2' '5.1' '5.9' '6.8' '4.9' '33' '6.1' '4.1' '36' '1.5' '5.6'\n",
      " '26.3' '32.7' '34.1' '4.6' '34.7' '4.2' '4.7' '22.3' '30.6' '1.3' '2.8'\n",
      " '2.4' '4' '2.2' '1.9' '5.3' '3.5' '26.9' '3.2' '5.7' '3.9' '3.6' '5.4'\n",
      " '6.6' '2.6' '3.1' '4.4' '2.5' '2.3' '2.7' '3.4' '4.5' '5.5' '1.7' '36.8'\n",
      " '3.8' '2.9' '4.3' '1.1' '47' '1.8' '3' '0.6' '1.6' '1.4' '2' '46.9' '1.2'\n",
      " '44.7' '2.1' '0.9' '46.1' '1' '0.3' '0.8' '0.7' '0.4' '0.5' '0.1']\n",
      "July: \n",
      " ['47.8' '172.5' '38.8' '34.3' '51.8' '21' '44.1' '21.2' '33.6' '37.5'\n",
      " '32.1' '39.7' '85.7' '21.1' '42.6' '51.5' '29.6' '33.7' '30.5' '29.4'\n",
      " '27.9' '34.5' '58.6' '37.1' '32.7' '34.1' '28.5' '31.4' '85.9' '16.1'\n",
      " '36.7' '20.5' '43.8' '27.3' '22.7' '32.4' '31.9' '42.5' '19.2' '30.9'\n",
      " '44.2' '39.5' '27.4' '20.6' '66.8' '22.6' '20.4' '32.5' '27.1' '28.3'\n",
      " '88.3' '23.6' '15.7' '74.4' '23' '32.6' '21.3' '29.9' '25.8' '16.2'\n",
      " '69.7' '14.9' '32.8' '14.3' '28.8' '28.6' '41.7' '42.9' '24.8' '23.2'\n",
      " '32.9' '24.5' '22.5' '79' '24.3' '34.4' '28.7' '11.5' '24' '20.1' '21.5'\n",
      " '21.7' '21.4' '17' '21.6' '13.8' '20.7' '12.6' '23.8' '22.1' '19.9'\n",
      " '64.5' '23.4' '16' '25.4' '64.9' '14.7' '15.8' '30.6' '28.9' '16.7'\n",
      " '22.2' '44.8' '25.9' '60.1' '19' '33.1' '30.1' '18.3' '21.9' '19.5'\n",
      " '27.6' '17.2' '20.2' '17.1' '19.3' '26.1' '23.9' '18.2' '24.7' '20' '22'\n",
      " '20.8' '16.5' '16.4' '20.3' '29.7' '13.6' '22.3' '15.5' '65.2' '26.7'\n",
      " '24.1' '12.8' '36.8' '9.9' '19.8' '22.4' '18.4' '50.6' '25.2' '18' '34.8'\n",
      " '8.9' '17.7' '25.6' '78.5' '10.2' '24.6' '14' '55' '12.4' '19.4' '25'\n",
      " '14.2' '53.9' '14.1' '14.5' '8.5' '17.5' '27' '15.9' '17.6' '24.2' '35.7'\n",
      " '65.3' '16.6' '7.7' '24.9' '35' '13' '31.2' '12.7' '57.8' '18.5' '13.4'\n",
      " '48.4' '29.8' '19.6' '6.9' '29' '26.2' '69.6' '36.2' '12.3' '11.7' '15.1'\n",
      " '26' '19.1' '18.8' '60.5' '17.8' '17.4' '48.6' '26.5' '16.8' '15.6'\n",
      " '18.1' '10.5' '37' '41.8' '12.5' '11.6' '43.7' '11.9' '10.9' '16.3'\n",
      " '17.9' '44.5' '12.9' '15.4' '37.9' '15' '52.8' '12.1' '11.8' '7.8' '24.4'\n",
      " '17.3' '10.7' '57.3' '4' '7.4' '30.2' '-' '12' '12.2' '30.4' '7.3' '6.4'\n",
      " '16.9' '9.1' '53.5' '11.2' '11.3' '40.7' '40.2' '22.8' '13.1' '13.7'\n",
      " '5.7' '8.1' '39.4' '9.6' '53.7' '28.4' '18.6' '10.6' '8.3' '8.7' '26.6'\n",
      " '15.3' '7.2' '9.8' '42' '14.6' '28' '13.9' '37.6' '10' '44.3' '18.9'\n",
      " '38.9' '13.5' '13.3' '14.8' '41' '47' '9.2' '38' '9.7' '43.1' '9.3'\n",
      " '13.2' '10.1' '21.8' '27.8' '41.3' '26.3' '9.4' '9' '35.1' '6.6' '3.8'\n",
      " '7.5' '37.3' '5.2' '23.3' '31.7' '33' '48.9' '23.1' '9.5' '15.2' '11.1'\n",
      " '32' '43.3' '33.4' '41.5' '50.1' '7.6' '19.7' '34.9' '7.9' '30.8' '31.5'\n",
      " '42.7' '41.9' '20.9' '31' '6.8' '6.7' '11.4' '8.2' '10.4' '8.6' '5'\n",
      " '10.8' '7.1' '5.9' '23.5' '46.3' '30' '18.7' '6' '5.1' '14.4' '37.2'\n",
      " '29.3' '10.3' '23.7' '31.8' '8.4' '31.6' '7' '27.2' '4.9' '38.6' '28.1'\n",
      " '4.7' '3.1' '28.2' '5.4' '27.7' '5.8' '22.9' '11' '4.3' '6.5' '5.6' '6.1'\n",
      " '8.8' '31.1' '6.2' '6.3' '8' '30.7' '2.6' '29.2' '26.4' '4.5' '4.8'\n",
      " '25.1' '4.6' '55.2' '4.4' '25.3' '5.5' '5.3' '3.7' '0.4' '3.3' '1.2'\n",
      " '4.2' '3.9' '3.5' '3' '4.1' '3.6' '36.1' '48.2' '3.2' '2.5' '1.6' '26.9'\n",
      " '2.8' '2.9' '3.4' '1.7' '43.9' '1.3' '38.2' '2.1' '1.9' '46.9' '2.7'\n",
      " '1.1' '40.5' '42.8' '2.3' '2.4' '1.5' '2.2' '1.8' '0.6' '1.4' '2' '0.9'\n",
      " '1' '0.7' '0.5' '0.8' '0.3' '0.1']\n",
      "August: \n",
      " ['46.2' '75' '36.5' '31.1' '57.8' '25.4' '34.9' '21.8' '30.5' '35.8'\n",
      " '29.5' '36.8' '103.3' '30.4' '40.6' '41.3' '25.1' '32' '28.4' '29.7' '24'\n",
      " '32.7' '62.3' '28.2' '27.8' '42.7' '27.7' '32.2' '29.9' '23.8' '35.9'\n",
      " '42.5' '27.2' '24.3' '26.8' '58.8' '19.4' '36' '35.4' '57.5' '28.7'\n",
      " '24.5' '58.3' '78.4' '18.5' '28.3' '31.5' '28.6' '43.6' '83.1' '20.3'\n",
      " '17.2' '37.9' '67.6' '20.8' '29.1' '30.7' '25.7' '28.9' '30.1' '20.9'\n",
      " '70.7' '12.3' '37' '16.6' '31.2' '22' '52.5' '25.9' '27.9' '38.1' '27.1'\n",
      " '33.5' '11.8' '23.4' '22.3' '27.5' '22.2' '10.3' '25' '22.7' '19.5' '21'\n",
      " '26.6' '19.6' '23.1' '19.9' '19.2' '25.2' '16.5' '23.6' '23.2' '21.9'\n",
      " '61.3' '25.6' '17.9' '16' '28' '27.3' '59.3' '24.7' '18.8' '21.1' '21.6'\n",
      " '26.4' '24.1' '72' '32.1' '39.4' '23.3' '24.4' '17.4' '15.2' '18.7'\n",
      " '35.2' '24.2' '31' '18.2' '22.1' '20.1' '23.9' '15.3' '27' '18.3' '-'\n",
      " '25.5' '58' '21.3' '28.1' '13.4' '33.9' '22.6' '20.6' '16.9' '23' '30'\n",
      " '18' '16.2' '13.7' '68.7' '26.5' '24.6' '18.1' '55.1' '30.6' '20' '20.2'\n",
      " '41.6' '20.5' '20.7' '17.8' '22.9' '12.8' '69.9' '21.4' '20.4' '28.8'\n",
      " '17.1' '56.6' '14.5' '14.4' '15.1' '56.5' '15.4' '13.3' '18.6' '19'\n",
      " '26.1' '50.1' '41.4' '16.7' '34.1' '44.4' '22.8' '21.7' '17.6' '54.1'\n",
      " '29.3' '14.3' '19.8' '23.5' '11.7' '27.6' '16.4' '43.3' '51.3' '14.2'\n",
      " '17' '13.2' '13' '16.3' '15.7' '54.5' '9.7' '19.7' '48.1' '26.9' '30.2'\n",
      " '33.4' '15.9' '14.1' '42.8' '12.1' '17.7' '25.8' '16.1' '45' '18.4'\n",
      " '13.6' '26.3' '13.5' '17.5' '13.1' '9.5' '17.3' '13.8' '12.5' '16.8'\n",
      " '35.6' '12.7' '21.2' '43.2' '15.6' '30.9' '15.8' '12.2' '31.8' '39.7'\n",
      " '14.8' '18.9' '8.3' '10.2' '44.2' '23.7' '38.4' '12' '14' '15' '14.7'\n",
      " '4.9' '26.2' '12.4' '44.1' '19.3' '9.9' '15.5' '11.1' '7.8' '10.4' '49'\n",
      " '7.6' '8.6' '24.8' '11.4' '9.6' '11.3' '14.6' '41.7' '46.4' '10' '12.6'\n",
      " '11.9' '7.1' '43.1' '8.8' '12.9' '10.8' '11.2' '6.5' '8.7' '40.7' '19.1'\n",
      " '10.7' '8.5' '7.5' '6.4' '36.1' '34.6' '13.9' '8' '37.5' '11' '10.6'\n",
      " '9.4' '6.6' '6.1' '43.8' '8.1' '7.7' '39.5' '30.8' '7.2' '5.7' '9.2'\n",
      " '9.1' '11.6' '9' '10.9' '8.2' '11.5' '7.9' '5.9' '28.5' '40' '10.5'\n",
      " '14.9' '8.9' '5.4' '24.9' '6.8' '5.1' '26.7' '9.3' '6.9' '35' '9.8'\n",
      " '25.3' '8.4' '5.8' '34.8' '4.8' '31.9' '57.9' '5.6' '3.1' '38.7' '52.7'\n",
      " '6' '21.5' '94' '10.1' '6.3' '7.4' '29.4' '4.4' '7' '36.7' '5.3' '31.7'\n",
      " '4.6' '7.3' '35.5' '5.5' '26' '6.2' '33.1' '5' '33.2' '4.1' '36.3' '3.7'\n",
      " '4.5' '79.1' '36.2' '4' '4.7' '6.7' '3.2' '0.4' '1.2' '52.2' '2.6' '3.5'\n",
      " '4.2' '39.1' '5.2' '27.4' '1.6' '3' '22.4' '3.9' '2.2' '45.5' '4.3'\n",
      " '29.2' '1.4' '1.5' '3.4' '1.9' '2' '3.8' '1.3' '3.3' '2.3' '1.7' '2.8'\n",
      " '3.6' '1.8' '2.1' '2.4' '0.2' '29' '2.5' '2.7' '2.9' '1' '0.7' '0.9'\n",
      " '0.8' '0.6' '1.1' '0.5' '0.3' '0.1']\n",
      "September: \n",
      " ['64.2' '65.1' '59.9' '38.3' '79' '32.1' '37.1' '22.1' '37.7' '37.5'\n",
      " '38.5' '56.4' '59.2' '47.8' '47.6' '57' '40.3' '32.5' '30.4' '30.3'\n",
      " '82.7' '39.9' '25.6' '42.8' '40.5' '38.9' '39.5' '48.7' '42.7' '25.3'\n",
      " '62.1' '44.6' '33.7' '30.9' '36.8' '47' '26.5' '43.3' '47.5' '35.1'\n",
      " '29.6' '58.8' '48.6' '24.7' '39.4' '38.2' '36.4' '34.7' '81.4' '21'\n",
      " '43.9' '50.2' '20.6' '39.8' '37.2' '34.2' '39.1' '31.4' '40.2' '15.2'\n",
      " '36.5' '22.3' '42.6' '35.6' '24.6' '34' '63.9' '36.7' '21.8' '16.4'\n",
      " '32.3' '28.6' '25' '35.7' '35.2' '38' '15.5' '27.4' '27.7' '34.4' '21.7'\n",
      " '42.5' '33.2' '22.8' '32.2' '33.8' '40.9' '19.6' '22.4' '34.5' '29' '61'\n",
      " '30.6' '29.4' '23.7' '29.2' '31.8' '26.6' '28' '26.1' '48' '34.8' '31.7'\n",
      " '23.6' '22.5' '27.1' '30.5' '24.9' '28.9' '18.7' '34.1' '23.4' '28.5'\n",
      " '28.8' '34.3' '30.2' '19.7' '37.3' '37.8' '31.1' '19.9' '29.5' '26.3'\n",
      " '29.3' '30.1' '31.9' '30' '26.8' '22' '23.5' '31' '52.6' '31.5' '33.9'\n",
      " '31.3' '27.6' '19' '49.5' '27.8' '27.9' '14.7' '28.4' '32.6' '9.8' '24.2'\n",
      " '29.9' '41.9' '32' '35.4' '23' '14.4' '24' '26.9' '55.4' '27.5' '20.4'\n",
      " '33.5' '27' '16.3' '25.4' '17.1' '50.5' '26' '25.1' '20' '19.3' '31.6'\n",
      " '25.7' '27.3' '25.5' '22.7' '24.3' '21.2' '74' '13.3' '21.1' '35.3'\n",
      " '35.8' '24.5' '48.2' '13.6' '28.1' '25.8' '43.5' '17.5' '17.9' '23.9'\n",
      " '39.3' '21.9' '21.6' '13.2' '46.3' '12.7' '15.6' '36.3' '24.4' '23.3'\n",
      " '50.4' '24.1' '23.8' '46.5' '32.9' '20.8' '16.5' '18.1' '15' '32.4'\n",
      " '29.1' '18.8' '28.3' '23.1' '21.3' '21.5' '18.5' '12.8' '17' '19.5'\n",
      " '24.8' '16' '38.1' '20.9' '25.9' '37.4' '26.7' '26.2' '13.9' '33.1'\n",
      " '20.5' '15.4' '33.4' '108.4' '22.9' '39.7' '36.6' '22.6' '20.1' '26.4'\n",
      " '15.3' '-' '18' '11' '12' '15.9' '25.2' '19.8' '7.5' '9' '39.2' '29.7'\n",
      " '14.9' '18.2' '14.6' '19.2' '15.1' '18.4' '19.4' '16.7' '7.2' '13' '20.2'\n",
      " '19.1' '13.1' '12.5' '28.7' '17.6' '10' '12.1' '36' '10.2' '16.9' '14.2'\n",
      " '38.4' '13.5' '13.8' '12.9' '5.3' '31.2' '14.3' '11.4' '17.4' '18.6'\n",
      " '12.4' '10.4' '14.1' '18.3' '12.2' '35.9' '8.3' '10.9' '20.3' '14.8'\n",
      " '16.8' '14' '18.9' '22.2' '28.2' '13.7' '35' '16.2' '30.8' '10.3' '10.8'\n",
      " '15.7' '17.3' '16.1' '2' '13.4' '6.8' '10.6' '11.1' '15.8' '20.7' '11.8'\n",
      " '6.7' '17.2' '11.5' '14.5' '23.2' '12.3' '38.8' '10.5' '7.6' '51.1'\n",
      " '10.7' '27.2' '92.8' '7.7' '17.8' '11.2' '9.5' '11.7' '8.6' '96.3' '9.2'\n",
      " '9.6' '16.6' '17.7' '7.4' '11.9' '8' '8.1' '6.9' '21.4' '10.1' '8.8'\n",
      " '11.6' '7.9' '12.6' '9.4' '30.7' '9.3' '9.7' '8.7' '8.9' '7.1' '54.4'\n",
      " '61.2' '9.1' '11.3' '8.4' '8.5' '5.2' '8.2' '6.3' '7.3' '9.9' '5.6'\n",
      " '73.5' '6.1' '68.2' '75.8' '7.8' '62.7' '5.8' '6.4' '64.8' '6.2' '6.6'\n",
      " '3.1' '1.6' '6.5' '5.7' '50.1' '7' '2.5' '47.2' '74.8' '56' '6' '3.2'\n",
      " '4.8' '48.4' '4.2' '4.7' '5.9' '4.3' '45.3' '43' '5.5' '4' '4.5' '4.6'\n",
      " '44.2' '3.7' '4.4' '3.8' '2.8' '5' '41.1' '5.4' '4.1' '52.4' '43.8'\n",
      " '40.7' '56.7' '4.9' '5.1' '57.2' '3.9' '93.7' '62.2' '41.8' '3.4' '1.4'\n",
      " '2.6' '83.3' '3.6' '45.6' '49.4' '2.1' '1.5' '3.5' '37' '3.3' '43.2'\n",
      " '75.9' '2.9' '1.2' '1.3' '35.5' '42.4' '51.5' '51.6' '2.2' '1.9' '38.6'\n",
      " '45' '40.8' '42.2' '71' '48.5' '45.9' '0.7' '2.3' '56.2' '1.7' '44.7'\n",
      " '60.7' '54.3' '1.8' '39' '2.7' '49.8' '0.9' '54' '36.2' '29.8' '2.4' '44'\n",
      " '36.9' '41.7' '42.9' '38.7' '1' '3' '0.6' '0.5' '1.1' '40' '0.8' '0.4'\n",
      " '0.3']\n",
      "October: \n",
      " ['123.2' '75' '85.4' '99.7' '100' '86.8' '74.1' '49.7' '94.9' '65.3'\n",
      " '103.1' '103.4' '73.1' '70.8' '82' '84.9' '97.2' '95' '90.7' '61.5'\n",
      " '84.1' '89.3' '71.7' '87.5' '69.8' '57.8' '46' '78.4' '77.9' '64.8'\n",
      " '90.9' '84.6' '51.8' '52' '59.5' '91.7' '67.1' '80.1' '56.4' '89.2'\n",
      " '76.5' '85.8' '54.8' '55.1' '68.5' '-' '62.6' '41.9' '61.7' '61.4'\n",
      " '110.8' '60.3' '58.3' '56.6' '63.4' '56.9' '73.2' '48.8' '70' '38.9'\n",
      " '54.3' '43.6' '45.1' '52.3' '44.8' '20.5' '45.6' '54.6' '50.9' '51.3'\n",
      " '45.7' '50' '68.6' '27' '55.7' '47.7' '18.1' '50.7' '53.9' '36.4' '48.9'\n",
      " '47.2' '18.5' '21.4' '38.4' '49.9' '53.2' '34.3' '50.2' '35.7' '34.9'\n",
      " '49.2' '45.8' '49.5' '33.6' '35.3' '43.9' '34.7' '36.7' '49.3' '56.7'\n",
      " '47.4' '54.7' '50.5' '42.2' '40.4' '39.5' '36.8' '31.5' '55.6' '54.2'\n",
      " '42.9' '40.2' '41.3' '54.4' '33.1' '39.1' '43.5' '60.9' '53.6' '57.2'\n",
      " '39.6' '38.7' '38.6' '37.9' '41.5' '42.6' '35.6' '60' '34.1' '40.3'\n",
      " '47.3' '46.7' '35.5' '40.8' '46.6' '41.4' '41.1' '39' '34.4' '43.1'\n",
      " '42.5' '38.3' '40.1' '45.4' '45.5' '28.4' '62' '46.3' '33.7' '51.2'\n",
      " '42.3' '33.5' '55' '37.8' '36.1' '19.9' '36.3' '32.2' '47.6' '37.6'\n",
      " '30.8' '34.8' '29.4' '45.2' '32.4' '30.1' '27.7' '41.2' '54' '28.7'\n",
      " '37.7' '39.4' '57.4' '37' '55.9' '29.5' '40.7' '46.8' '33' '31.9' '53.3'\n",
      " '34.2' '36.6' '23.5' '38.2' '28' '25.6' '37.4' '33.3' '37.1' '45' '31.2'\n",
      " '38.1' '47.5' '32.6' '24.1' '25.9' '33.8' '31.6' '29.7' '17.5' '30'\n",
      " '46.4' '35.1' '45.9' '27.2' '31.3' '32.9' '38.5' '21.9' '25' '24.8'\n",
      " '34.6' '41.7' '25.8' '16.3' '44.7' '47' '44.6' '36.5' '38' '22.8' '59.1'\n",
      " '23' '32.5' '30.3' '32.1' '49.8' '27.4' '13.4' '28.1' '42.8' '25.2'\n",
      " '23.4' '26.7' '32.8' '27.6' '36.2' '29' '35' '46.9' '41' '31.7' '32.3'\n",
      " '25.5' '25.3' '30.2' '21.8' '36.9' '39.9' '26.8' '29.3' '32.7' '24'\n",
      " '39.7' '19.8' '40.5' '27.9' '33.4' '21.2' '30.6' '186.8' '39.8' '23.3'\n",
      " '29.1' '32' '22.3' '21.3' '31.4' '12.8' '26.3' '26.2' '37.2' '20.6' '31'\n",
      " '18.7' '29.6' '21.6' '39.2' '24.3' '24.2' '28.9' '18.4' '42.1' '27.5'\n",
      " '34.5' '19.7' '26.9' '22.6' '23.6' '40' '31.8' '13.9' '28.5' '30.9'\n",
      " '17.9' '30.5' '22.1' '22' '48.3' '20.9' '22.9' '30.7' '31.1' '25.1'\n",
      " '22.4' '37.3' '24.5' '27.1' '20' '23.2' '26.6' '23.8' '24.7' '27.3'\n",
      " '13.8' '19.3' '21.1' '28.2' '25.4' '19.1' '15.9' '21' '16.8' '18.2'\n",
      " '13.3' '22.7' '13.2' '28.3' '29.8' '19' '19.5' '16.6' '20.7' '16.9'\n",
      " '11.7' '26.4' '18.3' '25.7' '24.6' '22.5' '29.9' '29.2' '17.3' '26'\n",
      " '22.2' '13.1' '20.8' '17.1' '30.4' '10.9' '1.9' '24.9' '24.4' '21.7'\n",
      " '12.7' '26.5' '18.9' '14.1' '15.7' '14.9' '17.7' '17.6' '20.4' '2.8'\n",
      " '14.2' '28.8' '18.6' '12.2' '10.2' '16.7' '21.5' '4.9' '66.3' '127.5'\n",
      " '20.2' '17.4' '16.1' '33.2' '26.1' '17' '19.2' '14.4' '18.8' '20.3'\n",
      " '11.6' '17.2' '16.2' '20.1' '10.4' '14.3' '9.9' '39.3' '10.7' '11.2'\n",
      " '23.7' '23.1' '15.5' '15.8' '15.2' '18' '16' '12.1' '14.8' '15.3' '19.6'\n",
      " '7.7' '12.3' '36' '19.4' '13.7' '15' '9.5' '17.8' '9.6' '14.5' '15.1'\n",
      " '13.6' '12.4' '16.5' '10.3' '11.5' '13.5' '16.4' '9.3' '12' '13' '9'\n",
      " '14.7' '5' '7.3' '9.7' '27.8' '9.8' '4.4' '11.9' '14' '15.4' '15.6'\n",
      " '11.8' '12.5' '8.9' '89.5' '8.7' '14.6' '12.6' '3.8' '7.8' '3.6' '10.5'\n",
      " '55.5' '9.2' '10' '11.4' '11.3' '10.6' '8.1' '9.4' '7.6' '74.3' '6.5'\n",
      " '90.8' '7.1' '6.2' '7' '5.1' '10.8' '8.6' '7.9' '8.3' '5.8' '6.7' '68.3'\n",
      " '10.1' '11.1' '48.5' '6.9' '7.5' '9.1' '4.5' '11' '12.9' '8' '6.6' '8.8'\n",
      " '8.5' '6.1' '7.2' '7.4' '8.4' '54.9' '6.3' '6.4' '63.3' '6.8' '8.2' '5.3'\n",
      " '4' '2.6' '3.7' '6' '4.8' '5.5' '1.3' '54.5' '1.7' '3.2' '3.5' '44.5'\n",
      " '44.2' '3.3' '5.4' '2' '1.4' '5.7' '1.6' '33.9' '5.6' '3.9' '34' '46.5'\n",
      " '5.9' '4.1' '1.2' '4.3' '5.2' '1.8' '4.6' '3.1' '2.1' '4.7' '3.4' '35.8'\n",
      " '23.9' '49.6' '43.7' '0.8' '1.5' '2.4' '4.2' '3' '2.5' '2.2' '0.4' '2.9'\n",
      " '2.7' '0.5' '0.9' '2.3' '0.2' '0.7' '1' '0.6' '1.1' '0.3']\n",
      "November: \n",
      " ['190.5' '50.3' '111.4' '176.8' '132' '179.9' '139.7' '59.9' '170.1'\n",
      " '141.9' '157.3' '148.3' '78.1' '154' '117.3' '144.5' '164.6' '128.1'\n",
      " '137.4' '141.7' '133.3' '145.3' '53' '109.2' '115.2' '118.2' '76.6'\n",
      " '108.1' '114.4' '64.9' '119.8' '106.9' '119.9' '84.9' '110.6' '100.5'\n",
      " '108.9' '127.5' '99.5' '126.9' '140.6' '98.9' '90.8' '122.8' '94.2' '-'\n",
      " '99.3' '76' '112.2' '103.7' '37.4' '90.2' '100.2' '75.9' '36.6' '102.3'\n",
      " '103.1' '102.7' '64.5' '86.5' '64' '85.9' '61.2' '33.2' '39.6' '64.2'\n",
      " '113.3' '79.7' '73.9' '97.7' '67.4' '48.4' '80.4' '64.6' '104.9' '80.2'\n",
      " '72.1' '36' '74.6' '75.6' '123.8' '43.9' '81.3' '56.8' '24.4' '37.3'\n",
      " '100.4' '93.6' '78.6' '76.9' '64.4' '68.9' '78.9' '89.7' '69.6' '70.2'\n",
      " '73.1' '88.7' '75.1' '65.6' '71.7' '83.2' '30.9' '81.4' '68.6' '98.2'\n",
      " '73.8' '70.5' '29.9' '69.8' '44.8' '68' '63.7' '78.5' '55.6' '76.3'\n",
      " '38.6' '72.5' '38.9' '68.1' '58.2' '57.2' '47.6' '61.3' '65.1' '67.1'\n",
      " '66.5' '45.1' '87.8' '54.1' '54' '74.8' '70.3' '57.4' '58.5' '63.2'\n",
      " '70.6' '26.1' '61.7' '70.7' '63.1' '57.3' '87.9' '62.5' '39.9' '54.6'\n",
      " '52.9' '68.7' '55.9' '56' '63.8' '51.1' '63.5' '48.7' '59' '50.7' '71.2'\n",
      " '72.3' '61.4' '45.2' '24.6' '80.6' '59.7' '28.8' '62.7' '67.6' '50.6'\n",
      " '74.3' '40.4' '58' '56.5' '33.3' '52.1' '41.9' '46' '62.3' '61.6' '62.2'\n",
      " '45.9' '51.4' '55.8' '43.2' '41.8' '41.7' '53.1' '51.9' '72' '46.1'\n",
      " '56.7' '55.3' '54.8' '38' '55.2' '19.8' '66.4' '47.7' '60.8' '45.8'\n",
      " '34.2' '53.7' '56.3' '49.9' '49' '53.4' '59.4' '51.5' '36.7' '45.3'\n",
      " '59.2' '47.1' '81' '44.5' '58.9' '40.5' '46.9' '46.5' '66.2' '47.8'\n",
      " '47.9' '50.5' '42.2' '29.8' '54.5' '48.9' '78.2' '73' '44.2' '46.4'\n",
      " '39.3' '47.2' '15.9' '49.2' '42.5' '61.1' '38.1' '52' '33.9' '52.7'\n",
      " '43.6' '50.2' '41.1' '47' '38.4' '58.1' '43.4' '45.7' '39.8' '41.4'\n",
      " '34.6' '8.7' '70' '32.7' '49.7' '59.3' '37' '44.7' '51.8' '57' '32.4'\n",
      " '41' '65.3' '44' '60.3' '27.2' '35.9' '59.6' '41.5' '58.3' '35.7' '42.7'\n",
      " '50.1' '29.2' '51.6' '27.8' '36.3' '25.1' '26.8' '39.2' '51' '38.8'\n",
      " '40.2' '44.1' '36.1' '48.3' '31.8' '30.7' '33.5' '38.5' '72.6' '54.2'\n",
      " '34.9' '50.9' '32.2' '7.6' '31' '42.6' '38.7' '39.7' '48.2' '32.9' '39'\n",
      " '44.3' '17.7' '33.7' '30' '31.3' '34.8' '34.4' '29.5' '12.9' '46.7'\n",
      " '29.1' '42.9' '27.6' '59.8' '26.5' '31.4' '29.3' '26.7' '50.4' '37.8'\n",
      " '54.4' '30.3' '31.2' '52.3' '28.9' '37.2' '20.5' '45.6' '30.6' '40.8'\n",
      " '51.2' '24.1' '27.4' '35.3' '32' '47.3' '33.4' '57.7' '25.7' '43.7'\n",
      " '33.8' '22.8' '30.5' '26.3' '10.1' '34.5' '30.1' '18.9' '23' '39.5'\n",
      " '28.7' '53.2' '34.3' '31.7' '33.6' '30.4' '27.3' '27.9' '28' '14.4'\n",
      " '24.2' '27.1' '40.9' '45.4' '41.6' '29.6' '36.4' '27.7' '31.9' '25.5'\n",
      " '28.4' '12.4' '42.8' '23.6' '10.2' '24.9' '20' '22.3' '37.1' '28.1'\n",
      " '37.6' '29.4' '40.3' '22.7' '18.2' '27.5' '14' '25.6' '10.9' '22.4'\n",
      " '25.9' '26.4' '32.6' '31.6' '33.1' '33' '23.3' '49.3' '62.9' '25.8' '25'\n",
      " '29' '29.7' '21.9' '23.2' '35.6' '24' '7' '19.3' '26.6' '34' '23.5'\n",
      " '16.5' '5.1' '34.7' '23.4' '24.3' '20.8' '51.7' '54.7' '11.4' '34.1'\n",
      " '43.1' '21' '25.2' '22.1' '20.2' '36.9' '23.9' '11.1' '22.9' '26.2'\n",
      " '49.1' '32.5' '42' '24.7' '12.6' '20.7' '40.7' '9.8' '18' '20.4' '23.1'\n",
      " '12.3' '13.7' '28.5' '20.9' '10.5' '18.4' '13.4' '24.8' '21.8' '18.3'\n",
      " '35.1' '72.4' '18.6' '19.1' '23.8' '18.1' '31.1' '19.7' '22.5' '36.8'\n",
      " '37.5' '15.3' '26.9' '21.7' '30.8' '12.8' '18.5' '9.7' '12' '21.3' '7.8'\n",
      " '16.4' '19.6' '17.2' '37.9' '39.1' '20.3' '25.3' '38.3' '32.8' '42.4'\n",
      " '18.8' '23.7' '14.8' '22' '17' '15.8' '20.1' '10.3' '15.5' '17.6' '30.2'\n",
      " '13.9' '28.6' '14.5' '21.6' '28.3' '22.6' '2' '21.4' '8' '19' '9' '22.2'\n",
      " '20.6' '19.9' '18.7' '28.2' '15' '11.3' '17.4' '11.2' '25.4' '35.8'\n",
      " '13.5' '13.3' '12.7' '38.2' '10.6' '24.5' '36.5' '5.7' '16' '9.4' '19.5'\n",
      " '26' '21.2' '19.4' '31.5' '27' '32.1' '14.7' '35.2' '5.6' '14.2' '19.2'\n",
      " '13.6' '9.5' '16.1' '21.5' '16.2' '21.1' '7.4' '6.5' '32.3' '17.5' '1.5'\n",
      " '13' '15.7' '17.8' '16.7' '17.3' '16.6' '16.3' '14.1' '8.6' '8.4' '17.9'\n",
      " '15.2' '17.1' '11.6' '10.8' '11.5' '9.3' '12.1' '16.8' '14.6' '6.2'\n",
      " '15.4' '11.9' '15.1' '15.6' '13.1' '10.4' '6.4' '10.7' '6.6' '13.2' '5.2'\n",
      " '11' '10' '9.6' '14.9' '9.9' '4.7' '11.7' '12.2' '16.9' '9.1' '11.8'\n",
      " '5.5' '8.2' '8.8' '8.9' '9.2' '6.3' '5.9' '8.1' '4.3' '7.3' '12.5' '13.8'\n",
      " '7.7' '5.8' '2.5' '6.7' '14.3' '7.9' '8.3' '7.2' '8.5' '6.8' '7.1' '1.7'\n",
      " '7.5' '2.2' '5' '6.1' '5.3' '4.2' '1.8' '6.9' '1.3' '3.1' '3.7' '6' '2.3'\n",
      " '5.4' '4.8' '4.6' '3.4' '4.4' '4.9' '2.1' '1.6' '4.5' '3.5' '3.3' '2.9'\n",
      " '4.1' '2.7' '1.9' '1.4' '3.8' '3.9' '1' '3.6' '2.8' '4' '2.6' '3' '0.9'\n",
      " '0.8' '3.2' '2.4' '0.7' '1.2' '0.5' '1.1' '0.2' '0.6' '0.4' '0.3']\n",
      "December: \n",
      " ['192.9' '120' '86.9' '171.9' '212.1' '248' '201.2' '132.4' '166.8'\n",
      " '209.2' '159.2' '129.6' '88.7' '218.3' '144.7' '189' '178.1' '99.5'\n",
      " '133.1' '193' '142' '117.4' '94.9' '93.5' '89.9' '181.5' '74.6' '92.8'\n",
      " '84.6' '138.8' '111.6' '83.8' '207.1' '98.6' '134.1' '103.1' '130.7'\n",
      " '120.8' '103.8' '147.6' '93.4' '112.6' '101.7' '70.1' '148.9' '76.7' '-'\n",
      " '146.4' '74.7' '139.1' '82.3' '41.3' '84.4' '75.7' '69' '52.1' '87.9'\n",
      " '139.6' '97.6' '77.3' '85.4' '79' '49.8' '36.8' '134' '61.3' '145' '76'\n",
      " '66.4' '123.7' '93.2' '28.9' '87.4' '59.4' '65.4' '65.8' '81.4' '121.5'\n",
      " '65.9' '66.6' '129.2' '103.5' '63.2' '51.2' '127.1' '73.1' '98.8' '85.2'\n",
      " '74' '79.7' '79.1' '106.5' '86.7' '117' '119.3' '86' '70.6' '77.8'\n",
      " '120.6' '76.2' '84.5' '88.9' '81.9' '42.8' '71.3' '81.2' '85.8' '83.9'\n",
      " '59.9' '29.8' '73' '71.7' '80.9' '61.2' '114.8' '96.3' '70.5' '29.2'\n",
      " '70.2' '104.2' '68.2' '78.6' '31.4' '92.9' '74.2' '82.6' '63.7' '64.3'\n",
      " '89.6' '102.7' '54.1' '89.8' '88.1' '66' '72.2' '82.7' '57.3' '78.2'\n",
      " '30.5' '80' '73.7' '38.5' '89.7' '83' '56.4' '72.1' '75.6' '53.5' '54.3'\n",
      " '77.5' '85.9' '66.8' '57.6' '64.5' '80.6' '68.3' '81.5' '80.3' '75.3'\n",
      " '67.8' '47' '73.4' '49.6' '25.8' '40.3' '35.9' '47.1' '65.6' '75.5'\n",
      " '89.5' '29.7' '70.7' '96.1' '72.9' '36.7' '67.6' '79.6' '56.5' '69.2'\n",
      " '72.5' '68.8' '54.6' '76.3' '54.7' '69.6' '70.9' '81.6' '62' '44.7'\n",
      " '72.7' '93.6' '59.6' '75.2' '65.5' '11.8' '69.4' '39.2' '35.5' '42.5'\n",
      " '40.7' '64' '75.4' '83.1' '61.7' '39.6' '62.9' '61.6' '31.1' '70.4' '70'\n",
      " '68' '60.4' '50.5' '52.6' '69.7' '77' '65.7' '62.6' '66.1' '54' '23.7'\n",
      " '40.9' '48.9' '110.4' '83.4' '32.8' '48.4' '73.9' '56.1' '18.7' '61.9'\n",
      " '31' '73.8' '63.5' '32.1' '88.4' '60.9' '8.3' '49' '58.4' '43.2' '50.6'\n",
      " '39.5' '57.4' '64.4' '7.1' '53.9' '32.2' '48.6' '51.5' '58.1' '37.9'\n",
      " '59.7' '47.9' '40.4' '48.2' '52.5' '39.7' '27.7' '65.2' '94.7' '37.1'\n",
      " '100.8' '55.8' '55.1' '60.3' '45.2' '65.3' '26.2' '57.7' '57.2' '58.6'\n",
      " '51.8' '50.2' '50.8' '34.6' '44' '54.8' '55.3' '64.9' '40.2' '54.9'\n",
      " '76.8' '79.3' '102.8' '58.8' '29.9' '68.5' '67.1' '56' '63.4' '55.6'\n",
      " '55.5' '30' '43.8' '55.9' '4.8' '54.2' '52.7' '41.2' '63.1' '45.9' '56.7'\n",
      " '47.3' '43.5' '46.1' '14.3' '60.7' '39' '66.2' '49.9' '29.6' '56.8'\n",
      " '48.5' '51.3' '51' '10.2' '29' '52.2' '60.2' '42.3' '97.5' '50.3' '43.7'\n",
      " '27.8' '63.6' '34.7' '34.4' '22.4' '64.2' '63.8' '53.1' '31.2' '34.5'\n",
      " '62.8' '50' '44.6' '56.6' '50.7' '43' '17.4' '48.8' '31.6' '58.5' '41.4'\n",
      " '57.5' '38.8' '41.6' '36.1' '50.1' '26.6' '41.9' '32.3' '37.5' '25.3'\n",
      " '26.1' '30.8' '49.2' '28.7' '28.4' '44.9' '46.7' '49.1' '5.2' '45.8'\n",
      " '40.6' '52.8' '49.3' '28.6' '41.5' '60.1' '74.1' '21.2' '62.3' '51.6'\n",
      " '40.5' '44.5' '45.4' '36.2' '40.8' '14.7' '37.8' '47.4' '30.9' '34.9'\n",
      " '42.4' '42.2' '33.8' '56.3' '57.1' '49.5' '33.3' '19.1' '14.9' '33.9'\n",
      " '32' '41.1' '46.9' '33' '22.2' '45.7' '31.9' '46' '16.8' '13.2' '44.3'\n",
      " '38.9' '34.3' '46.2' '12.8' '38.6' '33.4' '27.3' '35.7' '28.8' '32.5'\n",
      " '19.2' '68.1' '56.2' '39.3' '40.1' '22.9' '32.6' '59.1' '29.4' '36.4'\n",
      " '38.4' '5.5' '47.8' '23.6' '29.5' '28.5' '23.8' '35.3' '9.3' '30.1'\n",
      " '62.2' '60.8' '43.3' '31.3' '84.2' '35.2' '12.4' '39.4' '24.6' '18.8'\n",
      " '12' '43.6' '53.3' '26.8' '27.9' '20.8' '27' '34.8' '27.1' '22.3' '42.9'\n",
      " '24.2' '42.1' '12.5' '15.2' '32.4' '9.2' '25.7' '18.3' '30.3' '14.5'\n",
      " '25.2' '24.8' '10.6' '11.4' '44.4' '15.5' '22.7' '35.8' '10.7' '31.8'\n",
      " '13' '30.7' '24.4' '38.3' '20.3' '37.2' '18.6' '31.7' '23.2' '33.5'\n",
      " '26.3' '32.7' '16.1' '38.1' '45' '34.2' '6.3' '43.9' '20.9' '39.1' '34.1'\n",
      " '16.7' '26.7' '38.2' '26.4' '22.8' '23.9' '37.6' '36' '37.7' '18' '27.4'\n",
      " '36.3' '14.4' '22.5' '10.3' '30.6' '34' '20.5' '38' '21.3' '28.1' '21'\n",
      " '16' '13.4' '11.3' '30.4' '37' '27.5' '27.6' '36.9' '35.6' '23.4' '37.3'\n",
      " '25.9' '25.1' '17.6' '42.6' '30.2' '10.4' '20.6' '26.9' '24.1' '35'\n",
      " '19.5' '26.5' '24.7' '21.7' '35.4' '18.5' '25.5' '19.8' '28.2' '21.9'\n",
      " '31.5' '8' '21.1' '36.6' '15' '9.6' '15.4' '29.1' '23.3' '20.4' '20.1'\n",
      " '40' '16.9' '7.6' '6.5' '25' '19' '17.5' '13.7' '22.6' '25.4' '24.9'\n",
      " '21.5' '23.5' '20.2' '26' '28.3' '19.3' '11' '29.3' '18.2' '25.6' '8.8'\n",
      " '22' '27.2' '24' '35.1' '10' '32.9' '14.2' '4.1' '20.7' '21.4' '11.7'\n",
      " '24.3' '18.9' '5.4' '6.9' '1.3' '17.1' '19.4' '18.1' '5.6' '3.7' '9'\n",
      " '19.7' '38.7' '15.8' '16.2' '7' '18.4' '10.5' '9.7' '20' '6.2' '14'\n",
      " '46.5' '28' '6.4' '6.8' '16.4' '10.1' '23' '17.9' '21.6' '11.1' '3'\n",
      " '15.1' '16.3' '19.9' '19.6' '14.1' '8.6' '17' '9.4' '14.6' '12.3' '12.7'\n",
      " '15.6' '17.2' '3.8' '22.1' '17.3' '15.7' '15.3' '4.3' '14.8' '7.3' '17.8'\n",
      " '13.3' '7.2' '24.5' '16.5' '12.2' '9.1' '21.8' '3.6' '4.7' '7.5' '17.7'\n",
      " '13.1' '0.7' '8.5' '5.7' '10.9' '16.6' '11.6' '13.9' '13.5' '23.1' '13.6'\n",
      " '15.9' '2.3' '9.5' '11.2' '13.8' '7.7' '12.1' '10.8' '8.9' '12.6' '12.9'\n",
      " '7.8' '33.7' '9.9' '8.1' '8.7' '11.9' '8.4' '2.1' '7.9' '8.2' '11.5'\n",
      " '1.1' '4' '5.8' '5.1' '9.8' '7.4' '6' '4.6' '1.8' '2.7' '5.9' '1.6' '1.5'\n",
      " '5' '4.9' '6.7' '6.1' '2.5' '4.5' '6.6' '4.2' '1.2' '2.8' '5.3' '0.8'\n",
      " '2.4' '0.1' '3.9' '0.9' '2.6' '2' '4.4' '1.9' '3.1' '3.4' '3.3' '1.4'\n",
      " '2.9' '3.5' '3.2' '1.7' '2.2' '0.6' '1' '0.3' '0.5']\n",
      "2021: \n",
      " ['86.5' '101.5' '106.2' '96.4' '89.6' '175.9' '-' '77.6' '78.2' '102'\n",
      " '76.9' '49.7' '73' '94.2' '87.5' '139.9' '88.9' '82.9' '91.4' '84.1'\n",
      " '75.5' '73.9' '86.9' '46.6' '72.5' '68.1' '53.8' '83.2' '80.6' '89' '91'\n",
      " '80.8' '58.1' '83.4' '46.8' '57.8' '71.5' '58.4' '58.2' '65.3' '49.8'\n",
      " '78.1' '63.3' '57.2' '86' '67.8' '33' '60.3' '59.7' '71.8' '75.8' '66.5'\n",
      " '48.3' '59' '82.6' '29.7' '55.7' '55.9' '52' '57' '51.2' '52.8' '56.6'\n",
      " '35.2' '54' '41.7' '55.1' '66.2' '43.9' '51.4' '43.7' '42.2' '50.8'\n",
      " '45.3' '53.1' '45.7' '45.9' '58' '47.8' '50.6' '48.4' '45.6' '47.3'\n",
      " '43.6' '38.9' '47.1' '33.2' '56' '55' '55.5' '44.6' '76.8' '41.1' '33.8'\n",
      " '44.1' '59.5' '44.9' '60.9' '49.6' '48.5' '82.5' '45.1' '42' '46.4'\n",
      " '27.3' '45.8' '40.5' '58.3' '32.5' '44' '43.2' '39.1' '42.5' '44.8'\n",
      " '46.7' '43.4' '38.8' '42.7' '39.5' '41.3' '28.1' '42.1' '42.4' '44.3'\n",
      " '48.1' '38.1' '39.9' '44.4' '45.5' '42.9' '43.1' '46.3' '46.5' '44.7'\n",
      " '43' '36.9' '45.4' '52.6' '41' '47.6' '41.4' '67.9' '40.3' '35' '49.2'\n",
      " '39.4' '42.8' '39.2' '38' '47.2' '26.6' '67' '37.5' '38.2' '43.3' '37.9'\n",
      " '69.2' '41.5' '39.6' '34' '33.9' '31.1' '50.9' '42.6' '38.6' '36.2'\n",
      " '32.1' '28.6' '36.7' '27.6' '32.6' '37.6' '30.7' '40' '38.4' '31' '36.1'\n",
      " '29.9' '73.4' '39.3' '35.7' '40.2' '37.4' '26.4' '47.5' '31.9' '34.4'\n",
      " '59.9' '42.3' '28.2' '37.3' '32.7' '41.6' '38.3' '31.7' '28.4' '40.9'\n",
      " '30.6' '36.5' '32.4' '34.6' '33.6' '34.3' '37.1' '31.3' '37.7' '43.5'\n",
      " '26.9' '29.3' '37.2' '34.9' '34.1' '35.8' '34.8' '32.8' '40.7' '39'\n",
      " '40.1' '35.1' '33.7' '33.4' '39.7' '15.9' '36.6' '30.1' '40.6' '36'\n",
      " '28.3' '14.2' '28.9' '23.4' '36.4' '29.4' '31.4' '34.7' '36.8' '30.2'\n",
      " '24.6' '32.9' '34.2' '26.1' '28.8' '29' '33.1' '35.9' '27.1' '26.8' '37'\n",
      " '23.9' '27.7' '26.7' '31.5' '21.6' '27' '23.7' '37.8' '30.4' '25.9'\n",
      " '29.2' '46.9' '25.8' '30' '35.4' '74.5' '32.2' '20' '25.5' '31.8' '19.6'\n",
      " '25.3' '29.5' '20.9' '27.4' '25' '23' '22.9' '35.5' '24.8' '24.9' '32'\n",
      " '18.7' '26.3' '30.3' '29.8' '31.2' '29.1' '21.5' '22.1' '26' '27.9'\n",
      " '30.8' '20.8' '25.2' '25.1' '25.7' '25.6' '28.7' '23.2' '23.8' '25.4'\n",
      " '24.1' '23.5' '30.5' '20.1' '28' '24.4' '26.5' '24' '26.2' '22.8' '17.7'\n",
      " '21.7' '22.5' '22.2' '15.3' '20.3' '17.5' '21.9' '22.6' '27.2' '33.3'\n",
      " '18.8' '17.9' '29.6' '19.9' '23.6' '18' '20.4' '24.3' '28.5' '19.8'\n",
      " '20.5' '16.6' '23.3' '19.4' '18.5' '22.3' '21.8' '17.6' '17.4' '21.4'\n",
      " '34.5' '24.5' '19.7' '21.2' '21.1' '45' '19' '22.4' '20.2' '21' '16.2'\n",
      " '15.2' '14.1' '18.2' '21.3' '22' '19.5' '23.1' '19.2' '18.4' '20.6'\n",
      " '18.6' '18.1' '20.7' '19.3' '13' '18.3' '14.6' '15.6' '19.1' '17.1'\n",
      " '24.2' '24.7' '17' '22.7' '15' '12.9' '11.9' '17.3' '16.7' '16.8' '15.4'\n",
      " '10.6' '18.9' '16.9' '17.2' '17.8' '16.4' '12.8' '12.6' '16' '12.4'\n",
      " '14.5' '11' '16.1' '7.9' '16.3' '15.5' '14.4' '11.2' '9.5' '14.9' '15.7'\n",
      " '13.6' '13.7' '14.8' '16.5' '13.8' '14.3' '12' '14' '8.2' '13.1' '8.1'\n",
      " '14.7' '11.7' '10.1' '13.4' '10.4' '13.3' '15.1' '10.8' '13.5' '15.8'\n",
      " '7.7' '12.7' '13.9' '12.2' '13.2' '8.9' '7.1' '6.7' '12.3' '7.2' '12.5'\n",
      " '10.9' '9' '7' '11.4' '9.1' '8.6' '12.1' '11.1' '9.8' '10.3' '10.2'\n",
      " '10.5' '9.9' '9.6' '11.5' '11.8' '6.5' '11.6' '9.3' '10.7' '10' '9.7'\n",
      " '7.6' '11.3' '8.5' '7.5' '9.2' '8.3' '4.8' '6.1' '7.4' '7.8' '9.4' '8.7'\n",
      " '5.6' '8.4' '6.8' '8.8' '6.3' '6.2' '5.2' '7.3' '6.9' '8' '3.2' '6.6'\n",
      " '4.3' '6' '5.4' '4.5' '5.3' '6.4' '5.8' '5.7' '4.9' '1.7' '27.8' '4.6'\n",
      " '4.2' '5.1' '5.5' '5.9' '5' '2.5' '1.5' '4.7' '4.4' '1.6' '4.1' '4' '3.5'\n",
      " '3.8' '3.1' '3.6' '3.7' '3.3' '3.9' '3' '3.4' '2.7' '2.9' '2.4' '2.6'\n",
      " '1.8' '2' '2.2' '1.9' '2.1' '2.8' '2.3']\n",
      "2020: \n",
      " ['79.2' '110.2' '95.5' '84.1' '-' '68.4' '106.6' '72.5' '78.6' '73.2'\n",
      " '89.5' '83.3' '74.3' '94.3' '81.6' '74.4' '46.3' '66.2' '67.2' '39' '81'\n",
      " '82.3' '81.1' '78.7' '98.4' '54' '75.3' '54.3' '64.8' '44.2' '58' '39.7'\n",
      " '89.1' '77.1' '78.5' '86.2' '67.1' '36.6' '55.3' '45.2' '51.7' '42.8'\n",
      " '34' '57.5' '46.4' '61.1' '42.1' '58.4' '59.3' '43.8' '41.1' '40.6' '49'\n",
      " '49.2' '52' '58.9' '39.8' '14.7' '53.5' '47.2' '55.4' '61.5' '52.5'\n",
      " '62.1' '50.5' '53.7' '55.5' '57.7' '46.6' '41.4' '51.5' '32.4' '56.2'\n",
      " '32.1' '51.2' '52.6' '47.1' '44.6' '27.7' '49.3' '42.4' '23.9' '30.9'\n",
      " '50.7' '63.2' '49.5' '51.4' '54.2' '53.6' '27.1' '41.3' '52.7' '52.2'\n",
      " '23.3' '43' '46.7' '36.5' '50.9' '47.5' '50.3' '45.3' '40.3' '40.1'\n",
      " '45.9' '52.1' '57.6' '42.6' '32.6' '53.4' '55.9' '51' '53.9' '49.8'\n",
      " '39.2' '36.1' '34.7' '58.2' '50.4' '44.3' '38.8' '38.9' '44' '48.3'\n",
      " '22.4' '35.9' '54.8' '47.4' '40.7' '50.1' '28' '39.1' '47' '52.4' '49.7'\n",
      " '35.8' '37.9' '37.4' '44.7' '31.7' '26.1' '40' '30.6' '48.4' '44.5'\n",
      " '45.1' '21.2' '49.1' '40.5' '80.2' '40.8' '46.2' '37.6' '45.5' '33.3'\n",
      " '18.6' '25' '41' '38.2' '44.4' '36.8' '38.6' '46.9' '48.9' '39.6' '37.3'\n",
      " '43.6' '29' '31.4' '30.3' '48.1' '34.5' '24.7' '33' '37.7' '32.2' '37'\n",
      " '37.1' '18.2' '33.9' '49.9' '34.2' '30.7' '33.4' '37.8' '31.1' '32.8'\n",
      " '34.9' '41.8' '36.7' '43.3' '26.8' '28.6' '34.1' '13.3' '29.9' '46.8'\n",
      " '38.7' '45.7' '33.6' '35.7' '21.3' '42.5' '36' '35.5' '24.3' '41.7' '35'\n",
      " '32.9' '35.6' '25.2' '44.1' '32.7' '31.8' '29.6' '24.4' '32' '41.5'\n",
      " '35.3' '27.5' '24.9' '29.1' '29.5' '36.3' '30.1' '39.3' '28.7' '19'\n",
      " '38.4' '32.5' '33.7' '30.4' '30.5' '26.9' '34.3' '28.5' '37.5' '25.7'\n",
      " '28.4' '28.9' '26.6' '41.2' '21.8' '26.2' '43.5' '40.2' '27.8' '21.4'\n",
      " '32.3' '25.1' '27.4' '33.8' '40.4' '23.6' '27' '35.1' '30.8' '28.2' '53'\n",
      " '25.6' '22.1' '29.3' '21.1' '24.5' '28.8' '31.3' '22.7' '13.1' '20.6'\n",
      " '28.3' '27.6' '22.3' '29.2' '33.2' '26.7' '22.6' '18.9' '13.7' '18'\n",
      " '23.8' '33.5' '31.5' '26' '31.2' '17.2' '26.5' '21.9' '29.8' '22.5'\n",
      " '20.7' '25.8' '23.5' '27.9' '13.6' '29.4' '21.5' '41.6' '23' '39.4'\n",
      " '30.2' '19.1' '24.8' '24' '18.4' '23.4' '21.7' '23.1' '15.1' '25.4'\n",
      " '16.3' '24.2' '22.8' '8.4' '27.3' '22.2' '31.6' '18.8' '25.5' '10.6'\n",
      " '20.2' '17.4' '21' '19.5' '15.4' '17.8' '17' '23.2' '15.9' '21.6' '20.3'\n",
      " '22' '17.6' '20.8' '16.5' '23.7' '20.9' '17.3' '24.6' '13' '16.7' '17.7'\n",
      " '26.4' '14.4' '20.1' '20' '19.6' '19.3' '15.3' '19.9' '19.8' '18.5'\n",
      " '14.6' '18.3' '16' '15.6' '14.1' '29.7' '14.8' '16.8' '16.6' '25.9'\n",
      " '17.1' '19.4' '16.9' '15.5' '14.5' '17.9' '16.2' '17.5' '12.9' '19.2'\n",
      " '18.7' '16.1' '14.3' '15.7' '13.9' '46.5' '12.4' '12.3' '18.1' '20.5'\n",
      " '19.7' '14' '30' '9.5' '25.3' '20.4' '15.8' '12.1' '16.4' '8.7' '15.2'\n",
      " '6.5' '14.2' '13.8' '12.2' '5.6' '15' '12.8' '14.9' '12.7' '13.5' '24.1'\n",
      " '5.7' '22.9' '11.2' '13.4' '9.7' '10.3' '12.5' '10.2' '12.6' '8.9' '11.7'\n",
      " '11.3' '9.8' '10' '10.9' '5.1' '11.5' '12' '11.9' '10.8' '11.8' '13.2'\n",
      " '7.6' '9.9' '11.4' '10.7' '7.2' '11.1' '6.3' '6.4' '11.6' '7.5' '9' '11'\n",
      " '6.2' '6' '10.4' '8.6' '8.8' '7.7' '10.5' '10.1' '9.4' '7.9' '5.9' '8.2'\n",
      " '7.8' '9.6' '9.2' '31' '8.3' '9.1' '9.3' '6.7' '8' '8.1' '6.9' '8.5'\n",
      " '5.4' '5.3' '6.8' '5' '7.4' '7.1' '4.4' '7.3' '7' '6.1' '6.6' '4.5' '4.9'\n",
      " '5.8' '5.5' '4.6' '4.7' '3.2' '4.8' '5.2' '4.2' '2.6' '3.5' '4.3' '3.8'\n",
      " '3.9' '4' '3.3' '3.6' '3.7' '3.4' '3.1' '2.4' '3' '2.2' '2.9' '2.5']\n",
      "2019: \n",
      " ['89.5' '110.1' '83.4' '98.6' '63.9' '-' '82.1' '110.2' '39.6' '89.1'\n",
      " '104.6' '91.3' '85' '81.2' '97.7' '85.4' '59.7' '59.4' '59.2' '56.1'\n",
      " '61.6' '87.1' '81' '89.4' '93.1' '50' '44.4' '63' '46.8' '48.5' '83.3'\n",
      " '90.3' '77.2' '50.9' '49.3' '41.3' '45.9' '38.3' '63.3' '54.6' '49.1'\n",
      " '54' '63.4' '50.5' '35.2' '53.9' '59' '48.6' '62.1' '48.1' '17.7' '48.2'\n",
      " '73.7' '60' '35.7' '70.3' '55.6' '63.7' '40.2' '55.9' '61' '60.4' '61.2'\n",
      " '59.8' '35.9' '55.7' '52.6' '61.3' '35.3' '60.1' '47.2' '61.7' '43.4'\n",
      " '34.8' '56.6' '40.8' '38.4' '62.4' '62.8' '56.3' '76.5' '60.6' '45.3'\n",
      " '64.3' '72.6' '41' '22.1' '45.5' '58.4' '56.4' '44' '39.5' '52.1' '53.4'\n",
      " '64' '40.9' '54.5' '63.5' '58.8' '55.1' '38.5' '57.7' '39' '49.8' '19.4'\n",
      " '50.6' '46.4' '51.9' '42.6' '38.6' '43.9' '59.6' '52.5' '47.8' '34.2'\n",
      " '48' '44.6' '56' '57.4' '42' '46.9' '36.1' '47.1' '29.1' '36.9' '57.6'\n",
      " '47.5' '53.6' '37' '20.8' '50.1' '42.4' '57.2' '51.3' '54.1' '33.1'\n",
      " '47.9' '41.5' '41.7' '46' '41.8' '37.1' '54.4' '49.4' '25.9' '53' '62.6'\n",
      " '34.4' '42.3' '45' '35.1' '41.9' '39.9' '21.7' '31.5' '26.4' '31.1'\n",
      " '56.2' '37.8' '33.2' '40.6' '42.5' '32.7' '39.3' '32.5' '46.3' '23'\n",
      " '38.2' '39.1' '34.5' '47.3' '30.4' '43.8' '43' '9.7' '41.2' '40.3' '44.7'\n",
      " '20' '29.8' '19.8' '42.1' '35.5' '34.1' '33.3' '30.3' '28.8' '32.4'\n",
      " '38.8' '37.9' '32.6' '25.5' '31' '41.6' '33.5' '20.1' '28.6' '27.6'\n",
      " '48.4' '37.6' '28.7' '40' '62' '24.8' '32.2' '29.4' '31.3' '36.5' '31.8'\n",
      " '39.2' '38.1' '27.4' '30.8' '34.9' '32.3' '46.2' '33.4' '33' '37.4'\n",
      " '38.7' '27.1' '27.9' '16.9' '23.3' '28.3' '37.7' '26.5' '29.3' '36.7'\n",
      " '22.6' '34' '43.6' '35.4' '40.5' '18' '36.3' '23.1' '25.1' '26.3' '20.7'\n",
      " '38.9' '22.7' '33.9' '40.1' '30.5' '20.4' '18.9' '19.6' '27' '36' '25.7'\n",
      " '15.7' '20.2' '38' '32.9' '35' '23.4' '26' '27.7' '15.4' '21.1' '21.5'\n",
      " '30.7' '16' '23.7' '26.9' '30.2' '15.5' '34.6' '26.1' '20.6' '39.4'\n",
      " '24.7' '36.4' '29.2' '11.8' '31.4' '30' '24.3' '25.3' '29.7' '29.9'\n",
      " '23.5' '27.2' '24.1' '30.6' '23.2' '28.5' '34.3' '23.8' '27.3' '37.5'\n",
      " '25.8' '32' '26.2' '23.9' '24.5' '31.7' '22' '19.9' '28.2' '25' '31.6'\n",
      " '28.4' '29.6' '20.5' '19.1' '24.9' '20.9' '16.2' '23.6' '28.9' '22.5'\n",
      " '21.4' '24.6' '21' '21.8' '13.2' '21.3' '52.8' '25.2' '24' '27.8' '22.3'\n",
      " '22.9' '14.9' '25.4' '16.8' '19.7' '37.2' '28' '18.1' '15.2' '18.6'\n",
      " '32.8' '19' '26.6' '22.8' '13.7' '17.1' '26.7' '26.8' '16.6' '29.5'\n",
      " '24.2' '17.8' '18.7' '21.6' '20.3' '16.7' '9.5' '13.9' '18.4' '19.2'\n",
      " '19.3' '8.7' '15.3' '21.2' '22.4' '14.4' '21.9' '18.5' '7' '17.4' '18.2'\n",
      " '18.8' '15.9' '14.5' '16.1' '17.6' '12.9' '18.3' '24.4' '17.3' '13.3'\n",
      " '15.1' '10.8' '12.5' '33.6' '13.8' '12.8' '16.4' '7.2' '14.6' '8.8'\n",
      " '16.5' '14.8' '17.9' '32.1' '16.3' '5.7' '17.2' '15.6' '14' '13.5' '13.1'\n",
      " '14.2' '17.5' '6.5' '11.9' '6.3' '11.6' '7.6' '15.8' '14.1' '11' '8.3'\n",
      " '8' '13.6' '9.3' '12.4' '6.4' '10.5' '11.2' '12.6' '12.3' '13.4' '10'\n",
      " '11.3' '42.2' '5.4' '14.3' '19.5' '12' '12.2' '9.8' '15' '11.5' '12.1'\n",
      " '14.7' '8.2' '11.1' '9.2' '8.6' '12.7' '10.2' '13' '10.9' '6.9' '11.7'\n",
      " '8.1' '6.6' '11.4' '10.6' '7.4' '10.1' '7.5' '9.6' '6.7' '10.7' '9.1'\n",
      " '8.4' '8.9' '10.3' '9.4' '9' '7.9' '7.8' '9.9' '7.1' '7.7' '7.3' '8.5'\n",
      " '6.8' '10.4' '6.2' '5' '5.9' '4.9' '6' '6.1' '5.5' '5.6' '4.8' '3.6'\n",
      " '5.8' '4.3' '3.8' '3.5' '5.1' '5.2' '5.3' '4.1' '1.9' '4.4' '4.5' '4.2'\n",
      " '4.6' '4.7' '2.6' '3.9' '3.7' '3' '4' '2.8' '3.4' '3.1' '3.2' '3.3' '2'\n",
      " '2.4' '2.5']\n",
      "2018: \n",
      " ['114.9' '116' '125.4' '113.5' '-' '119.7' '135.2' '130.4' '129.1' '110.3'\n",
      " '123.6' '91.6' '81.6' '96.6' '95.7' '135.8' '59.8' '88.2' '97.1' '115.7'\n",
      " '113.4' '64.4' '55.1' '56.2' '56' '61.3' '82.3' '52.7' '74.1' '63.5'\n",
      " '67.6' '44.1' '67.8' '76.1' '60' '55.8' '54' '23.1' '55' '62.6' '46.3'\n",
      " '72.9' '58.2' '33.7' '64.2' '64.6' '60.5' '85.4' '61.4' '66.9' '43.1'\n",
      " '65.1' '60.6' '68.2' '59.9' '48.8' '56.1' '60.1' '104.9' '46.6' '58.6'\n",
      " '74' '61.9' '56.4' '53.5' '46.9' '64.1' '57.5' '58.9' '52.8' '46.2'\n",
      " '60.4' '55.9' '76.7' '58' '55.3' '50.1' '59.2' '60.3' '48.2' '47.7'\n",
      " '70.7' '44.2' '49.9' '44.5' '59' '54.4' '49.3' '43.9' '57.6' '54.8'\n",
      " '53.8' '38.6' '65.7' '65.5' '45.7' '40.8' '38.9' '51.7' '50.2' '42.3'\n",
      " '56.8' '25.2' '49.2' '104.8' '52.1' '42.2' '53.2' '53.1' '34.2' '45.8'\n",
      " '33.3' '51.4' '35.4' '44.4' '52.9' '52.3' '45.3' '37' '47.1' '26.1'\n",
      " '36.2' '65.2' '45.9' '41.4' '44' '41.1' '36.9' '23.8' '37.9' '52.6'\n",
      " '44.9' '39.8' '27.6' '45.4' '46.5' '22.2' '30.6' '36.4' '43.3' '43.8'\n",
      " '43.4' '40.4' '50.7' '41.2' '10.5' '34.3' '37.6' '50.3' '47.4' '43.7'\n",
      " '47.9' '38.4' '47.2' '41' '41.7' '46.1' '43.2' '31.3' '41.8' '36.8'\n",
      " '41.3' '34.5' '33.1' '39.3' '38.3' '27.1' '49.7' '35.6' '38.2' '58.5'\n",
      " '33.5' '25.4' '40.5' '44.7' '39.5' '40.2' '34.9' '50.9' '40.3' '35.3'\n",
      " '28.4' '39.4' '40.7' '37.7' '41.6' '35.1' '40.9' '38.1' '36.1' '22.1'\n",
      " '32.8' '28.1' '26' '35.7' '31.6' '42.8' '32.2' '29.2' '43' '45.1' '38.7'\n",
      " '36.3' '29.4' '36.7' '30.8' '35' '32.4' '38.8' '35.2' '28.5' '31.9'\n",
      " '37.3' '33.4' '21.4' '30.4' '27.9' '35.9' '33.6' '29.6' '16.1' '18.7'\n",
      " '34' '28' '22.9' '36' '36.6' '19' '27.4' '28.9' '26.5' '34.1' '26.6'\n",
      " '29.3' '33.9' '30.9' '24.8' '19.6' '32' '39.6' '32.6' '29.1' '29.5'\n",
      " '31.5' '25' '28.6' '27.8' '25.6' '32.3' '31.4' '19.7' '23.9' '22.3'\n",
      " '39.1' '23.3' '26.8' '23.5' '36.5' '33.2' '25.7' '24.3' '25.5' '26.9'\n",
      " '28.3' '12.2' '30.3' '19.9' '26.7' '23.4' '26.2' '27.2' '35.8' '15.3'\n",
      " '20.7' '19.3' '28.7' '31.2' '30.1' '24.4' '20.8' '24' '20.9' '30.2'\n",
      " '25.1' '15.7' '19.5' '20.1' '28.8' '22.4' '28.2' '21.5' '21' '30' '17.2'\n",
      " '18.9' '18.8' '23.2' '21.9' '23.7' '24.5' '21.1' '20.4' '23.6' '18'\n",
      " '21.8' '22.6' '21.7' '24.2' '23' '13.4' '9.3' '16.7' '17.5' '27.3' '18.4'\n",
      " '27' '61.8' '16.8' '14.9' '19.4' '20.3' '17.6' '20.2' '15' '22' '29'\n",
      " '22.5' '24.7' '17.4' '21.3' '11.9' '21.6' '7.1' '13.7' '21.2' '18.1'\n",
      " '12.4' '16.6' '16' '5.3' '14.8' '13.9' '17.7' '8.4' '10.1' '7.8' '17'\n",
      " '17.1' '18.3' '18.2' '15.2' '9.2' '25.3' '10.8' '14.5' '19.2' '14' '9.9'\n",
      " '15.6' '12.1' '17.3' '12.8' '19.8' '32.9' '20.6' '16.4' '6.4' '16.5'\n",
      " '15.5' '15.1' '15.9' '16.2' '20.5' '8.6' '19.1' '16.3' '14.3' '11.4'\n",
      " '13.2' '15.8' '6.7' '11.3' '11.8' '14.1' '9' '7.9' '15.4' '13' '12.9'\n",
      " '17.8' '11.7' '18.6' '13.5' '9.5' '6.6' '14.7' '13.8' '6.9' '14.4' '13.6'\n",
      " '12.3' '12.5' '10.6' '10.9' '12' '14.2' '13.1' '11.5' '10.2' '8.5' '9.4'\n",
      " '8' '8.9' '9.7' '13.3' '17.9' '11.2' '8.1' '12.7' '10' '7.3' '9.6' '16.9'\n",
      " '14.6' '10.7' '9.8' '11.1' '8.2' '10.3' '9.1' '7.2' '10.4' '8.8' '11.6'\n",
      " '12.6' '11' '8.3' '7.7' '7' '8.7' '7.6' '5.9' '6' '4.4' '7.5' '6.5' '6.8'\n",
      " '6.3' '7.4' '5.5' '4.7' '5.4' '5.1' '3.7' '6.1' '5.2' '6.2' '5.7' '5.6'\n",
      " '3.8' '4.1' '4.3' '4.8' '4.6' '5' '3' '4.5' '5.8' '4.9' '3.9' '3.4' '4.2'\n",
      " '4' '3.1' '3.5' '3.2' '2.2' '2.9' '2.6']\n",
      "2017: \n",
      " ['133.2' '91.9' '-' '108.2' '118.5' '144.6' '123' '107.4' '134' '126.5'\n",
      " '96.7' '102.6' '97.5' '145.6' '62.5' '119.2' '79.7' '81.9' '52.8' '46.8'\n",
      " '60.6' '69.8' '68.8' '88.3' '74.1' '43.4' '64.4' '16.4' '57.6' '63.7'\n",
      " '37' '81.1' '77.8' '38.5' '66.8' '71.9' '76.7' '66.4' '74.8' '67.3'\n",
      " '80.6' '70.2' '72.5' '66.1' '57.1' '70' '63.2' '56.2' '54.2' '61.8' '61'\n",
      " '51' '60.7' '59.9' '49.5' '50.4' '57.9' '98.8' '76' '103.7' '72' '66.2'\n",
      " '55.7' '63.1' '92.7' '54.8' '63.6' '66.9' '55.4' '63.3' '49.4' '62'\n",
      " '61.6' '53.6' '68.5' '45.9' '39.2' '70.5' '93.3' '67.4' '45.8' '43'\n",
      " '54.3' '37.7' '57.5' '56.4' '51.5' '69.3' '27.1' '66.7' '110.6' '59.3'\n",
      " '57.4' '63.4' '43.8' '62.3' '56.9' '39.3' '51.4' '39.1' '50.3' '62.6'\n",
      " '55.1' '35.4' '50.5' '29.7' '49.6' '34' '47.1' '88.7' '45.2' '48.6'\n",
      " '53.9' '44.8' '51.2' '36.6' '42.9' '48.5' '48.2' '47.2' '56.6' '49.8'\n",
      " '50.2' '78.5' '38.6' '38.8' '48.4' '46.7' '47.9' '45.5' '57.2' '47.5'\n",
      " '17.5' '48.9' '84.7' '60.4' '50.7' '51.6' '54.7' '44.6' '55.2' '43.7'\n",
      " '54.1' '49.1' '34.5' '47.6' '47.8' '32.1' '35' '48' '27.7' '26.9' '46.3'\n",
      " '66.5' '34.2' '48.1' '42' '28.8' '44.3' '58.8' '38.7' '40.9' '43.6' '38'\n",
      " '49.2' '37.3' '31.8' '41.1' '45.4' '45' '39.4' '41.6' '27.8' '41.7'\n",
      " '41.5' '23' '26.8' '42.3' '38.3' '45.1' '44.5' '32.9' '50' '38.1' '40.5'\n",
      " '39.7' '35.5' '46.5' '43.3' '32' '46.6' '34.1' '31.9' '34.3' '32.7'\n",
      " '36.5' '44' '40.6' '28.7' '42.2' '32.6' '31.3' '41.2' '43.9' '40.1'\n",
      " '25.1' '23.1' '19.8' '42.1' '33.9' '23.3' '38.9' '34.4' '38.4' '39.8'\n",
      " '22.1' '22.9' '24.3' '42.4' '35.6' '28.6' '32.8' '33.4' '43.5' '39.6'\n",
      " '30.1' '18' '21.7' '55' '34.6' '33.1' '28.5' '44.1' '33.2' '34.7' '33'\n",
      " '36.2' '22.7' '29.8' '36.1' '37.2' '20.4' '24.5' '52' '35.2' '26.1'\n",
      " '26.4' '19.7' '23.6' '25.3' '26.7' '26.6' '28.2' '31.6' '31.5' '17.4'\n",
      " '25.4' '29.1' '25.2' '30.6' '36.8' '24.6' '28.4' '32.3' '20.7' '21.9'\n",
      " '29.9' '18.1' '21' '36' '31.2' '35.7' '35.9' '30.2' '29.6' '23.7' '29'\n",
      " '24.9' '21.3' '28.1' '28' '18.3' '32.5' '20.1' '37.8' '22.2' '20.8'\n",
      " '21.6' '16.3' '19.5' '24.2' '27.6' '19.2' '32.2' '22.5' '27.2' '13.3'\n",
      " '25.8' '17.8' '23.2' '15.7' '26.2' '31.4' '13.8' '25.6' '8.4' '15' '27.4'\n",
      " '30' '24.4' '25' '30.8' '16' '16.7' '21.2' '27.3' '23.8' '24.1' '56.7'\n",
      " '17.1' '18.2' '19.3' '25.5' '26.3' '25.7' '17.9' '22.4' '18.9' '21.8'\n",
      " '9.6' '28.9' '16.8' '22.8' '9.5' '14.3' '17' '17.7' '13.7' '23.4' '17.3'\n",
      " '17.2' '8.6' '33.5' '11.7' '25.9' '7' '16.1' '14.9' '29.3' '26.5' '16.9'\n",
      " '10.8' '23.9' '19' '11.8' '13.9' '14.2' '18.8' '12.2' '11.2' '13.2'\n",
      " '14.1' '15.1' '7.1' '16.5' '15.9' '10.9' '31.7' '16.2' '19.9' '9.7'\n",
      " '18.7' '14.8' '11.4' '12.1' '5.5' '5.9' '12.7' '14.7' '13.6' '20.3' '8.3'\n",
      " '18.6' '15.4' '14.4' '11.5' '8.5' '15.5' '5.2' '12.5' '14.6' '13' '13.1'\n",
      " '7.3' '13.4' '14.5' '19.1' '8' '12.6' '10.4' '11.3' '12.3' '15.8' '15.3'\n",
      " '27' '8.9' '12' '15.6' '9.1' '12.9' '6.7' '11.1' '9' '14' '18.5' '11.6'\n",
      " '12.8' '10.1' '13.5' '18.4' '7.2' '9.9' '7.9' '10.2' '11' '10.6' '10'\n",
      " '10.5' '15.2' '12.4' '9.2' '9.8' '7.7' '6.5' '9.4' '10.3' '8.2' '8.7'\n",
      " '17.6' '8.8' '11.9' '8.1' '10.7' '7.4' '9.3' '7.8' '6.9' '4.9' '7.5'\n",
      " '6.6' '6.8' '7.6' '5.8' '6.2' '6.1' '6' '5' '3.9' '4.2' '6.4' '23.5'\n",
      " '5.6' '4.8' '6.3' '5.3' '5.1' '4.4' '4' '3.5' '5.4' '5.7' '3.2' '4.7'\n",
      " '4.1' '4.3' '3.6' '4.6' '3.1' '3.8' '3.4' '4.5' '2.5' '3.7' '3' '1.9'\n",
      " '3.3' '2.3']\n"
     ]
    }
   ],
   "source": [
    "print(\"Rank: \\n\",df['Rank'].unique())\n",
    "print(\"City: \\n\",df['City'].unique())\n",
    "print(\"2022: \\n\",df['2022'].unique())\n",
    "print(\"January: \\n\",df['JAN'].unique())\n",
    "print(\"February: \\n\",df['FEB'].unique())\n",
    "print(\"March: \\n\",df['MAR'].unique())\n",
    "print(\"April: \\n\",df['APR'].unique())\n",
    "print(\"May: \\n\",df['MAY'].unique())\n",
    "print(\"June: \\n\",df['JUN'].unique())\n",
    "print(\"July: \\n\",df['JUL'].unique())\n",
    "print(\"August: \\n\",df['AUG'].unique())\n",
    "print(\"September: \\n\",df['SEP'].unique())\n",
    "print(\"October: \\n\",df['OCT'].unique())\n",
    "print(\"November: \\n\",df['NOV'].unique())\n",
    "print(\"December: \\n\",df['DEC'].unique())\n",
    "print(\"2021: \\n\",df['2021'].unique())\n",
    "print(\"2020: \\n\",df['2020'].unique())\n",
    "print(\"2019: \\n\",df['2019'].unique())\n",
    "print(\"2018: \\n\",df['2018'].unique())\n",
    "print(\"2017: \\n\",df['2017'].unique())"
   ]
  },
  {
   "cell_type": "markdown",
   "metadata": {},
   "source": [
    "### Some records are shown by '-'. So we have to check which columns are having '-' records."
   ]
  },
  {
   "cell_type": "code",
   "execution_count": 13,
   "metadata": {},
   "outputs": [
    {
     "data": {
      "text/plain": [
       "0"
      ]
     },
     "execution_count": 13,
     "metadata": {},
     "output_type": "execute_result"
    }
   ],
   "source": [
    "twenty_two=df[df['2022']=='-'] # no '-' found\n",
    "twenty_two['2022'].count()"
   ]
  },
  {
   "cell_type": "code",
   "execution_count": 14,
   "metadata": {},
   "outputs": [
    {
     "data": {
      "text/plain": [
       "224"
      ]
     },
     "execution_count": 14,
     "metadata": {},
     "output_type": "execute_result"
    }
   ],
   "source": [
    "jan=df[df['JAN']=='-'] # 224 records found with '-'\n",
    "jan.JAN.count()"
   ]
  },
  {
   "cell_type": "code",
   "execution_count": 15,
   "metadata": {},
   "outputs": [
    {
     "data": {
      "text/plain": [
       "170"
      ]
     },
     "execution_count": 15,
     "metadata": {},
     "output_type": "execute_result"
    }
   ],
   "source": [
    "feb=df[df['FEB']=='-']\n",
    "feb.FEB.count()"
   ]
  },
  {
   "cell_type": "code",
   "execution_count": 16,
   "metadata": {},
   "outputs": [
    {
     "data": {
      "text/plain": [
       "83"
      ]
     },
     "execution_count": 16,
     "metadata": {},
     "output_type": "execute_result"
    }
   ],
   "source": [
    "mar=df[df['MAR']=='-']\n",
    "mar.MAR.count()"
   ]
  },
  {
   "cell_type": "code",
   "execution_count": 17,
   "metadata": {},
   "outputs": [
    {
     "data": {
      "text/plain": [
       "45"
      ]
     },
     "execution_count": 17,
     "metadata": {},
     "output_type": "execute_result"
    }
   ],
   "source": [
    "apr=df[df['APR']=='-']\n",
    "apr.APR.count()"
   ]
  },
  {
   "cell_type": "code",
   "execution_count": 18,
   "metadata": {},
   "outputs": [
    {
     "data": {
      "text/plain": [
       "21"
      ]
     },
     "execution_count": 18,
     "metadata": {},
     "output_type": "execute_result"
    }
   ],
   "source": [
    "may=df[df['MAY']=='-']\n",
    "may.MAY.count()"
   ]
  },
  {
   "cell_type": "code",
   "execution_count": 19,
   "metadata": {},
   "outputs": [
    {
     "data": {
      "text/plain": [
       "26"
      ]
     },
     "execution_count": 19,
     "metadata": {},
     "output_type": "execute_result"
    }
   ],
   "source": [
    "jun=df[df['JUN']=='-']\n",
    "jun.JUN.count()"
   ]
  },
  {
   "cell_type": "code",
   "execution_count": 20,
   "metadata": {},
   "outputs": [
    {
     "data": {
      "text/plain": [
       "26"
      ]
     },
     "execution_count": 20,
     "metadata": {},
     "output_type": "execute_result"
    }
   ],
   "source": [
    "jul=df[df['JUL']=='-']\n",
    "jul.JUL.count()"
   ]
  },
  {
   "cell_type": "code",
   "execution_count": 21,
   "metadata": {},
   "outputs": [
    {
     "data": {
      "text/plain": [
       "33"
      ]
     },
     "execution_count": 21,
     "metadata": {},
     "output_type": "execute_result"
    }
   ],
   "source": [
    "aug=df[df['AUG']=='-']\n",
    "aug.AUG.count()"
   ]
  },
  {
   "cell_type": "code",
   "execution_count": 22,
   "metadata": {},
   "outputs": [
    {
     "data": {
      "text/plain": [
       "81"
      ]
     },
     "execution_count": 22,
     "metadata": {},
     "output_type": "execute_result"
    }
   ],
   "source": [
    "sep=df[df['SEP']=='-']\n",
    "sep.SEP.count()"
   ]
  },
  {
   "cell_type": "code",
   "execution_count": 23,
   "metadata": {},
   "outputs": [
    {
     "data": {
      "text/plain": [
       "98"
      ]
     },
     "execution_count": 23,
     "metadata": {},
     "output_type": "execute_result"
    }
   ],
   "source": [
    "oc=df[df['OCT']=='-']\n",
    "oc.OCT.count()"
   ]
  },
  {
   "cell_type": "code",
   "execution_count": 24,
   "metadata": {},
   "outputs": [
    {
     "data": {
      "text/plain": [
       "158"
      ]
     },
     "execution_count": 24,
     "metadata": {},
     "output_type": "execute_result"
    }
   ],
   "source": [
    "nov=df[df['NOV']=='-']\n",
    "nov.NOV.count()"
   ]
  },
  {
   "cell_type": "code",
   "execution_count": 25,
   "metadata": {},
   "outputs": [
    {
     "data": {
      "text/plain": [
       "267"
      ]
     },
     "execution_count": 25,
     "metadata": {},
     "output_type": "execute_result"
    }
   ],
   "source": [
    "dec=df[df['DEC']=='-']\n",
    "dec.DEC.count()"
   ]
  },
  {
   "cell_type": "code",
   "execution_count": 26,
   "metadata": {},
   "outputs": [
    {
     "data": {
      "text/plain": [
       "861"
      ]
     },
     "execution_count": 26,
     "metadata": {},
     "output_type": "execute_result"
    }
   ],
   "source": [
    "twenty_one=df[df['2021']=='-']\n",
    "twenty_one['2021'].count()"
   ]
  },
  {
   "cell_type": "code",
   "execution_count": 27,
   "metadata": {},
   "outputs": [
    {
     "data": {
      "text/plain": [
       "3370"
      ]
     },
     "execution_count": 27,
     "metadata": {},
     "output_type": "execute_result"
    }
   ],
   "source": [
    "twenty=df[df['2020']=='-']\n",
    "twenty['2020'].count()"
   ]
  },
  {
   "cell_type": "code",
   "execution_count": 28,
   "metadata": {},
   "outputs": [
    {
     "data": {
      "text/plain": [
       "3576"
      ]
     },
     "execution_count": 28,
     "metadata": {},
     "output_type": "execute_result"
    }
   ],
   "source": [
    "nineteen=df[df['2019']=='-']\n",
    "nineteen['2019'].count()"
   ]
  },
  {
   "cell_type": "code",
   "execution_count": 29,
   "metadata": {},
   "outputs": [
    {
     "data": {
      "text/plain": [
       "4977"
      ]
     },
     "execution_count": 29,
     "metadata": {},
     "output_type": "execute_result"
    }
   ],
   "source": [
    "eighteen=df[df['2018']=='-']\n",
    "eighteen['2018'].count()"
   ]
  },
  {
   "cell_type": "code",
   "execution_count": 30,
   "metadata": {},
   "outputs": [
    {
     "data": {
      "text/plain": [
       "5154"
      ]
     },
     "execution_count": 30,
     "metadata": {},
     "output_type": "execute_result"
    }
   ],
   "source": [
    "seventeen=df[df['2017']=='-']\n",
    "seventeen['2017'].count()"
   ]
  },
  {
   "cell_type": "markdown",
   "metadata": {},
   "source": [
    "### From above observations of counts of '-',we can see there are more missing values in the column of '2017' than '2022'. But we have to fill missing values with NaN values. So that we can analyse about dataset."
   ]
  },
  {
   "cell_type": "code",
   "execution_count": 31,
   "metadata": {},
   "outputs": [],
   "source": [
    "df['JAN']=df['JAN'].replace('-',np.nan)"
   ]
  },
  {
   "cell_type": "code",
   "execution_count": 32,
   "metadata": {},
   "outputs": [
    {
     "data": {
      "text/plain": [
       "0"
      ]
     },
     "execution_count": 32,
     "metadata": {},
     "output_type": "execute_result"
    }
   ],
   "source": [
    "jan=df[df['JAN']=='-'] # 224 records found with '-'\n",
    "jan.JAN.count()"
   ]
  },
  {
   "cell_type": "markdown",
   "metadata": {},
   "source": [
    "### In above observation we can see there are no '-' values present. So we will make changes in other columns too."
   ]
  },
  {
   "cell_type": "code",
   "execution_count": 33,
   "metadata": {},
   "outputs": [],
   "source": [
    "df['FEB']=df['FEB'].replace('-',np.nan)"
   ]
  },
  {
   "cell_type": "code",
   "execution_count": 34,
   "metadata": {},
   "outputs": [],
   "source": [
    "df['MAR']=df['MAR'].replace('-',np.nan)"
   ]
  },
  {
   "cell_type": "code",
   "execution_count": 35,
   "metadata": {},
   "outputs": [],
   "source": [
    "df['APR']=df['APR'].replace('-',np.nan)"
   ]
  },
  {
   "cell_type": "code",
   "execution_count": 36,
   "metadata": {},
   "outputs": [],
   "source": [
    "df['MAY']=df['MAY'].replace('-',np.nan)"
   ]
  },
  {
   "cell_type": "code",
   "execution_count": 37,
   "metadata": {},
   "outputs": [],
   "source": [
    "df['JUN']=df['JUN'].replace('-',np.nan)"
   ]
  },
  {
   "cell_type": "code",
   "execution_count": 38,
   "metadata": {},
   "outputs": [],
   "source": [
    "df['JUL']=df['JUL'].replace('-',np.nan)"
   ]
  },
  {
   "cell_type": "code",
   "execution_count": 39,
   "metadata": {},
   "outputs": [],
   "source": [
    "df['AUG']=df['AUG'].replace('-',np.nan)"
   ]
  },
  {
   "cell_type": "code",
   "execution_count": 40,
   "metadata": {},
   "outputs": [],
   "source": [
    "df['SEP']=df['SEP'].replace('-',np.nan)"
   ]
  },
  {
   "cell_type": "code",
   "execution_count": 41,
   "metadata": {},
   "outputs": [],
   "source": [
    "df['OCT']=df['OCT'].replace('-',np.nan)"
   ]
  },
  {
   "cell_type": "code",
   "execution_count": 42,
   "metadata": {},
   "outputs": [],
   "source": [
    "df['NOV']=df['NOV'].replace('-',np.nan)"
   ]
  },
  {
   "cell_type": "code",
   "execution_count": 43,
   "metadata": {},
   "outputs": [],
   "source": [
    "df['DEC']=df['DEC'].replace('-',np.nan)"
   ]
  },
  {
   "cell_type": "code",
   "execution_count": 44,
   "metadata": {},
   "outputs": [],
   "source": [
    "df['2021']=df['2021'].replace('-',np.nan)"
   ]
  },
  {
   "cell_type": "code",
   "execution_count": 45,
   "metadata": {},
   "outputs": [],
   "source": [
    "df['2020']=df['2020'].replace('-',np.nan)"
   ]
  },
  {
   "cell_type": "code",
   "execution_count": 46,
   "metadata": {},
   "outputs": [],
   "source": [
    "df['2019']=df['2019'].replace('-',np.nan)"
   ]
  },
  {
   "cell_type": "code",
   "execution_count": 47,
   "metadata": {},
   "outputs": [],
   "source": [
    "df['2018']=df['2018'].replace('-',np.nan)"
   ]
  },
  {
   "cell_type": "code",
   "execution_count": 48,
   "metadata": {},
   "outputs": [],
   "source": [
    "df['2017']=df['2017'].replace('-',np.nan)"
   ]
  },
  {
   "cell_type": "markdown",
   "metadata": {},
   "source": [
    "### Now we have null values present in the dataset. But we can change datatype of null values from object/string to float. So we have change dtype of above columns to 'float64'."
   ]
  },
  {
   "cell_type": "code",
   "execution_count": 49,
   "metadata": {},
   "outputs": [],
   "source": [
    "df['JAN']=df['JAN'].astype('float64')"
   ]
  },
  {
   "cell_type": "code",
   "execution_count": 50,
   "metadata": {},
   "outputs": [],
   "source": [
    "df['FEB']=df['FEB'].astype('float64')"
   ]
  },
  {
   "cell_type": "code",
   "execution_count": 51,
   "metadata": {},
   "outputs": [],
   "source": [
    "df['MAR']=df['MAR'].astype('float64')"
   ]
  },
  {
   "cell_type": "code",
   "execution_count": 52,
   "metadata": {},
   "outputs": [],
   "source": [
    "df['APR']=df['APR'].astype('float64')"
   ]
  },
  {
   "cell_type": "code",
   "execution_count": 53,
   "metadata": {},
   "outputs": [],
   "source": [
    "df['MAY']=df['MAY'].astype('float64')"
   ]
  },
  {
   "cell_type": "code",
   "execution_count": 54,
   "metadata": {},
   "outputs": [],
   "source": [
    "df['JUN']=df['JUN'].astype('float64')"
   ]
  },
  {
   "cell_type": "code",
   "execution_count": 55,
   "metadata": {},
   "outputs": [],
   "source": [
    "df['JUL']=df['JUL'].astype('float64')"
   ]
  },
  {
   "cell_type": "code",
   "execution_count": 56,
   "metadata": {},
   "outputs": [],
   "source": [
    "df['AUG']=df['AUG'].astype('float64')"
   ]
  },
  {
   "cell_type": "code",
   "execution_count": 57,
   "metadata": {},
   "outputs": [],
   "source": [
    "df['SEP']=df['SEP'].astype('float64')"
   ]
  },
  {
   "cell_type": "code",
   "execution_count": 58,
   "metadata": {},
   "outputs": [],
   "source": [
    "df['OCT']=df['OCT'].astype('float64')"
   ]
  },
  {
   "cell_type": "code",
   "execution_count": 59,
   "metadata": {},
   "outputs": [],
   "source": [
    "df['NOV']=df['NOV'].astype('float64')"
   ]
  },
  {
   "cell_type": "code",
   "execution_count": 60,
   "metadata": {},
   "outputs": [],
   "source": [
    "df['DEC']=df['DEC'].astype('float64')"
   ]
  },
  {
   "cell_type": "code",
   "execution_count": 61,
   "metadata": {},
   "outputs": [],
   "source": [
    "df['2021']=df['2021'].astype('float64')"
   ]
  },
  {
   "cell_type": "code",
   "execution_count": 62,
   "metadata": {},
   "outputs": [],
   "source": [
    "df['2020']=df['2020'].astype('float64')"
   ]
  },
  {
   "cell_type": "code",
   "execution_count": 63,
   "metadata": {},
   "outputs": [],
   "source": [
    "df['2019']=df['2019'].astype('float64')"
   ]
  },
  {
   "cell_type": "code",
   "execution_count": 64,
   "metadata": {},
   "outputs": [],
   "source": [
    "df['2018']=df['2018'].astype('float64')"
   ]
  },
  {
   "cell_type": "code",
   "execution_count": 65,
   "metadata": {},
   "outputs": [],
   "source": [
    "df['2017']=df['2017'].astype('float64')"
   ]
  },
  {
   "cell_type": "markdown",
   "metadata": {},
   "source": [
    "### We have to check nan values."
   ]
  },
  {
   "cell_type": "code",
   "execution_count": 66,
   "metadata": {},
   "outputs": [
    {
     "data": {
      "text/plain": [
       "Rank       0\n",
       "City       0\n",
       "2022       0\n",
       "JAN      224\n",
       "FEB      170\n",
       "MAR       83\n",
       "APR       45\n",
       "MAY       21\n",
       "JUN       26\n",
       "JUL       26\n",
       "AUG       33\n",
       "SEP       81\n",
       "OCT       98\n",
       "NOV      158\n",
       "DEC      267\n",
       "2021     861\n",
       "2020    3370\n",
       "2019    3576\n",
       "2018    4977\n",
       "2017    5154\n",
       "dtype: int64"
      ]
     },
     "execution_count": 66,
     "metadata": {},
     "output_type": "execute_result"
    }
   ],
   "source": [
    "df.isnull().sum()"
   ]
  },
  {
   "cell_type": "code",
   "execution_count": 67,
   "metadata": {},
   "outputs": [
    {
     "data": {
      "text/plain": [
       "Rank     0.000000\n",
       "City     0.000000\n",
       "2022     0.000000\n",
       "JAN      3.058856\n",
       "FEB      2.321453\n",
       "MAR      1.133415\n",
       "APR      0.614502\n",
       "MAY      0.286768\n",
       "JUN      0.355046\n",
       "JUL      0.355046\n",
       "AUG      0.450635\n",
       "SEP      1.106104\n",
       "OCT      1.338249\n",
       "NOV      2.157586\n",
       "DEC      3.646047\n",
       "2021    11.757476\n",
       "2020    46.019391\n",
       "2019    48.832446\n",
       "2018    67.963949\n",
       "2017    70.380991\n",
       "dtype: float64"
      ]
     },
     "execution_count": 67,
     "metadata": {},
     "output_type": "execute_result"
    }
   ],
   "source": [
    "df.isnull().sum()/len(df)*100"
   ]
  },
  {
   "cell_type": "markdown",
   "metadata": {},
   "source": [
    "## What is difference of Air pollution index within 5 years in Karachi,Pakistan.\n",
    "Note: 2017 to 2022"
   ]
  },
  {
   "cell_type": "code",
   "execution_count": 68,
   "metadata": {},
   "outputs": [
    {
     "data": {
      "text/html": [
       "<div>\n",
       "<style scoped>\n",
       "    .dataframe tbody tr th:only-of-type {\n",
       "        vertical-align: middle;\n",
       "    }\n",
       "\n",
       "    .dataframe tbody tr th {\n",
       "        vertical-align: top;\n",
       "    }\n",
       "\n",
       "    .dataframe thead th {\n",
       "        text-align: right;\n",
       "    }\n",
       "</style>\n",
       "<table border=\"1\" class=\"dataframe\">\n",
       "  <thead>\n",
       "    <tr style=\"text-align: right;\">\n",
       "      <th></th>\n",
       "      <th>Rank</th>\n",
       "      <th>City</th>\n",
       "      <th>2022</th>\n",
       "      <th>JAN</th>\n",
       "      <th>FEB</th>\n",
       "      <th>MAR</th>\n",
       "      <th>APR</th>\n",
       "      <th>MAY</th>\n",
       "      <th>JUN</th>\n",
       "      <th>JUL</th>\n",
       "      <th>AUG</th>\n",
       "      <th>SEP</th>\n",
       "      <th>OCT</th>\n",
       "      <th>NOV</th>\n",
       "      <th>DEC</th>\n",
       "      <th>2021</th>\n",
       "      <th>2020</th>\n",
       "      <th>2019</th>\n",
       "      <th>2018</th>\n",
       "      <th>2017</th>\n",
       "    </tr>\n",
       "  </thead>\n",
       "  <tbody>\n",
       "    <tr>\n",
       "      <th>96</th>\n",
       "      <td>97</td>\n",
       "      <td>PakistanKarachi, Pakistan</td>\n",
       "      <td>50.6</td>\n",
       "      <td>66.2</td>\n",
       "      <td>58.5</td>\n",
       "      <td>48.4</td>\n",
       "      <td>39.4</td>\n",
       "      <td>43.2</td>\n",
       "      <td>21.6</td>\n",
       "      <td>21.6</td>\n",
       "      <td>27.9</td>\n",
       "      <td>30.4</td>\n",
       "      <td>47.2</td>\n",
       "      <td>78.9</td>\n",
       "      <td>117.0</td>\n",
       "      <td>45.9</td>\n",
       "      <td>43.8</td>\n",
       "      <td>40.2</td>\n",
       "      <td>33.7</td>\n",
       "      <td>38.5</td>\n",
       "    </tr>\n",
       "  </tbody>\n",
       "</table>\n",
       "</div>"
      ],
      "text/plain": [
       "    Rank                       City  2022   JAN   FEB   MAR   APR   MAY   JUN  \\\n",
       "96    97  PakistanKarachi, Pakistan  50.6  66.2  58.5  48.4  39.4  43.2  21.6   \n",
       "\n",
       "     JUL   AUG   SEP   OCT   NOV    DEC  2021  2020  2019  2018  2017  \n",
       "96  21.6  27.9  30.4  47.2  78.9  117.0  45.9  43.8  40.2  33.7  38.5  "
      ]
     },
     "execution_count": 68,
     "metadata": {},
     "output_type": "execute_result"
    }
   ],
   "source": [
    "karachi=df[df['City'].str.contains('Karachi')]\n",
    "karachi"
   ]
  },
  {
   "cell_type": "code",
   "execution_count": 69,
   "metadata": {},
   "outputs": [
    {
     "data": {
      "text/plain": [
       "96    12.1\n",
       "dtype: float64"
      ]
     },
     "execution_count": 69,
     "metadata": {},
     "output_type": "execute_result"
    }
   ],
   "source": [
    "(karachi['2022'])-(karachi['2017'])"
   ]
  },
  {
   "cell_type": "markdown",
   "metadata": {},
   "source": [
    "### In 5 years,Air pollution Index has increased by 12.1 in Karachi. "
   ]
  },
  {
   "cell_type": "markdown",
   "metadata": {},
   "source": [
    "## Columns containing values more than 40% should be dropped. Because \n",
    "## 1. if we filled them with average values of remaining records then also we cannot assume perfectly the exact air pollution values.\n",
    "## 2. if we dropped nan values only, then too it will give very less number of records for analysis purpose. And we cannot able to get proper insights for dataset."
   ]
  },
  {
   "cell_type": "code",
   "execution_count": 70,
   "metadata": {},
   "outputs": [],
   "source": [
    "df=df.drop(['2020','2019','2018','2017'], axis=1) #NOTE: I have once used inplace=True. If rerun second time it will throw an error."
   ]
  },
  {
   "cell_type": "code",
   "execution_count": 71,
   "metadata": {},
   "outputs": [
    {
     "data": {
      "text/html": [
       "<div>\n",
       "<style scoped>\n",
       "    .dataframe tbody tr th:only-of-type {\n",
       "        vertical-align: middle;\n",
       "    }\n",
       "\n",
       "    .dataframe tbody tr th {\n",
       "        vertical-align: top;\n",
       "    }\n",
       "\n",
       "    .dataframe thead th {\n",
       "        text-align: right;\n",
       "    }\n",
       "</style>\n",
       "<table border=\"1\" class=\"dataframe\">\n",
       "  <thead>\n",
       "    <tr style=\"text-align: right;\">\n",
       "      <th></th>\n",
       "      <th>Rank</th>\n",
       "      <th>City</th>\n",
       "      <th>2022</th>\n",
       "      <th>JAN</th>\n",
       "      <th>FEB</th>\n",
       "      <th>MAR</th>\n",
       "      <th>APR</th>\n",
       "      <th>MAY</th>\n",
       "      <th>JUN</th>\n",
       "      <th>JUL</th>\n",
       "      <th>AUG</th>\n",
       "      <th>SEP</th>\n",
       "      <th>OCT</th>\n",
       "      <th>NOV</th>\n",
       "      <th>DEC</th>\n",
       "      <th>2021</th>\n",
       "    </tr>\n",
       "  </thead>\n",
       "  <tbody>\n",
       "    <tr>\n",
       "      <th>0</th>\n",
       "      <td>1</td>\n",
       "      <td>PakistanLahore, Pakistan</td>\n",
       "      <td>97.4</td>\n",
       "      <td>133.0</td>\n",
       "      <td>102.5</td>\n",
       "      <td>85.6</td>\n",
       "      <td>69.3</td>\n",
       "      <td>60.9</td>\n",
       "      <td>52.1</td>\n",
       "      <td>47.8</td>\n",
       "      <td>46.2</td>\n",
       "      <td>64.2</td>\n",
       "      <td>123.2</td>\n",
       "      <td>190.5</td>\n",
       "      <td>192.9</td>\n",
       "      <td>86.5</td>\n",
       "    </tr>\n",
       "    <tr>\n",
       "      <th>1</th>\n",
       "      <td>2</td>\n",
       "      <td>ChinaHotan, China</td>\n",
       "      <td>94.3</td>\n",
       "      <td>61.7</td>\n",
       "      <td>91.6</td>\n",
       "      <td>132.7</td>\n",
       "      <td>106.2</td>\n",
       "      <td>120.5</td>\n",
       "      <td>69.5</td>\n",
       "      <td>172.5</td>\n",
       "      <td>75.0</td>\n",
       "      <td>65.1</td>\n",
       "      <td>75.0</td>\n",
       "      <td>50.3</td>\n",
       "      <td>120.0</td>\n",
       "      <td>101.5</td>\n",
       "    </tr>\n",
       "    <tr>\n",
       "      <th>2</th>\n",
       "      <td>3</td>\n",
       "      <td>IndiaBhiwadi, India</td>\n",
       "      <td>92.7</td>\n",
       "      <td>110.6</td>\n",
       "      <td>98.0</td>\n",
       "      <td>116.2</td>\n",
       "      <td>149.5</td>\n",
       "      <td>123.8</td>\n",
       "      <td>102.8</td>\n",
       "      <td>38.8</td>\n",
       "      <td>36.5</td>\n",
       "      <td>59.9</td>\n",
       "      <td>85.4</td>\n",
       "      <td>111.4</td>\n",
       "      <td>86.9</td>\n",
       "      <td>106.2</td>\n",
       "    </tr>\n",
       "    <tr>\n",
       "      <th>3</th>\n",
       "      <td>4</td>\n",
       "      <td>IndiaDelhi (NCT), India</td>\n",
       "      <td>92.6</td>\n",
       "      <td>141.0</td>\n",
       "      <td>100.9</td>\n",
       "      <td>91.0</td>\n",
       "      <td>98.0</td>\n",
       "      <td>73.2</td>\n",
       "      <td>56.2</td>\n",
       "      <td>34.3</td>\n",
       "      <td>31.1</td>\n",
       "      <td>38.3</td>\n",
       "      <td>99.7</td>\n",
       "      <td>176.8</td>\n",
       "      <td>171.9</td>\n",
       "      <td>96.4</td>\n",
       "    </tr>\n",
       "    <tr>\n",
       "      <th>4</th>\n",
       "      <td>5</td>\n",
       "      <td>PakistanPeshawar, Pakistan</td>\n",
       "      <td>91.8</td>\n",
       "      <td>110.2</td>\n",
       "      <td>103.5</td>\n",
       "      <td>78.3</td>\n",
       "      <td>68.5</td>\n",
       "      <td>53.5</td>\n",
       "      <td>56.3</td>\n",
       "      <td>51.8</td>\n",
       "      <td>57.8</td>\n",
       "      <td>79.0</td>\n",
       "      <td>100.0</td>\n",
       "      <td>132.0</td>\n",
       "      <td>212.1</td>\n",
       "      <td>89.6</td>\n",
       "    </tr>\n",
       "    <tr>\n",
       "      <th>...</th>\n",
       "      <td>...</td>\n",
       "      <td>...</td>\n",
       "      <td>...</td>\n",
       "      <td>...</td>\n",
       "      <td>...</td>\n",
       "      <td>...</td>\n",
       "      <td>...</td>\n",
       "      <td>...</td>\n",
       "      <td>...</td>\n",
       "      <td>...</td>\n",
       "      <td>...</td>\n",
       "      <td>...</td>\n",
       "      <td>...</td>\n",
       "      <td>...</td>\n",
       "      <td>...</td>\n",
       "      <td>...</td>\n",
       "    </tr>\n",
       "    <tr>\n",
       "      <th>7318</th>\n",
       "      <td>7319</td>\n",
       "      <td>USACastroville, USA</td>\n",
       "      <td>0.8</td>\n",
       "      <td>0.3</td>\n",
       "      <td>0.4</td>\n",
       "      <td>0.4</td>\n",
       "      <td>0.6</td>\n",
       "      <td>0.5</td>\n",
       "      <td>1.0</td>\n",
       "      <td>0.6</td>\n",
       "      <td>0.9</td>\n",
       "      <td>1.5</td>\n",
       "      <td>1.5</td>\n",
       "      <td>1.7</td>\n",
       "      <td>1.4</td>\n",
       "      <td>7.5</td>\n",
       "    </tr>\n",
       "    <tr>\n",
       "      <th>7319</th>\n",
       "      <td>7320</td>\n",
       "      <td>USAWilson, USA</td>\n",
       "      <td>0.8</td>\n",
       "      <td>0.9</td>\n",
       "      <td>0.8</td>\n",
       "      <td>0.5</td>\n",
       "      <td>0.6</td>\n",
       "      <td>0.5</td>\n",
       "      <td>0.8</td>\n",
       "      <td>1.2</td>\n",
       "      <td>1.4</td>\n",
       "      <td>1.1</td>\n",
       "      <td>1.1</td>\n",
       "      <td>0.8</td>\n",
       "      <td>0.6</td>\n",
       "      <td>7.7</td>\n",
       "    </tr>\n",
       "    <tr>\n",
       "      <th>7320</th>\n",
       "      <td>7321</td>\n",
       "      <td>USARoanoke Rapids, USA</td>\n",
       "      <td>0.6</td>\n",
       "      <td>0.8</td>\n",
       "      <td>0.7</td>\n",
       "      <td>0.5</td>\n",
       "      <td>0.4</td>\n",
       "      <td>0.5</td>\n",
       "      <td>0.6</td>\n",
       "      <td>0.5</td>\n",
       "      <td>0.3</td>\n",
       "      <td>0.5</td>\n",
       "      <td>0.7</td>\n",
       "      <td>0.6</td>\n",
       "      <td>0.8</td>\n",
       "      <td>2.9</td>\n",
       "    </tr>\n",
       "    <tr>\n",
       "      <th>7321</th>\n",
       "      <td>7322</td>\n",
       "      <td>IndonesiaKuta, Indonesia</td>\n",
       "      <td>0.5</td>\n",
       "      <td>2.3</td>\n",
       "      <td>0.9</td>\n",
       "      <td>0.3</td>\n",
       "      <td>0.5</td>\n",
       "      <td>0.6</td>\n",
       "      <td>0.5</td>\n",
       "      <td>0.3</td>\n",
       "      <td>0.4</td>\n",
       "      <td>0.3</td>\n",
       "      <td>0.2</td>\n",
       "      <td>0.4</td>\n",
       "      <td>0.3</td>\n",
       "      <td>9.8</td>\n",
       "    </tr>\n",
       "    <tr>\n",
       "      <th>7322</th>\n",
       "      <td>7323</td>\n",
       "      <td>USAArch Cape, USA</td>\n",
       "      <td>0.2</td>\n",
       "      <td>0.2</td>\n",
       "      <td>0.1</td>\n",
       "      <td>0.1</td>\n",
       "      <td>0.1</td>\n",
       "      <td>0.1</td>\n",
       "      <td>0.1</td>\n",
       "      <td>0.1</td>\n",
       "      <td>0.1</td>\n",
       "      <td>0.3</td>\n",
       "      <td>0.3</td>\n",
       "      <td>0.8</td>\n",
       "      <td>1.0</td>\n",
       "      <td>NaN</td>\n",
       "    </tr>\n",
       "  </tbody>\n",
       "</table>\n",
       "<p>7323 rows × 16 columns</p>\n",
       "</div>"
      ],
      "text/plain": [
       "      Rank                        City  2022    JAN    FEB    MAR    APR  \\\n",
       "0        1    PakistanLahore, Pakistan  97.4  133.0  102.5   85.6   69.3   \n",
       "1        2           ChinaHotan, China  94.3   61.7   91.6  132.7  106.2   \n",
       "2        3         IndiaBhiwadi, India  92.7  110.6   98.0  116.2  149.5   \n",
       "3        4     IndiaDelhi (NCT), India  92.6  141.0  100.9   91.0   98.0   \n",
       "4        5  PakistanPeshawar, Pakistan  91.8  110.2  103.5   78.3   68.5   \n",
       "...    ...                         ...   ...    ...    ...    ...    ...   \n",
       "7318  7319         USACastroville, USA   0.8    0.3    0.4    0.4    0.6   \n",
       "7319  7320              USAWilson, USA   0.8    0.9    0.8    0.5    0.6   \n",
       "7320  7321      USARoanoke Rapids, USA   0.6    0.8    0.7    0.5    0.4   \n",
       "7321  7322    IndonesiaKuta, Indonesia   0.5    2.3    0.9    0.3    0.5   \n",
       "7322  7323           USAArch Cape, USA   0.2    0.2    0.1    0.1    0.1   \n",
       "\n",
       "        MAY    JUN    JUL   AUG   SEP    OCT    NOV    DEC   2021  \n",
       "0      60.9   52.1   47.8  46.2  64.2  123.2  190.5  192.9   86.5  \n",
       "1     120.5   69.5  172.5  75.0  65.1   75.0   50.3  120.0  101.5  \n",
       "2     123.8  102.8   38.8  36.5  59.9   85.4  111.4   86.9  106.2  \n",
       "3      73.2   56.2   34.3  31.1  38.3   99.7  176.8  171.9   96.4  \n",
       "4      53.5   56.3   51.8  57.8  79.0  100.0  132.0  212.1   89.6  \n",
       "...     ...    ...    ...   ...   ...    ...    ...    ...    ...  \n",
       "7318    0.5    1.0    0.6   0.9   1.5    1.5    1.7    1.4    7.5  \n",
       "7319    0.5    0.8    1.2   1.4   1.1    1.1    0.8    0.6    7.7  \n",
       "7320    0.5    0.6    0.5   0.3   0.5    0.7    0.6    0.8    2.9  \n",
       "7321    0.6    0.5    0.3   0.4   0.3    0.2    0.4    0.3    9.8  \n",
       "7322    0.1    0.1    0.1   0.1   0.3    0.3    0.8    1.0    NaN  \n",
       "\n",
       "[7323 rows x 16 columns]"
      ]
     },
     "execution_count": 71,
     "metadata": {},
     "output_type": "execute_result"
    }
   ],
   "source": [
    "df"
   ]
  },
  {
   "cell_type": "code",
   "execution_count": 72,
   "metadata": {},
   "outputs": [
    {
     "data": {
      "text/plain": [
       "Rank     0.000000\n",
       "City     0.000000\n",
       "2022     0.000000\n",
       "JAN      3.058856\n",
       "FEB      2.321453\n",
       "MAR      1.133415\n",
       "APR      0.614502\n",
       "MAY      0.286768\n",
       "JUN      0.355046\n",
       "JUL      0.355046\n",
       "AUG      0.450635\n",
       "SEP      1.106104\n",
       "OCT      1.338249\n",
       "NOV      2.157586\n",
       "DEC      3.646047\n",
       "2021    11.757476\n",
       "dtype: float64"
      ]
     },
     "execution_count": 72,
     "metadata": {},
     "output_type": "execute_result"
    }
   ],
   "source": [
    "df.isnull().sum()/len(df)*100"
   ]
  },
  {
   "cell_type": "markdown",
   "metadata": {},
   "source": [
    "### We have to fill columns having values less than 40%. Because we can drop those rows which can directly affect city column rows. So we have fill values with mean/median."
   ]
  },
  {
   "cell_type": "markdown",
   "metadata": {},
   "source": [
    "### We have to see if there are outliers or not. For that we will use boxplot. But those outliers cannot be dropped. Hence we will use median if there are outliers or else mean. "
   ]
  },
  {
   "cell_type": "code",
   "execution_count": 73,
   "metadata": {},
   "outputs": [
    {
     "data": {
      "image/png": "[encoded data removed]",
      "text/plain": [
       "<Figure size 432x288 with 1 Axes>"
      ]
     },
     "metadata": {
      "needs_background": "light"
     },
     "output_type": "display_data"
    }
   ],
   "source": [
    "sns.boxplot(df['JAN'])\n",
    "plt.show()"
   ]
  },
  {
   "cell_type": "code",
   "execution_count": 74,
   "metadata": {},
   "outputs": [
    {
     "data": {
      "image/png": "[encoded data removed]",
      "text/plain": [
       "<Figure size 432x288 with 1 Axes>"
      ]
     },
     "metadata": {
      "needs_background": "light"
     },
     "output_type": "display_data"
    }
   ],
   "source": [
    "sns.boxplot(df['FEB'])\n",
    "plt.show()"
   ]
  },
  {
   "cell_type": "code",
   "execution_count": 75,
   "metadata": {},
   "outputs": [
    {
     "data": {
      "image/png": "[encoded data removed]",
      "text/plain": [
       "<Figure size 432x288 with 1 Axes>"
      ]
     },
     "metadata": {
      "needs_background": "light"
     },
     "output_type": "display_data"
    }
   ],
   "source": [
    "sns.boxplot(df['MAR'])\n",
    "plt.show()"
   ]
  },
  {
   "cell_type": "code",
   "execution_count": 76,
   "metadata": {},
   "outputs": [
    {
     "data": {
      "image/png": "[encoded data removed]",
      "text/plain": [
       "<Figure size 432x288 with 1 Axes>"
      ]
     },
     "metadata": {
      "needs_background": "light"
     },
     "output_type": "display_data"
    }
   ],
   "source": [
    "sns.boxplot(df['APR'])\n",
    "plt.show()"
   ]
  },
  {
   "cell_type": "code",
   "execution_count": 77,
   "metadata": {},
   "outputs": [
    {
     "data": {
      "image/png": "[encoded data removed]",
      "text/plain": [
       "<Figure size 432x288 with 1 Axes>"
      ]
     },
     "metadata": {
      "needs_background": "light"
     },
     "output_type": "display_data"
    }
   ],
   "source": [
    "sns.boxplot(df['MAY'])\n",
    "plt.show()"
   ]
  },
  {
   "cell_type": "code",
   "execution_count": 78,
   "metadata": {},
   "outputs": [
    {
     "data": {
      "image/png": "[encoded data removed]",
      "text/plain": [
       "<Figure size 432x288 with 1 Axes>"
      ]
     },
     "metadata": {
      "needs_background": "light"
     },
     "output_type": "display_data"
    }
   ],
   "source": [
    "sns.boxplot(df['JUN'])\n",
    "plt.show()"
   ]
  },
  {
   "cell_type": "code",
   "execution_count": 79,
   "metadata": {},
   "outputs": [
    {
     "data": {
      "image/png": "[encoded data removed]",
      "text/plain": [
       "<Figure size 432x288 with 1 Axes>"
      ]
     },
     "metadata": {
      "needs_background": "light"
     },
     "output_type": "display_data"
    }
   ],
   "source": [
    "sns.boxplot(df['JUL'])\n",
    "plt.show()"
   ]
  },
  {
   "cell_type": "code",
   "execution_count": 80,
   "metadata": {},
   "outputs": [
    {
     "data": {
      "image/png": "[encoded data removed]",
      "text/plain": [
       "<Figure size 432x288 with 1 Axes>"
      ]
     },
     "metadata": {
      "needs_background": "light"
     },
     "output_type": "display_data"
    }
   ],
   "source": [
    "sns.boxplot(df['AUG'])\n",
    "plt.show()"
   ]
  },
  {
   "cell_type": "code",
   "execution_count": 81,
   "metadata": {},
   "outputs": [
    {
     "data": {
      "image/png": "[encoded data removed]",
      "text/plain": [
       "<Figure size 432x288 with 1 Axes>"
      ]
     },
     "metadata": {
      "needs_background": "light"
     },
     "output_type": "display_data"
    }
   ],
   "source": [
    "sns.boxplot(df['SEP'])\n",
    "plt.show()"
   ]
  },
  {
   "cell_type": "code",
   "execution_count": 82,
   "metadata": {},
   "outputs": [
    {
     "data": {
      "image/png": "[encoded data removed]",
      "text/plain": [
       "<Figure size 432x288 with 1 Axes>"
      ]
     },
     "metadata": {
      "needs_background": "light"
     },
     "output_type": "display_data"
    }
   ],
   "source": [
    "sns.boxplot(df['OCT'])\n",
    "plt.show()"
   ]
  },
  {
   "cell_type": "code",
   "execution_count": 83,
   "metadata": {},
   "outputs": [
    {
     "data": {
      "image/png": "[encoded data removed]",
      "text/plain": [
       "<Figure size 432x288 with 1 Axes>"
      ]
     },
     "metadata": {
      "needs_background": "light"
     },
     "output_type": "display_data"
    }
   ],
   "source": [
    "sns.boxplot(df['NOV'])\n",
    "plt.show()"
   ]
  },
  {
   "cell_type": "code",
   "execution_count": 84,
   "metadata": {},
   "outputs": [
    {
     "data": {
      "image/png": "[encoded data removed]",
      "text/plain": [
       "<Figure size 432x288 with 1 Axes>"
      ]
     },
     "metadata": {
      "needs_background": "light"
     },
     "output_type": "display_data"
    }
   ],
   "source": [
    "sns.boxplot(df['DEC'])\n",
    "plt.show()"
   ]
  },
  {
   "cell_type": "code",
   "execution_count": 85,
   "metadata": {},
   "outputs": [
    {
     "data": {
      "image/png": "[encoded data removed]",
      "text/plain": [
       "<Figure size 432x288 with 1 Axes>"
      ]
     },
     "metadata": {
      "needs_background": "light"
     },
     "output_type": "display_data"
    }
   ],
   "source": [
    "sns.boxplot(df['2021'])\n",
    "plt.show()"
   ]
  },
  {
   "cell_type": "markdown",
   "metadata": {},
   "source": [
    "### From above observations, we decided to fill values with median."
   ]
  },
  {
   "cell_type": "code",
   "execution_count": 86,
   "metadata": {},
   "outputs": [],
   "source": [
    "df['JAN']=df['JAN'].fillna(df['JAN'].median())"
   ]
  },
  {
   "cell_type": "code",
   "execution_count": 87,
   "metadata": {},
   "outputs": [],
   "source": [
    "df['FEB']=df['FEB'].fillna(df['FEB'].median())"
   ]
  },
  {
   "cell_type": "code",
   "execution_count": 88,
   "metadata": {},
   "outputs": [],
   "source": [
    "df['MAR']=df['MAR'].fillna(df['MAR'].median())"
   ]
  },
  {
   "cell_type": "code",
   "execution_count": 89,
   "metadata": {},
   "outputs": [],
   "source": [
    "df['APR']=df['APR'].fillna(df['APR'].median())"
   ]
  },
  {
   "cell_type": "code",
   "execution_count": 90,
   "metadata": {},
   "outputs": [],
   "source": [
    "df['MAY']=df['MAY'].fillna(df['MAY'].median())"
   ]
  },
  {
   "cell_type": "code",
   "execution_count": 91,
   "metadata": {},
   "outputs": [],
   "source": [
    "df['JUN']=df['JUN'].fillna(df['JUN'].median())"
   ]
  },
  {
   "cell_type": "code",
   "execution_count": 92,
   "metadata": {},
   "outputs": [],
   "source": [
    "df['JUL']=df['JUL'].fillna(df['JUL'].median())"
   ]
  },
  {
   "cell_type": "code",
   "execution_count": 93,
   "metadata": {},
   "outputs": [],
   "source": [
    "df['AUG']=df['AUG'].fillna(df['AUG'].median())"
   ]
  },
  {
   "cell_type": "code",
   "execution_count": 94,
   "metadata": {},
   "outputs": [],
   "source": [
    "df['SEP']=df['SEP'].fillna(df['SEP'].median())"
   ]
  },
  {
   "cell_type": "code",
   "execution_count": 95,
   "metadata": {},
   "outputs": [],
   "source": [
    "df['OCT']=df['OCT'].fillna(df['OCT'].median())"
   ]
  },
  {
   "cell_type": "code",
   "execution_count": 96,
   "metadata": {},
   "outputs": [],
   "source": [
    "df['NOV']=df['NOV'].fillna(df['NOV'].median())"
   ]
  },
  {
   "cell_type": "code",
   "execution_count": 97,
   "metadata": {},
   "outputs": [],
   "source": [
    "df['DEC']=df['DEC'].fillna(df['DEC'].median())"
   ]
  },
  {
   "cell_type": "code",
   "execution_count": 98,
   "metadata": {},
   "outputs": [],
   "source": [
    "df['2021']=df['2021'].fillna(df['2021'].median())"
   ]
  },
  {
   "cell_type": "code",
   "execution_count": 99,
   "metadata": {},
   "outputs": [
    {
     "data": {
      "text/plain": [
       "Rank    0\n",
       "City    0\n",
       "2022    0\n",
       "JAN     0\n",
       "FEB     0\n",
       "MAR     0\n",
       "APR     0\n",
       "MAY     0\n",
       "JUN     0\n",
       "JUL     0\n",
       "AUG     0\n",
       "SEP     0\n",
       "OCT     0\n",
       "NOV     0\n",
       "DEC     0\n",
       "2021    0\n",
       "dtype: int64"
      ]
     },
     "execution_count": 99,
     "metadata": {},
     "output_type": "execute_result"
    }
   ],
   "source": [
    "df.isnull().sum()"
   ]
  },
  {
   "cell_type": "code",
   "execution_count": 100,
   "metadata": {},
   "outputs": [
    {
     "data": {
      "text/html": [
       "<div>\n",
       "<style scoped>\n",
       "    .dataframe tbody tr th:only-of-type {\n",
       "        vertical-align: middle;\n",
       "    }\n",
       "\n",
       "    .dataframe tbody tr th {\n",
       "        vertical-align: top;\n",
       "    }\n",
       "\n",
       "    .dataframe thead th {\n",
       "        text-align: right;\n",
       "    }\n",
       "</style>\n",
       "<table border=\"1\" class=\"dataframe\">\n",
       "  <thead>\n",
       "    <tr style=\"text-align: right;\">\n",
       "      <th></th>\n",
       "      <th>Rank</th>\n",
       "      <th>City</th>\n",
       "      <th>2022</th>\n",
       "      <th>JAN</th>\n",
       "      <th>FEB</th>\n",
       "      <th>MAR</th>\n",
       "      <th>APR</th>\n",
       "      <th>MAY</th>\n",
       "      <th>JUN</th>\n",
       "      <th>JUL</th>\n",
       "      <th>AUG</th>\n",
       "      <th>SEP</th>\n",
       "      <th>OCT</th>\n",
       "      <th>NOV</th>\n",
       "      <th>DEC</th>\n",
       "      <th>2021</th>\n",
       "    </tr>\n",
       "  </thead>\n",
       "  <tbody>\n",
       "    <tr>\n",
       "      <th>3552</th>\n",
       "      <td>3553</td>\n",
       "      <td>CanadaRevelstoke, Canada</td>\n",
       "      <td>9.4</td>\n",
       "      <td>7.2</td>\n",
       "      <td>9.8</td>\n",
       "      <td>6.9</td>\n",
       "      <td>1.6</td>\n",
       "      <td>1.3</td>\n",
       "      <td>1.9</td>\n",
       "      <td>5.6</td>\n",
       "      <td>10.2</td>\n",
       "      <td>24.2</td>\n",
       "      <td>19.8</td>\n",
       "      <td>15.1</td>\n",
       "      <td>11.3</td>\n",
       "      <td>18.2</td>\n",
       "    </tr>\n",
       "    <tr>\n",
       "      <th>4100</th>\n",
       "      <td>4101</td>\n",
       "      <td>USALeonardtown, USA</td>\n",
       "      <td>8.8</td>\n",
       "      <td>10.8</td>\n",
       "      <td>9.7</td>\n",
       "      <td>7.3</td>\n",
       "      <td>5.9</td>\n",
       "      <td>8.4</td>\n",
       "      <td>10.7</td>\n",
       "      <td>12.3</td>\n",
       "      <td>9.0</td>\n",
       "      <td>7.2</td>\n",
       "      <td>6.6</td>\n",
       "      <td>7.8</td>\n",
       "      <td>10.3</td>\n",
       "      <td>11.6</td>\n",
       "    </tr>\n",
       "    <tr>\n",
       "      <th>3331</th>\n",
       "      <td>3332</td>\n",
       "      <td>USARoseville, USA</td>\n",
       "      <td>9.8</td>\n",
       "      <td>21.8</td>\n",
       "      <td>15.2</td>\n",
       "      <td>4.9</td>\n",
       "      <td>3.8</td>\n",
       "      <td>2.2</td>\n",
       "      <td>2.7</td>\n",
       "      <td>3.8</td>\n",
       "      <td>8.3</td>\n",
       "      <td>12.0</td>\n",
       "      <td>10.4</td>\n",
       "      <td>15.5</td>\n",
       "      <td>17.7</td>\n",
       "      <td>12.5</td>\n",
       "    </tr>\n",
       "    <tr>\n",
       "      <th>5481</th>\n",
       "      <td>5482</td>\n",
       "      <td>JapanYaizu, Japan</td>\n",
       "      <td>7.0</td>\n",
       "      <td>4.5</td>\n",
       "      <td>4.7</td>\n",
       "      <td>7.6</td>\n",
       "      <td>8.2</td>\n",
       "      <td>8.8</td>\n",
       "      <td>7.8</td>\n",
       "      <td>5.3</td>\n",
       "      <td>7.9</td>\n",
       "      <td>5.8</td>\n",
       "      <td>5.8</td>\n",
       "      <td>7.0</td>\n",
       "      <td>6.1</td>\n",
       "      <td>8.4</td>\n",
       "    </tr>\n",
       "    <tr>\n",
       "      <th>1661</th>\n",
       "      <td>1662</td>\n",
       "      <td>USAExeter, USA</td>\n",
       "      <td>14.8</td>\n",
       "      <td>33.5</td>\n",
       "      <td>22.5</td>\n",
       "      <td>12.7</td>\n",
       "      <td>11.0</td>\n",
       "      <td>4.4</td>\n",
       "      <td>4.2</td>\n",
       "      <td>7.3</td>\n",
       "      <td>8.4</td>\n",
       "      <td>10.8</td>\n",
       "      <td>13.6</td>\n",
       "      <td>28.6</td>\n",
       "      <td>22.2</td>\n",
       "      <td>22.1</td>\n",
       "    </tr>\n",
       "    <tr>\n",
       "      <th>5706</th>\n",
       "      <td>5707</td>\n",
       "      <td>UkraineUman', Ukraine</td>\n",
       "      <td>6.7</td>\n",
       "      <td>8.8</td>\n",
       "      <td>12.5</td>\n",
       "      <td>8.3</td>\n",
       "      <td>4.4</td>\n",
       "      <td>3.1</td>\n",
       "      <td>4.5</td>\n",
       "      <td>4.2</td>\n",
       "      <td>5.4</td>\n",
       "      <td>4.7</td>\n",
       "      <td>7.1</td>\n",
       "      <td>7.9</td>\n",
       "      <td>11.3</td>\n",
       "      <td>10.5</td>\n",
       "    </tr>\n",
       "    <tr>\n",
       "      <th>5778</th>\n",
       "      <td>5779</td>\n",
       "      <td>USAValley Springs, USA</td>\n",
       "      <td>6.6</td>\n",
       "      <td>20.3</td>\n",
       "      <td>11.9</td>\n",
       "      <td>4.0</td>\n",
       "      <td>2.9</td>\n",
       "      <td>2.0</td>\n",
       "      <td>1.8</td>\n",
       "      <td>3.3</td>\n",
       "      <td>6.0</td>\n",
       "      <td>8.4</td>\n",
       "      <td>9.2</td>\n",
       "      <td>9.8</td>\n",
       "      <td>10.4</td>\n",
       "      <td>10.5</td>\n",
       "    </tr>\n",
       "    <tr>\n",
       "      <th>187</th>\n",
       "      <td>188</td>\n",
       "      <td>ChinaYanliang, China</td>\n",
       "      <td>43.0</td>\n",
       "      <td>78.3</td>\n",
       "      <td>58.0</td>\n",
       "      <td>46.2</td>\n",
       "      <td>30.6</td>\n",
       "      <td>24.9</td>\n",
       "      <td>18.9</td>\n",
       "      <td>19.8</td>\n",
       "      <td>24.2</td>\n",
       "      <td>37.5</td>\n",
       "      <td>47.6</td>\n",
       "      <td>62.3</td>\n",
       "      <td>69.2</td>\n",
       "      <td>41.0</td>\n",
       "    </tr>\n",
       "    <tr>\n",
       "      <th>3265</th>\n",
       "      <td>3266</td>\n",
       "      <td>USALagunitas-Forest Knolls, USA</td>\n",
       "      <td>9.9</td>\n",
       "      <td>21.6</td>\n",
       "      <td>18.3</td>\n",
       "      <td>6.8</td>\n",
       "      <td>4.5</td>\n",
       "      <td>4.0</td>\n",
       "      <td>3.3</td>\n",
       "      <td>2.5</td>\n",
       "      <td>6.9</td>\n",
       "      <td>6.7</td>\n",
       "      <td>7.0</td>\n",
       "      <td>21.4</td>\n",
       "      <td>16.5</td>\n",
       "      <td>7.5</td>\n",
       "    </tr>\n",
       "    <tr>\n",
       "      <th>1656</th>\n",
       "      <td>1657</td>\n",
       "      <td>PolandUrsus, Poland</td>\n",
       "      <td>14.8</td>\n",
       "      <td>15.9</td>\n",
       "      <td>13.3</td>\n",
       "      <td>26.8</td>\n",
       "      <td>12.7</td>\n",
       "      <td>8.1</td>\n",
       "      <td>9.1</td>\n",
       "      <td>6.8</td>\n",
       "      <td>10.7</td>\n",
       "      <td>9.9</td>\n",
       "      <td>18.2</td>\n",
       "      <td>22.7</td>\n",
       "      <td>22.7</td>\n",
       "      <td>16.8</td>\n",
       "    </tr>\n",
       "  </tbody>\n",
       "</table>\n",
       "</div>"
      ],
      "text/plain": [
       "      Rank                             City  2022   JAN   FEB   MAR   APR  \\\n",
       "3552  3553         CanadaRevelstoke, Canada   9.4   7.2   9.8   6.9   1.6   \n",
       "4100  4101              USALeonardtown, USA   8.8  10.8   9.7   7.3   5.9   \n",
       "3331  3332                USARoseville, USA   9.8  21.8  15.2   4.9   3.8   \n",
       "5481  5482                JapanYaizu, Japan   7.0   4.5   4.7   7.6   8.2   \n",
       "1661  1662                   USAExeter, USA  14.8  33.5  22.5  12.7  11.0   \n",
       "5706  5707            UkraineUman', Ukraine   6.7   8.8  12.5   8.3   4.4   \n",
       "5778  5779           USAValley Springs, USA   6.6  20.3  11.9   4.0   2.9   \n",
       "187    188             ChinaYanliang, China  43.0  78.3  58.0  46.2  30.6   \n",
       "3265  3266  USALagunitas-Forest Knolls, USA   9.9  21.6  18.3   6.8   4.5   \n",
       "1656  1657              PolandUrsus, Poland  14.8  15.9  13.3  26.8  12.7   \n",
       "\n",
       "       MAY   JUN   JUL   AUG   SEP   OCT   NOV   DEC  2021  \n",
       "3552   1.3   1.9   5.6  10.2  24.2  19.8  15.1  11.3  18.2  \n",
       "4100   8.4  10.7  12.3   9.0   7.2   6.6   7.8  10.3  11.6  \n",
       "3331   2.2   2.7   3.8   8.3  12.0  10.4  15.5  17.7  12.5  \n",
       "5481   8.8   7.8   5.3   7.9   5.8   5.8   7.0   6.1   8.4  \n",
       "1661   4.4   4.2   7.3   8.4  10.8  13.6  28.6  22.2  22.1  \n",
       "5706   3.1   4.5   4.2   5.4   4.7   7.1   7.9  11.3  10.5  \n",
       "5778   2.0   1.8   3.3   6.0   8.4   9.2   9.8  10.4  10.5  \n",
       "187   24.9  18.9  19.8  24.2  37.5  47.6  62.3  69.2  41.0  \n",
       "3265   4.0   3.3   2.5   6.9   6.7   7.0  21.4  16.5   7.5  \n",
       "1656   8.1   9.1   6.8  10.7   9.9  18.2  22.7  22.7  16.8  "
      ]
     },
     "execution_count": 100,
     "metadata": {},
     "output_type": "execute_result"
    }
   ],
   "source": [
    "df.sample(10)"
   ]
  },
  {
   "cell_type": "markdown",
   "metadata": {},
   "source": [
    "### Now our cleaned data is ready to perform analysis and visualization."
   ]
  },
  {
   "cell_type": "markdown",
   "metadata": {},
   "source": [
    "## Make another column containing only country names and name that column 'Country'."
   ]
  },
  {
   "cell_type": "code",
   "execution_count": 101,
   "metadata": {},
   "outputs": [],
   "source": [
    "df['Country']=df['City'].str.split(', ',expand=True)[1]"
   ]
  },
  {
   "cell_type": "code",
   "execution_count": 102,
   "metadata": {},
   "outputs": [
    {
     "data": {
      "text/html": [
       "<div>\n",
       "<style scoped>\n",
       "    .dataframe tbody tr th:only-of-type {\n",
       "        vertical-align: middle;\n",
       "    }\n",
       "\n",
       "    .dataframe tbody tr th {\n",
       "        vertical-align: top;\n",
       "    }\n",
       "\n",
       "    .dataframe thead th {\n",
       "        text-align: right;\n",
       "    }\n",
       "</style>\n",
       "<table border=\"1\" class=\"dataframe\">\n",
       "  <thead>\n",
       "    <tr style=\"text-align: right;\">\n",
       "      <th></th>\n",
       "      <th>Rank</th>\n",
       "      <th>City</th>\n",
       "      <th>2022</th>\n",
       "      <th>JAN</th>\n",
       "      <th>FEB</th>\n",
       "      <th>MAR</th>\n",
       "      <th>APR</th>\n",
       "      <th>MAY</th>\n",
       "      <th>JUN</th>\n",
       "      <th>JUL</th>\n",
       "      <th>AUG</th>\n",
       "      <th>SEP</th>\n",
       "      <th>OCT</th>\n",
       "      <th>NOV</th>\n",
       "      <th>DEC</th>\n",
       "      <th>2021</th>\n",
       "      <th>Country</th>\n",
       "    </tr>\n",
       "  </thead>\n",
       "  <tbody>\n",
       "    <tr>\n",
       "      <th>0</th>\n",
       "      <td>1</td>\n",
       "      <td>PakistanLahore, Pakistan</td>\n",
       "      <td>97.4</td>\n",
       "      <td>133.0</td>\n",
       "      <td>102.5</td>\n",
       "      <td>85.6</td>\n",
       "      <td>69.3</td>\n",
       "      <td>60.9</td>\n",
       "      <td>52.1</td>\n",
       "      <td>47.8</td>\n",
       "      <td>46.2</td>\n",
       "      <td>64.2</td>\n",
       "      <td>123.2</td>\n",
       "      <td>190.5</td>\n",
       "      <td>192.9</td>\n",
       "      <td>86.5</td>\n",
       "      <td>Pakistan</td>\n",
       "    </tr>\n",
       "    <tr>\n",
       "      <th>1</th>\n",
       "      <td>2</td>\n",
       "      <td>ChinaHotan, China</td>\n",
       "      <td>94.3</td>\n",
       "      <td>61.7</td>\n",
       "      <td>91.6</td>\n",
       "      <td>132.7</td>\n",
       "      <td>106.2</td>\n",
       "      <td>120.5</td>\n",
       "      <td>69.5</td>\n",
       "      <td>172.5</td>\n",
       "      <td>75.0</td>\n",
       "      <td>65.1</td>\n",
       "      <td>75.0</td>\n",
       "      <td>50.3</td>\n",
       "      <td>120.0</td>\n",
       "      <td>101.5</td>\n",
       "      <td>China</td>\n",
       "    </tr>\n",
       "    <tr>\n",
       "      <th>2</th>\n",
       "      <td>3</td>\n",
       "      <td>IndiaBhiwadi, India</td>\n",
       "      <td>92.7</td>\n",
       "      <td>110.6</td>\n",
       "      <td>98.0</td>\n",
       "      <td>116.2</td>\n",
       "      <td>149.5</td>\n",
       "      <td>123.8</td>\n",
       "      <td>102.8</td>\n",
       "      <td>38.8</td>\n",
       "      <td>36.5</td>\n",
       "      <td>59.9</td>\n",
       "      <td>85.4</td>\n",
       "      <td>111.4</td>\n",
       "      <td>86.9</td>\n",
       "      <td>106.2</td>\n",
       "      <td>India</td>\n",
       "    </tr>\n",
       "    <tr>\n",
       "      <th>3</th>\n",
       "      <td>4</td>\n",
       "      <td>IndiaDelhi (NCT), India</td>\n",
       "      <td>92.6</td>\n",
       "      <td>141.0</td>\n",
       "      <td>100.9</td>\n",
       "      <td>91.0</td>\n",
       "      <td>98.0</td>\n",
       "      <td>73.2</td>\n",
       "      <td>56.2</td>\n",
       "      <td>34.3</td>\n",
       "      <td>31.1</td>\n",
       "      <td>38.3</td>\n",
       "      <td>99.7</td>\n",
       "      <td>176.8</td>\n",
       "      <td>171.9</td>\n",
       "      <td>96.4</td>\n",
       "      <td>India</td>\n",
       "    </tr>\n",
       "    <tr>\n",
       "      <th>4</th>\n",
       "      <td>5</td>\n",
       "      <td>PakistanPeshawar, Pakistan</td>\n",
       "      <td>91.8</td>\n",
       "      <td>110.2</td>\n",
       "      <td>103.5</td>\n",
       "      <td>78.3</td>\n",
       "      <td>68.5</td>\n",
       "      <td>53.5</td>\n",
       "      <td>56.3</td>\n",
       "      <td>51.8</td>\n",
       "      <td>57.8</td>\n",
       "      <td>79.0</td>\n",
       "      <td>100.0</td>\n",
       "      <td>132.0</td>\n",
       "      <td>212.1</td>\n",
       "      <td>89.6</td>\n",
       "      <td>Pakistan</td>\n",
       "    </tr>\n",
       "    <tr>\n",
       "      <th>...</th>\n",
       "      <td>...</td>\n",
       "      <td>...</td>\n",
       "      <td>...</td>\n",
       "      <td>...</td>\n",
       "      <td>...</td>\n",
       "      <td>...</td>\n",
       "      <td>...</td>\n",
       "      <td>...</td>\n",
       "      <td>...</td>\n",
       "      <td>...</td>\n",
       "      <td>...</td>\n",
       "      <td>...</td>\n",
       "      <td>...</td>\n",
       "      <td>...</td>\n",
       "      <td>...</td>\n",
       "      <td>...</td>\n",
       "      <td>...</td>\n",
       "    </tr>\n",
       "    <tr>\n",
       "      <th>7318</th>\n",
       "      <td>7319</td>\n",
       "      <td>USACastroville, USA</td>\n",
       "      <td>0.8</td>\n",
       "      <td>0.3</td>\n",
       "      <td>0.4</td>\n",
       "      <td>0.4</td>\n",
       "      <td>0.6</td>\n",
       "      <td>0.5</td>\n",
       "      <td>1.0</td>\n",
       "      <td>0.6</td>\n",
       "      <td>0.9</td>\n",
       "      <td>1.5</td>\n",
       "      <td>1.5</td>\n",
       "      <td>1.7</td>\n",
       "      <td>1.4</td>\n",
       "      <td>7.5</td>\n",
       "      <td>USA</td>\n",
       "    </tr>\n",
       "    <tr>\n",
       "      <th>7319</th>\n",
       "      <td>7320</td>\n",
       "      <td>USAWilson, USA</td>\n",
       "      <td>0.8</td>\n",
       "      <td>0.9</td>\n",
       "      <td>0.8</td>\n",
       "      <td>0.5</td>\n",
       "      <td>0.6</td>\n",
       "      <td>0.5</td>\n",
       "      <td>0.8</td>\n",
       "      <td>1.2</td>\n",
       "      <td>1.4</td>\n",
       "      <td>1.1</td>\n",
       "      <td>1.1</td>\n",
       "      <td>0.8</td>\n",
       "      <td>0.6</td>\n",
       "      <td>7.7</td>\n",
       "      <td>USA</td>\n",
       "    </tr>\n",
       "    <tr>\n",
       "      <th>7320</th>\n",
       "      <td>7321</td>\n",
       "      <td>USARoanoke Rapids, USA</td>\n",
       "      <td>0.6</td>\n",
       "      <td>0.8</td>\n",
       "      <td>0.7</td>\n",
       "      <td>0.5</td>\n",
       "      <td>0.4</td>\n",
       "      <td>0.5</td>\n",
       "      <td>0.6</td>\n",
       "      <td>0.5</td>\n",
       "      <td>0.3</td>\n",
       "      <td>0.5</td>\n",
       "      <td>0.7</td>\n",
       "      <td>0.6</td>\n",
       "      <td>0.8</td>\n",
       "      <td>2.9</td>\n",
       "      <td>USA</td>\n",
       "    </tr>\n",
       "    <tr>\n",
       "      <th>7321</th>\n",
       "      <td>7322</td>\n",
       "      <td>IndonesiaKuta, Indonesia</td>\n",
       "      <td>0.5</td>\n",
       "      <td>2.3</td>\n",
       "      <td>0.9</td>\n",
       "      <td>0.3</td>\n",
       "      <td>0.5</td>\n",
       "      <td>0.6</td>\n",
       "      <td>0.5</td>\n",
       "      <td>0.3</td>\n",
       "      <td>0.4</td>\n",
       "      <td>0.3</td>\n",
       "      <td>0.2</td>\n",
       "      <td>0.4</td>\n",
       "      <td>0.3</td>\n",
       "      <td>9.8</td>\n",
       "      <td>Indonesia</td>\n",
       "    </tr>\n",
       "    <tr>\n",
       "      <th>7322</th>\n",
       "      <td>7323</td>\n",
       "      <td>USAArch Cape, USA</td>\n",
       "      <td>0.2</td>\n",
       "      <td>0.2</td>\n",
       "      <td>0.1</td>\n",
       "      <td>0.1</td>\n",
       "      <td>0.1</td>\n",
       "      <td>0.1</td>\n",
       "      <td>0.1</td>\n",
       "      <td>0.1</td>\n",
       "      <td>0.1</td>\n",
       "      <td>0.3</td>\n",
       "      <td>0.3</td>\n",
       "      <td>0.8</td>\n",
       "      <td>1.0</td>\n",
       "      <td>10.5</td>\n",
       "      <td>USA</td>\n",
       "    </tr>\n",
       "  </tbody>\n",
       "</table>\n",
       "<p>7323 rows × 17 columns</p>\n",
       "</div>"
      ],
      "text/plain": [
       "      Rank                        City  2022    JAN    FEB    MAR    APR  \\\n",
       "0        1    PakistanLahore, Pakistan  97.4  133.0  102.5   85.6   69.3   \n",
       "1        2           ChinaHotan, China  94.3   61.7   91.6  132.7  106.2   \n",
       "2        3         IndiaBhiwadi, India  92.7  110.6   98.0  116.2  149.5   \n",
       "3        4     IndiaDelhi (NCT), India  92.6  141.0  100.9   91.0   98.0   \n",
       "4        5  PakistanPeshawar, Pakistan  91.8  110.2  103.5   78.3   68.5   \n",
       "...    ...                         ...   ...    ...    ...    ...    ...   \n",
       "7318  7319         USACastroville, USA   0.8    0.3    0.4    0.4    0.6   \n",
       "7319  7320              USAWilson, USA   0.8    0.9    0.8    0.5    0.6   \n",
       "7320  7321      USARoanoke Rapids, USA   0.6    0.8    0.7    0.5    0.4   \n",
       "7321  7322    IndonesiaKuta, Indonesia   0.5    2.3    0.9    0.3    0.5   \n",
       "7322  7323           USAArch Cape, USA   0.2    0.2    0.1    0.1    0.1   \n",
       "\n",
       "        MAY    JUN    JUL   AUG   SEP    OCT    NOV    DEC   2021    Country  \n",
       "0      60.9   52.1   47.8  46.2  64.2  123.2  190.5  192.9   86.5   Pakistan  \n",
       "1     120.5   69.5  172.5  75.0  65.1   75.0   50.3  120.0  101.5      China  \n",
       "2     123.8  102.8   38.8  36.5  59.9   85.4  111.4   86.9  106.2      India  \n",
       "3      73.2   56.2   34.3  31.1  38.3   99.7  176.8  171.9   96.4      India  \n",
       "4      53.5   56.3   51.8  57.8  79.0  100.0  132.0  212.1   89.6   Pakistan  \n",
       "...     ...    ...    ...   ...   ...    ...    ...    ...    ...        ...  \n",
       "7318    0.5    1.0    0.6   0.9   1.5    1.5    1.7    1.4    7.5        USA  \n",
       "7319    0.5    0.8    1.2   1.4   1.1    1.1    0.8    0.6    7.7        USA  \n",
       "7320    0.5    0.6    0.5   0.3   0.5    0.7    0.6    0.8    2.9        USA  \n",
       "7321    0.6    0.5    0.3   0.4   0.3    0.2    0.4    0.3    9.8  Indonesia  \n",
       "7322    0.1    0.1    0.1   0.1   0.3    0.3    0.8    1.0   10.5        USA  \n",
       "\n",
       "[7323 rows x 17 columns]"
      ]
     },
     "execution_count": 102,
     "metadata": {},
     "output_type": "execute_result"
    }
   ],
   "source": [
    "df"
   ]
  },
  {
   "cell_type": "code",
   "execution_count": null,
   "metadata": {},
   "outputs": [],
   "source": []
  },
  {
   "cell_type": "markdown",
   "metadata": {},
   "source": [
    "## How many records are there from India."
   ]
  },
  {
   "cell_type": "code",
   "execution_count": 103,
   "metadata": {},
   "outputs": [
    {
     "data": {
      "text/html": [
       "<div>\n",
       "<style scoped>\n",
       "    .dataframe tbody tr th:only-of-type {\n",
       "        vertical-align: middle;\n",
       "    }\n",
       "\n",
       "    .dataframe tbody tr th {\n",
       "        vertical-align: top;\n",
       "    }\n",
       "\n",
       "    .dataframe thead th {\n",
       "        text-align: right;\n",
       "    }\n",
       "</style>\n",
       "<table border=\"1\" class=\"dataframe\">\n",
       "  <thead>\n",
       "    <tr style=\"text-align: right;\">\n",
       "      <th></th>\n",
       "      <th>Rank</th>\n",
       "      <th>City</th>\n",
       "      <th>2022</th>\n",
       "      <th>JAN</th>\n",
       "      <th>FEB</th>\n",
       "      <th>MAR</th>\n",
       "      <th>APR</th>\n",
       "      <th>MAY</th>\n",
       "      <th>JUN</th>\n",
       "      <th>JUL</th>\n",
       "      <th>AUG</th>\n",
       "      <th>SEP</th>\n",
       "      <th>OCT</th>\n",
       "      <th>NOV</th>\n",
       "      <th>DEC</th>\n",
       "      <th>2021</th>\n",
       "      <th>Country</th>\n",
       "    </tr>\n",
       "  </thead>\n",
       "  <tbody>\n",
       "    <tr>\n",
       "      <th>2</th>\n",
       "      <td>3</td>\n",
       "      <td>IndiaBhiwadi, India</td>\n",
       "      <td>92.7</td>\n",
       "      <td>110.6</td>\n",
       "      <td>98.0</td>\n",
       "      <td>116.2</td>\n",
       "      <td>149.5</td>\n",
       "      <td>123.8</td>\n",
       "      <td>102.8</td>\n",
       "      <td>38.8</td>\n",
       "      <td>36.5</td>\n",
       "      <td>59.9</td>\n",
       "      <td>85.4</td>\n",
       "      <td>111.4</td>\n",
       "      <td>86.9</td>\n",
       "      <td>106.2</td>\n",
       "      <td>India</td>\n",
       "    </tr>\n",
       "    <tr>\n",
       "      <th>3</th>\n",
       "      <td>4</td>\n",
       "      <td>IndiaDelhi (NCT), India</td>\n",
       "      <td>92.6</td>\n",
       "      <td>141.0</td>\n",
       "      <td>100.9</td>\n",
       "      <td>91.0</td>\n",
       "      <td>98.0</td>\n",
       "      <td>73.2</td>\n",
       "      <td>56.2</td>\n",
       "      <td>34.3</td>\n",
       "      <td>31.1</td>\n",
       "      <td>38.3</td>\n",
       "      <td>99.7</td>\n",
       "      <td>176.8</td>\n",
       "      <td>171.9</td>\n",
       "      <td>96.4</td>\n",
       "      <td>India</td>\n",
       "    </tr>\n",
       "    <tr>\n",
       "      <th>5</th>\n",
       "      <td>6</td>\n",
       "      <td>IndiaDarbhanga, India</td>\n",
       "      <td>90.3</td>\n",
       "      <td>127.0</td>\n",
       "      <td>77.9</td>\n",
       "      <td>83.1</td>\n",
       "      <td>64.9</td>\n",
       "      <td>46.3</td>\n",
       "      <td>39.1</td>\n",
       "      <td>21.0</td>\n",
       "      <td>25.4</td>\n",
       "      <td>32.1</td>\n",
       "      <td>86.8</td>\n",
       "      <td>179.9</td>\n",
       "      <td>248.0</td>\n",
       "      <td>175.9</td>\n",
       "      <td>India</td>\n",
       "    </tr>\n",
       "    <tr>\n",
       "      <th>6</th>\n",
       "      <td>7</td>\n",
       "      <td>IndiaAsopur, India</td>\n",
       "      <td>90.2</td>\n",
       "      <td>110.3</td>\n",
       "      <td>89.0</td>\n",
       "      <td>104.6</td>\n",
       "      <td>124.4</td>\n",
       "      <td>73.4</td>\n",
       "      <td>52.3</td>\n",
       "      <td>44.1</td>\n",
       "      <td>34.9</td>\n",
       "      <td>37.1</td>\n",
       "      <td>74.1</td>\n",
       "      <td>139.7</td>\n",
       "      <td>201.2</td>\n",
       "      <td>10.5</td>\n",
       "      <td>India</td>\n",
       "    </tr>\n",
       "    <tr>\n",
       "      <th>8</th>\n",
       "      <td>9</td>\n",
       "      <td>IndiaNew Delhi, India</td>\n",
       "      <td>89.1</td>\n",
       "      <td>133.7</td>\n",
       "      <td>95.2</td>\n",
       "      <td>86.4</td>\n",
       "      <td>93.7</td>\n",
       "      <td>72.5</td>\n",
       "      <td>54.9</td>\n",
       "      <td>33.6</td>\n",
       "      <td>30.5</td>\n",
       "      <td>37.7</td>\n",
       "      <td>94.9</td>\n",
       "      <td>170.1</td>\n",
       "      <td>166.8</td>\n",
       "      <td>10.5</td>\n",
       "      <td>India</td>\n",
       "    </tr>\n",
       "    <tr>\n",
       "      <th>...</th>\n",
       "      <td>...</td>\n",
       "      <td>...</td>\n",
       "      <td>...</td>\n",
       "      <td>...</td>\n",
       "      <td>...</td>\n",
       "      <td>...</td>\n",
       "      <td>...</td>\n",
       "      <td>...</td>\n",
       "      <td>...</td>\n",
       "      <td>...</td>\n",
       "      <td>...</td>\n",
       "      <td>...</td>\n",
       "      <td>...</td>\n",
       "      <td>...</td>\n",
       "      <td>...</td>\n",
       "      <td>...</td>\n",
       "      <td>...</td>\n",
       "    </tr>\n",
       "    <tr>\n",
       "      <th>4493</th>\n",
       "      <td>4494</td>\n",
       "      <td>IndiaPolampalle, India</td>\n",
       "      <td>8.3</td>\n",
       "      <td>8.9</td>\n",
       "      <td>8.5</td>\n",
       "      <td>9.6</td>\n",
       "      <td>9.1</td>\n",
       "      <td>8.8</td>\n",
       "      <td>6.0</td>\n",
       "      <td>5.2</td>\n",
       "      <td>7.5</td>\n",
       "      <td>6.2</td>\n",
       "      <td>8.1</td>\n",
       "      <td>11.0</td>\n",
       "      <td>6.9</td>\n",
       "      <td>10.5</td>\n",
       "      <td>India</td>\n",
       "    </tr>\n",
       "    <tr>\n",
       "      <th>7110</th>\n",
       "      <td>7111</td>\n",
       "      <td>IndiaKattupalli, India</td>\n",
       "      <td>2.8</td>\n",
       "      <td>4.1</td>\n",
       "      <td>3.6</td>\n",
       "      <td>3.0</td>\n",
       "      <td>2.8</td>\n",
       "      <td>3.2</td>\n",
       "      <td>3.2</td>\n",
       "      <td>8.1</td>\n",
       "      <td>8.5</td>\n",
       "      <td>2.2</td>\n",
       "      <td>2.1</td>\n",
       "      <td>2.0</td>\n",
       "      <td>2.2</td>\n",
       "      <td>10.5</td>\n",
       "      <td>India</td>\n",
       "    </tr>\n",
       "    <tr>\n",
       "      <th>7132</th>\n",
       "      <td>7133</td>\n",
       "      <td>IndiaAladu, India</td>\n",
       "      <td>2.7</td>\n",
       "      <td>2.0</td>\n",
       "      <td>2.0</td>\n",
       "      <td>3.5</td>\n",
       "      <td>4.0</td>\n",
       "      <td>4.6</td>\n",
       "      <td>3.3</td>\n",
       "      <td>2.9</td>\n",
       "      <td>2.2</td>\n",
       "      <td>2.2</td>\n",
       "      <td>2.6</td>\n",
       "      <td>1.4</td>\n",
       "      <td>1.0</td>\n",
       "      <td>10.5</td>\n",
       "      <td>India</td>\n",
       "    </tr>\n",
       "    <tr>\n",
       "      <th>7293</th>\n",
       "      <td>7294</td>\n",
       "      <td>IndiaDigboi, India</td>\n",
       "      <td>1.4</td>\n",
       "      <td>0.4</td>\n",
       "      <td>0.3</td>\n",
       "      <td>1.3</td>\n",
       "      <td>1.4</td>\n",
       "      <td>1.7</td>\n",
       "      <td>1.5</td>\n",
       "      <td>1.5</td>\n",
       "      <td>1.8</td>\n",
       "      <td>1.9</td>\n",
       "      <td>1.8</td>\n",
       "      <td>2.8</td>\n",
       "      <td>10.4</td>\n",
       "      <td>6.9</td>\n",
       "      <td>India</td>\n",
       "    </tr>\n",
       "    <tr>\n",
       "      <th>7314</th>\n",
       "      <td>7315</td>\n",
       "      <td>IndiaTarakeswar, India</td>\n",
       "      <td>0.9</td>\n",
       "      <td>2.3</td>\n",
       "      <td>2.0</td>\n",
       "      <td>1.9</td>\n",
       "      <td>1.0</td>\n",
       "      <td>1.1</td>\n",
       "      <td>0.6</td>\n",
       "      <td>0.4</td>\n",
       "      <td>0.5</td>\n",
       "      <td>0.8</td>\n",
       "      <td>1.3</td>\n",
       "      <td>2.2</td>\n",
       "      <td>2.5</td>\n",
       "      <td>30.7</td>\n",
       "      <td>India</td>\n",
       "    </tr>\n",
       "  </tbody>\n",
       "</table>\n",
       "<p>202 rows × 17 columns</p>\n",
       "</div>"
      ],
      "text/plain": [
       "      Rank                     City  2022    JAN    FEB    MAR    APR    MAY  \\\n",
       "2        3      IndiaBhiwadi, India  92.7  110.6   98.0  116.2  149.5  123.8   \n",
       "3        4  IndiaDelhi (NCT), India  92.6  141.0  100.9   91.0   98.0   73.2   \n",
       "5        6    IndiaDarbhanga, India  90.3  127.0   77.9   83.1   64.9   46.3   \n",
       "6        7       IndiaAsopur, India  90.2  110.3   89.0  104.6  124.4   73.4   \n",
       "8        9    IndiaNew Delhi, India  89.1  133.7   95.2   86.4   93.7   72.5   \n",
       "...    ...                      ...   ...    ...    ...    ...    ...    ...   \n",
       "4493  4494   IndiaPolampalle, India   8.3    8.9    8.5    9.6    9.1    8.8   \n",
       "7110  7111   IndiaKattupalli, India   2.8    4.1    3.6    3.0    2.8    3.2   \n",
       "7132  7133        IndiaAladu, India   2.7    2.0    2.0    3.5    4.0    4.6   \n",
       "7293  7294       IndiaDigboi, India   1.4    0.4    0.3    1.3    1.4    1.7   \n",
       "7314  7315   IndiaTarakeswar, India   0.9    2.3    2.0    1.9    1.0    1.1   \n",
       "\n",
       "        JUN   JUL   AUG   SEP   OCT    NOV    DEC   2021 Country  \n",
       "2     102.8  38.8  36.5  59.9  85.4  111.4   86.9  106.2   India  \n",
       "3      56.2  34.3  31.1  38.3  99.7  176.8  171.9   96.4   India  \n",
       "5      39.1  21.0  25.4  32.1  86.8  179.9  248.0  175.9   India  \n",
       "6      52.3  44.1  34.9  37.1  74.1  139.7  201.2   10.5   India  \n",
       "8      54.9  33.6  30.5  37.7  94.9  170.1  166.8   10.5   India  \n",
       "...     ...   ...   ...   ...   ...    ...    ...    ...     ...  \n",
       "4493    6.0   5.2   7.5   6.2   8.1   11.0    6.9   10.5   India  \n",
       "7110    3.2   8.1   8.5   2.2   2.1    2.0    2.2   10.5   India  \n",
       "7132    3.3   2.9   2.2   2.2   2.6    1.4    1.0   10.5   India  \n",
       "7293    1.5   1.5   1.8   1.9   1.8    2.8   10.4    6.9   India  \n",
       "7314    0.6   0.4   0.5   0.8   1.3    2.2    2.5   30.7   India  \n",
       "\n",
       "[202 rows x 17 columns]"
      ]
     },
     "execution_count": 103,
     "metadata": {},
     "output_type": "execute_result"
    }
   ],
   "source": [
    "ind=df[df['Country'].str.contains('India')]\n",
    "ind"
   ]
  },
  {
   "cell_type": "code",
   "execution_count": 104,
   "metadata": {},
   "outputs": [
    {
     "data": {
      "text/plain": [
       "202"
      ]
     },
     "execution_count": 104,
     "metadata": {},
     "output_type": "execute_result"
    }
   ],
   "source": [
    "ind['City'].count()"
   ]
  },
  {
   "cell_type": "markdown",
   "metadata": {},
   "source": [
    "### There are 202 records from India"
   ]
  },
  {
   "cell_type": "markdown",
   "metadata": {},
   "source": [
    "## Which Top 5 countries are there with highest numbers of cities."
   ]
  },
  {
   "cell_type": "code",
   "execution_count": 105,
   "metadata": {},
   "outputs": [
    {
     "data": {
      "text/plain": [
       "USA        2894\n",
       "Japan       631\n",
       "China       524\n",
       "Canada      304\n",
       "Germany     204\n",
       "Name: Country, dtype: int64"
      ]
     },
     "execution_count": 105,
     "metadata": {},
     "output_type": "execute_result"
    }
   ],
   "source": [
    "df['Country'].value_counts()[:5]"
   ]
  },
  {
   "cell_type": "markdown",
   "metadata": {},
   "source": [
    "### USA,Japan,China,Canada,Germany are top five countries which are having highest numbers of cities."
   ]
  },
  {
   "cell_type": "markdown",
   "metadata": {},
   "source": [
    "## Show corelation among all columns."
   ]
  },
  {
   "cell_type": "code",
   "execution_count": 106,
   "metadata": {},
   "outputs": [
    {
     "data": {
      "image/png": "[encoded data removed]",
      "text/plain": [
       "<Figure size 1080x720 with 2 Axes>"
      ]
     },
     "metadata": {
      "needs_background": "light"
     },
     "output_type": "display_data"
    }
   ],
   "source": [
    "plt.figure(figsize=(15,10))\n",
    "sns.heatmap(df.corr(),annot=True)\n",
    "plt.show()"
   ]
  },
  {
   "cell_type": "markdown",
   "metadata": {},
   "source": [
    "### Except Rank column, columns shows percentages more than 0.9 are highly corelated and percentages less than 0.5 are less corelated to each other.\n",
    "### eg. columns APR and NOV are highly corelated to 2022"
   ]
  },
  {
   "cell_type": "markdown",
   "metadata": {},
   "source": [
    "## Plot graph to show which country is having most air polluted cities in 2021."
   ]
  },
  {
   "cell_type": "code",
   "execution_count": 107,
   "metadata": {},
   "outputs": [
    {
     "data": {
      "text/plain": [
       "Country\n",
       "Afghanistan     1\n",
       "Albania         1\n",
       "Algeria         1\n",
       "Andorra         1\n",
       "Angola          1\n",
       "               ..\n",
       "Uruguay         1\n",
       "Uzbekistan      1\n",
       "Venezuela       1\n",
       "Vietnam        20\n",
       "Zambia          1\n",
       "Name: 2021, Length: 133, dtype: int64"
      ]
     },
     "execution_count": 107,
     "metadata": {},
     "output_type": "execute_result"
    }
   ],
   "source": [
    "d=df.groupby('Country')\n",
    "d['2021'].count()"
   ]
  },
  {
   "cell_type": "code",
   "execution_count": 108,
   "metadata": {},
   "outputs": [
    {
     "data": {
      "image/png": "[encoded data removed]",
      "text/plain": [
       "<Figure size 1440x720 with 1 Axes>"
      ]
     },
     "metadata": {
      "needs_background": "light"
     },
     "output_type": "display_data"
    }
   ],
   "source": [
    "plt.figure(figsize=(20,10))\n",
    "d['2021'].count().plot(kind='bar')\n",
    "plt.show()"
   ]
  },
  {
   "cell_type": "markdown",
   "metadata": {},
   "source": [
    "### USA contains highest number of cities with air pollution."
   ]
  },
  {
   "cell_type": "markdown",
   "metadata": {},
   "source": [
    "## Which City has highest air pollution index in month of March(MAR)"
   ]
  },
  {
   "cell_type": "code",
   "execution_count": 109,
   "metadata": {},
   "outputs": [
    {
     "data": {
      "text/html": [
       "<div>\n",
       "<style scoped>\n",
       "    .dataframe tbody tr th:only-of-type {\n",
       "        vertical-align: middle;\n",
       "    }\n",
       "\n",
       "    .dataframe tbody tr th {\n",
       "        vertical-align: top;\n",
       "    }\n",
       "\n",
       "    .dataframe thead th {\n",
       "        text-align: right;\n",
       "    }\n",
       "</style>\n",
       "<table border=\"1\" class=\"dataframe\">\n",
       "  <thead>\n",
       "    <tr style=\"text-align: right;\">\n",
       "      <th></th>\n",
       "      <th>Rank</th>\n",
       "      <th>City</th>\n",
       "      <th>2022</th>\n",
       "      <th>JAN</th>\n",
       "      <th>FEB</th>\n",
       "      <th>MAR</th>\n",
       "      <th>APR</th>\n",
       "      <th>MAY</th>\n",
       "      <th>JUN</th>\n",
       "      <th>JUL</th>\n",
       "      <th>AUG</th>\n",
       "      <th>SEP</th>\n",
       "      <th>OCT</th>\n",
       "      <th>NOV</th>\n",
       "      <th>DEC</th>\n",
       "      <th>2021</th>\n",
       "      <th>Country</th>\n",
       "    </tr>\n",
       "  </thead>\n",
       "  <tbody>\n",
       "    <tr>\n",
       "      <th>7</th>\n",
       "      <td>8</td>\n",
       "      <td>ChadN'Djamena, Chad</td>\n",
       "      <td>89.7</td>\n",
       "      <td>162.3</td>\n",
       "      <td>163.7</td>\n",
       "      <td>245.6</td>\n",
       "      <td>103.7</td>\n",
       "      <td>74.2</td>\n",
       "      <td>36.6</td>\n",
       "      <td>21.2</td>\n",
       "      <td>21.8</td>\n",
       "      <td>22.1</td>\n",
       "      <td>49.7</td>\n",
       "      <td>59.9</td>\n",
       "      <td>132.4</td>\n",
       "      <td>77.6</td>\n",
       "      <td>Chad</td>\n",
       "    </tr>\n",
       "  </tbody>\n",
       "</table>\n",
       "</div>"
      ],
      "text/plain": [
       "   Rank                 City  2022    JAN    FEB    MAR    APR   MAY   JUN  \\\n",
       "7     8  ChadN'Djamena, Chad  89.7  162.3  163.7  245.6  103.7  74.2  36.6   \n",
       "\n",
       "    JUL   AUG   SEP   OCT   NOV    DEC  2021 Country  \n",
       "7  21.2  21.8  22.1  49.7  59.9  132.4  77.6    Chad  "
      ]
     },
     "execution_count": 109,
     "metadata": {},
     "output_type": "execute_result"
    }
   ],
   "source": [
    "hmar=df[df['MAR']==df['MAR'].max()]\n",
    "hmar"
   ]
  },
  {
   "cell_type": "code",
   "execution_count": 110,
   "metadata": {},
   "outputs": [
    {
     "data": {
      "text/plain": [
       "7    ChadN'Djamena, Chad\n",
       "Name: City, dtype: object"
      ]
     },
     "execution_count": 110,
     "metadata": {},
     "output_type": "execute_result"
    }
   ],
   "source": [
    "hmar['City']"
   ]
  },
  {
   "cell_type": "markdown",
   "metadata": {},
   "source": [
    "### ChadN'Djamena has highest air pollution index in march."
   ]
  },
  {
   "cell_type": "markdown",
   "metadata": {},
   "source": [
    "## What is frequency of distribution in month of July(JUL)"
   ]
  },
  {
   "cell_type": "code",
   "execution_count": 111,
   "metadata": {},
   "outputs": [
    {
     "data": {
      "image/png": "[encoded data removed]",
      "text/plain": [
       "<Figure size 1440x720 with 1 Axes>"
      ]
     },
     "metadata": {
      "needs_background": "light"
     },
     "output_type": "display_data"
    }
   ],
   "source": [
    "plt.figure(figsize=(20,10))\n",
    "sns.histplot(x=df['JUL'])\n",
    "plt.show()"
   ]
  },
  {
   "cell_type": "markdown",
   "metadata": {},
   "source": [
    "### Frequency is highly distributed in range of 0 to 25 in month of July."
   ]
  },
  {
   "cell_type": "markdown",
   "metadata": {},
   "source": [
    "## What is air pollution index difference between months of January(JAN) and December(DEC) from city 'Hotan'. Is it increased or decreased?"
   ]
  },
  {
   "cell_type": "code",
   "execution_count": 112,
   "metadata": {},
   "outputs": [
    {
     "data": {
      "text/html": [
       "<div>\n",
       "<style scoped>\n",
       "    .dataframe tbody tr th:only-of-type {\n",
       "        vertical-align: middle;\n",
       "    }\n",
       "\n",
       "    .dataframe tbody tr th {\n",
       "        vertical-align: top;\n",
       "    }\n",
       "\n",
       "    .dataframe thead th {\n",
       "        text-align: right;\n",
       "    }\n",
       "</style>\n",
       "<table border=\"1\" class=\"dataframe\">\n",
       "  <thead>\n",
       "    <tr style=\"text-align: right;\">\n",
       "      <th></th>\n",
       "      <th>Rank</th>\n",
       "      <th>City</th>\n",
       "      <th>2022</th>\n",
       "      <th>JAN</th>\n",
       "      <th>FEB</th>\n",
       "      <th>MAR</th>\n",
       "      <th>APR</th>\n",
       "      <th>MAY</th>\n",
       "      <th>JUN</th>\n",
       "      <th>JUL</th>\n",
       "      <th>AUG</th>\n",
       "      <th>SEP</th>\n",
       "      <th>OCT</th>\n",
       "      <th>NOV</th>\n",
       "      <th>DEC</th>\n",
       "      <th>2021</th>\n",
       "      <th>Country</th>\n",
       "    </tr>\n",
       "  </thead>\n",
       "  <tbody>\n",
       "    <tr>\n",
       "      <th>1</th>\n",
       "      <td>2</td>\n",
       "      <td>ChinaHotan, China</td>\n",
       "      <td>94.3</td>\n",
       "      <td>61.7</td>\n",
       "      <td>91.6</td>\n",
       "      <td>132.7</td>\n",
       "      <td>106.2</td>\n",
       "      <td>120.5</td>\n",
       "      <td>69.5</td>\n",
       "      <td>172.5</td>\n",
       "      <td>75.0</td>\n",
       "      <td>65.1</td>\n",
       "      <td>75.0</td>\n",
       "      <td>50.3</td>\n",
       "      <td>120.0</td>\n",
       "      <td>101.5</td>\n",
       "      <td>China</td>\n",
       "    </tr>\n",
       "  </tbody>\n",
       "</table>\n",
       "</div>"
      ],
      "text/plain": [
       "   Rank               City  2022   JAN   FEB    MAR    APR    MAY   JUN  \\\n",
       "1     2  ChinaHotan, China  94.3  61.7  91.6  132.7  106.2  120.5  69.5   \n",
       "\n",
       "     JUL   AUG   SEP   OCT   NOV    DEC   2021 Country  \n",
       "1  172.5  75.0  65.1  75.0  50.3  120.0  101.5   China  "
      ]
     },
     "execution_count": 112,
     "metadata": {},
     "output_type": "execute_result"
    }
   ],
   "source": [
    "hotan=df[df['City'].str.contains('Hotan')]\n",
    "hotan"
   ]
  },
  {
   "cell_type": "code",
   "execution_count": 113,
   "metadata": {},
   "outputs": [
    {
     "data": {
      "text/plain": [
       "1    58.3\n",
       "dtype: float64"
      ]
     },
     "execution_count": 113,
     "metadata": {},
     "output_type": "execute_result"
    }
   ],
   "source": [
    "(hotan['DEC'])-(hotan['JAN'])"
   ]
  },
  {
   "cell_type": "markdown",
   "metadata": {},
   "source": [
    "### Air pollution index has been increased in 'Hotan' City by 58.3."
   ]
  },
  {
   "cell_type": "markdown",
   "metadata": {},
   "source": [
    "## Plot piechart to show how much top 5 Countries are having most numbers of cities in percentage."
   ]
  },
  {
   "cell_type": "code",
   "execution_count": 114,
   "metadata": {},
   "outputs": [
    {
     "data": {
      "text/plain": [
       "USA        2894\n",
       "Japan       631\n",
       "China       524\n",
       "Canada      304\n",
       "Germany     204\n",
       "Name: Country, dtype: int64"
      ]
     },
     "execution_count": 114,
     "metadata": {},
     "output_type": "execute_result"
    }
   ],
   "source": [
    "p=df['Country'].value_counts()[:5]\n",
    "p"
   ]
  },
  {
   "cell_type": "code",
   "execution_count": 115,
   "metadata": {},
   "outputs": [
    {
     "data": {
      "text/plain": [
       "<AxesSubplot:ylabel='Country'>"
      ]
     },
     "execution_count": 115,
     "metadata": {},
     "output_type": "execute_result"
    },
    {
     "data": {
      "image/png": "[encoded data removed]",
      "text/plain": [
       "<Figure size 432x288 with 1 Axes>"
      ]
     },
     "metadata": {},
     "output_type": "display_data"
    }
   ],
   "source": [
    "p.plot.pie(autopct='%.f%%')"
   ]
  },
  {
   "cell_type": "markdown",
   "metadata": {},
   "source": [
    "### USA aquired highest i.e. 64% and Germany aquired lowest i.e. 4% from top 5 countries with most numbers of cities."
   ]
  },
  {
   "cell_type": "markdown",
   "metadata": {},
   "source": [
    "## Show difference of distributed curve between 2022 and 2021 using suitable plot."
   ]
  },
  {
   "cell_type": "code",
   "execution_count": 116,
   "metadata": {},
   "outputs": [
    {
     "data": {
      "image/png": "[encoded data removed]",
      "text/plain": [
       "<Figure size 1080x720 with 1 Axes>"
      ]
     },
     "metadata": {
      "needs_background": "light"
     },
     "output_type": "display_data"
    }
   ],
   "source": [
    "plt.figure(figsize=(15,10))\n",
    "sns.distplot(x=df['2021'])\n",
    "plt.show()"
   ]
  },
  {
   "cell_type": "code",
   "execution_count": 117,
   "metadata": {},
   "outputs": [
    {
     "data": {
      "image/png": "[encoded data removed]",
      "text/plain": [
       "<Figure size 1080x720 with 1 Axes>"
      ]
     },
     "metadata": {
      "needs_background": "light"
     },
     "output_type": "display_data"
    }
   ],
   "source": [
    "plt.figure(figsize=(15,10))\n",
    "sns.distplot(x=df['2022'])\n",
    "plt.show()"
   ]
  },
  {
   "cell_type": "markdown",
   "metadata": {},
   "source": [
    "### In 2021, distributed curve is near to 0.10.\n",
    "### In 2022, distributed curve is near to 0.9"
   ]
  }
 ],
 "metadata": {
  "kernelspec": {
   "display_name": "Python 3",
   "language": "python",
   "name": "python3"
  },
  "language_info": {
   "codemirror_mode": {
    "name": "ipython",
    "version": 3
   },
   "file_extension": ".py",
   "mimetype": "text/x-python",
   "name": "python",
   "nbconvert_exporter": "python",
   "pygments_lexer": "ipython3",
   "version": "3.8.5"
  }
 },
 "nbformat": 4,
 "nbformat_minor": 4
}
